{
 "cells": [
  {
   "cell_type": "code",
   "execution_count": 1,
   "id": "35ec0347",
   "metadata": {},
   "outputs": [
    {
     "name": "stdout",
     "output_type": "stream",
     "text": [
      "Defaulting to user installation because normal site-packages is not writeable\n",
      "Requirement already satisfied: bs4 in c:\\users\\hp\\appdata\\roaming\\python\\python39\\site-packages (0.0.1)\n",
      "Requirement already satisfied: beautifulsoup4 in c:\\programdata\\anaconda3\\lib\\site-packages (from bs4) (4.11.1)\n",
      "Requirement already satisfied: soupsieve>1.2 in c:\\programdata\\anaconda3\\lib\\site-packages (from beautifulsoup4->bs4) (2.3.1)\n",
      "Defaulting to user installation because normal site-packages is not writeable\n",
      "Requirement already satisfied: requests in c:\\programdata\\anaconda3\\lib\\site-packages (2.28.1)\n",
      "Requirement already satisfied: certifi>=2017.4.17 in c:\\programdata\\anaconda3\\lib\\site-packages (from requests) (2022.9.14)\n",
      "Requirement already satisfied: idna<4,>=2.5 in c:\\programdata\\anaconda3\\lib\\site-packages (from requests) (3.3)\n",
      "Requirement already satisfied: urllib3<1.27,>=1.21.1 in c:\\programdata\\anaconda3\\lib\\site-packages (from requests) (1.26.11)\n",
      "Requirement already satisfied: charset-normalizer<3,>=2 in c:\\programdata\\anaconda3\\lib\\site-packages (from requests) (2.0.4)\n"
     ]
    }
   ],
   "source": [
    "# Python program to display list of respected former presidents of India\n",
    "\n",
    "# install library (bs4) and request\n",
    "!pip install bs4\n",
    "!pip install requests\n"
   ]
  },
  {
   "cell_type": "code",
   "execution_count": 2,
   "id": "9cc52588",
   "metadata": {},
   "outputs": [
    {
     "name": "stdout",
     "output_type": "stream",
     "text": [
      "\n",
      "Shri Ram Nath Kovind (birth - 1945)\n",
      "Term of Office: 25 July, 2017 to 25 July, 2022 \n",
      "https://ramnathkovind.nic.in\n",
      "\n",
      "\n",
      "Shri Pranab Mukherjee (1935-2020)\n",
      "Term of Office: 25 July, 2012 to 25 July, 2017 \n",
      "http://pranabmukherjee.nic.in\n",
      "\n",
      "\n",
      "Smt Pratibha Devisingh Patil (birth - 1934)\n",
      "Term of Office: 25 July, 2007 to 25 July, 2012 \n",
      "http://pratibhapatil.nic.in\n",
      "\n",
      "\n",
      "DR. A.P.J. Abdul Kalam (1931-2015)\n",
      "Term of Office: 25 July, 2002 to 25 July, 2007 \n",
      "http://abdulkalam.nic.in\n",
      "\n",
      "\n",
      "Shri K. R. Narayanan (1920 - 2005)\n",
      "Term of Office: 25 July, 1997 to 25 July, 2002 \n",
      "\n",
      "\n",
      "Dr Shankar Dayal Sharma (1918-1999)\n",
      "Term of Office: 25 July, 1992 to 25 July, 1997 \n",
      "\n",
      "\n",
      "Shri R Venkataraman (1910-2009)\n",
      "Term of Office: 25 July, 1987 to 25 July, 1992 \n",
      "\n",
      "\n",
      "Giani Zail Singh (1916-1994)\n",
      "Term of Office: 25 July, 1982 to 25 July, 1987 \n",
      "\n",
      "\n",
      "Shri Neelam Sanjiva Reddy (1913-1996)\n",
      "Term of Office: 25 July, 1977 to 25 July, 1982 \n",
      "\n",
      "\n",
      "Dr. Fakhruddin Ali Ahmed (1905-1977)\n",
      "Term of Office: 24 August, 1974 to 11 February, 1977\n",
      "\n",
      "\n",
      "Shri Varahagiri Venkata Giri (1894-1980)\n",
      "Term of Office: 3 May, 1969 to 20 July, 1969 and 24 August, 1969 to 24 August, 1974\n",
      "\n",
      "\n",
      "Dr. Zakir Husain (1897-1969)\n",
      "Term of Office: 13 May, 1967 to 3 May, 1969\n",
      "\n",
      "\n",
      "Dr. Sarvepalli Radhakrishnan (1888-1975)\n",
      "Term of Office: 13 May, 1962 to 13 May, 1967\n",
      "\n",
      "\n",
      "Dr. Rajendra Prasad (1884-1963) \n",
      "Term of Office: 26 January, 1950 to 13 May, 1962\n",
      "\n"
     ]
    }
   ],
   "source": [
    "# import BeautifulSoup\n",
    "from bs4 import BeautifulSoup\n",
    "import requests\n",
    "\n",
    "# request presidentofindia.nic.in for webpage data\n",
    "page = requests.get('https://presidentofindia.nic.in/former-presidents.htm')\n",
    "page\n",
    "\n",
    "# extract presidentofindia.nic.in webpage data\n",
    "src = BeautifulSoup(page.content)\n",
    "\n",
    "# scrape data for information on former Presidents of India\n",
    "president = []\n",
    "for i in src.find_all(\"div\",class_=\"presidentListing\"):\n",
    "    president.append(i.text)\n",
    "\n",
    "# display data collected on former Presidents of India\n",
    "for val in range(0,len(president)):\n",
    "    print(president[val])"
   ]
  },
  {
   "cell_type": "code",
   "execution_count": null,
   "id": "6d8f223b",
   "metadata": {},
   "outputs": [],
   "source": []
  },
  {
   "cell_type": "code",
   "execution_count": null,
   "id": "acf68e13",
   "metadata": {},
   "outputs": [],
   "source": []
  }
 ],
 "metadata": {
  "kernelspec": {
   "display_name": "Python 3 (ipykernel)",
   "language": "python",
   "name": "python3"
  },
  "language_info": {
   "codemirror_mode": {
    "name": "ipython",
    "version": 3
   },
   "file_extension": ".py",
   "mimetype": "text/x-python",
   "name": "python",
   "nbconvert_exporter": "python",
   "pygments_lexer": "ipython3",
   "version": "3.9.13"
  }
 },
 "nbformat": 4,
 "nbformat_minor": 5
}
