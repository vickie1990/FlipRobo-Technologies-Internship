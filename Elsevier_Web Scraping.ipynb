{
 "cells": [
  {
   "cell_type": "code",
   "execution_count": 1,
   "id": "ae8a515d",
   "metadata": {},
   "outputs": [
    {
     "name": "stdout",
     "output_type": "stream",
     "text": [
      "Defaulting to user installation because normal site-packages is not writeable\n",
      "Requirement already satisfied: bs4 in c:\\users\\hp\\appdata\\roaming\\python\\python39\\site-packages (0.0.1)\n",
      "Requirement already satisfied: beautifulsoup4 in c:\\programdata\\anaconda3\\lib\\site-packages (from bs4) (4.11.1)\n",
      "Requirement already satisfied: soupsieve>1.2 in c:\\programdata\\anaconda3\\lib\\site-packages (from beautifulsoup4->bs4) (2.3.1)\n",
      "Defaulting to user installation because normal site-packages is not writeable\n",
      "Requirement already satisfied: requests in c:\\programdata\\anaconda3\\lib\\site-packages (2.28.1)\n",
      "Requirement already satisfied: certifi>=2017.4.17 in c:\\programdata\\anaconda3\\lib\\site-packages (from requests) (2022.9.14)\n",
      "Requirement already satisfied: urllib3<1.27,>=1.21.1 in c:\\programdata\\anaconda3\\lib\\site-packages (from requests) (1.26.11)\n",
      "Requirement already satisfied: idna<4,>=2.5 in c:\\programdata\\anaconda3\\lib\\site-packages (from requests) (3.3)\n",
      "Requirement already satisfied: charset-normalizer<3,>=2 in c:\\programdata\\anaconda3\\lib\\site-packages (from requests) (2.0.4)\n"
     ]
    }
   ],
   "source": [
    "# Python program to scrape data for most downloaded articles from AI in last 90 days\n",
    "\n",
    "# install library (bs4) and request\n",
    "!pip install bs4\n",
    "!pip install requests\n"
   ]
  },
  {
   "cell_type": "code",
   "execution_count": 7,
   "id": "0035c07a",
   "metadata": {},
   "outputs": [
    {
     "name": "stdout",
     "output_type": "stream",
     "text": [
      "1 Reward is enough | Silver, David, Singh, Satinder, Precup, Doina, Sutton, Richard S.  | October 2021 | https://www.sciencedirect.com/science/article/pii/S0004370221000862 \n",
      "\n",
      "2 Making sense of raw input | Evans, Richard, Bošnjak, Matko and 5 more | October 2021 | https://www.sciencedirect.com/science/article/pii/S0004370221000722 \n",
      "\n",
      "3 Law and logic: A review from an argumentation perspective | Prakken, Henry, Sartor, Giovanni  | October 2015 | https://www.sciencedirect.com/science/article/pii/S0004370215000910 \n",
      "\n",
      "4 Creativity and artificial intelligence | Boden, Margaret A.  | August 1998 | https://www.sciencedirect.com/science/article/pii/S0004370298000551 \n",
      "\n",
      "5 Artificial cognition for social human–robot interaction: An implementation | Lemaignan, Séverin, Warnier, Mathieu and 3 more | June 2017 | https://www.sciencedirect.com/science/article/pii/S0004370216300790 \n",
      "\n",
      "6 Explanation in artificial intelligence: Insights from the social sciences | Miller, Tim  | February 2019 | https://www.sciencedirect.com/science/article/pii/S0004370218305988 \n",
      "\n",
      "7 Making sense of sensory input | Evans, Richard, Hernández-Orallo, José and 3 more | April 2021 | https://www.sciencedirect.com/science/article/pii/S0004370220301855 \n",
      "\n",
      "8 Conflict-based search for optimal multi-agent pathfinding | Sharon, Guni, Stern, Roni, Felner, Ariel, Sturtevant, Nathan R.  | February 2015 | https://www.sciencedirect.com/science/article/pii/S0004370214001386 \n",
      "\n",
      "9 Between MDPs and semi-MDPs: A framework for temporal abstraction in reinforcement learning | Sutton, Richard S., Precup, Doina, Singh, Satinder  | August 1999 | https://www.sciencedirect.com/science/article/pii/S0004370299000521 \n",
      "\n",
      "10 The Hanabi challenge: A new frontier for AI research | Bard, Nolan, Foerster, Jakob N. and 13 more | March 2020 | https://www.sciencedirect.com/science/article/pii/S0004370219300116 \n",
      "\n",
      "11 Evaluating XAI: A comparison of rule-based and example-based explanations | van der Waa, Jasper, Nieuwburg, Elisabeth, Cremers, Anita, Neerincx, Mark  | February 2021 | https://www.sciencedirect.com/science/article/pii/S0004370220301533 \n",
      "\n",
      "12 Argumentation in artificial intelligence | Bench-Capon, T.J.M., Dunne, Paul E.  | October 2007 | https://www.sciencedirect.com/science/article/pii/S0004370207000793 \n",
      "\n",
      "13 Algorithms for computing strategies in two-player simultaneous move games | Bošanský, Branislav, Lisý, Viliam and 3 more | August 2016 | https://www.sciencedirect.com/science/article/pii/S0004370216300285 \n",
      "\n",
      "14 Multiple object tracking: A literature review | Luo, Wenhan, Xing, Junliang and 4 more | April 2021 | https://www.sciencedirect.com/science/article/pii/S0004370220301958 \n",
      "\n",
      "15 Selection of relevant features and examples in machine learning | Blum, Avrim L., Langley, Pat  | December 1997 | https://www.sciencedirect.com/science/article/pii/S0004370297000635 \n",
      "\n",
      "16 A survey of inverse reinforcement learning: Challenges, methods and progress | Arora, Saurabh, Doshi, Prashant  | August 2021 | https://www.sciencedirect.com/science/article/pii/S0004370221000515 \n",
      "\n",
      "17 Explaining individual predictions when features are dependent: More accurate approximations to Shapley values | Aas, Kjersti, Jullum, Martin, Løland, Anders  | September 2021 | https://www.sciencedirect.com/science/article/pii/S0004370221000539 \n",
      "\n",
      "18 A review of possible effects of cognitive biases on interpretation of rule-based machine learning models | Kliegr, Tomáš, Bahník, Štěpán, Fürnkranz, Johannes  | June 2021 | https://www.sciencedirect.com/science/article/pii/S0004370221000096 \n",
      "\n",
      "19 Integrating social power into the decision-making of cognitive agents | Pereira, Gonçalo, Prada, Rui, Santos, Pedro A.  | December 2016 | https://www.sciencedirect.com/science/article/pii/S0004370216300868 \n",
      "\n",
      "20 “That's (not) the output I expected!” On the role of end user expectations in creating explanations of AI systems | Riveiro, Maria, Thill, Serge  | September 2021 | https://www.sciencedirect.com/science/article/pii/S0004370221000588 \n",
      "\n",
      "21 Explaining black-box classifiers using post-hoc explanations-by-example: The effect of explanations and error-rates in XAI user studies | Kenny, Eoin M., Ford, Courtney, Quinn, Molly, Keane, Mark T.  | May 2021 | https://www.sciencedirect.com/science/article/pii/S0004370221000102 \n",
      "\n",
      "22 Algorithm runtime prediction: Methods & evaluation | Hutter, Frank, Xu, Lin, Hoos, Holger H., Leyton-Brown, Kevin  | January 2014 | https://www.sciencedirect.com/science/article/pii/S0004370213001082 \n",
      "\n",
      "23 Wrappers for feature subset selection | Kohavi, Ron, John, George H.  | December 1997 | https://www.sciencedirect.com/science/article/pii/S000437029700043X \n",
      "\n",
      "24 Commonsense visual sensemaking for autonomous driving – On generalised neurosymbolic online abduction integrating vision and semantics | Suchan, Jakob, Bhatt, Mehul, Varadarajan, Srikrishna  | October 2021 | https://www.sciencedirect.com/science/article/pii/S0004370221000734 \n",
      "\n",
      "25 Quantum computation, quantum theory and AI | Ying, Mingsheng  | February 2010 | https://www.sciencedirect.com/science/article/pii/S0004370209001398 \n",
      "\n"
     ]
    }
   ],
   "source": [
    "# import BeautifulSoup\n",
    "from bs4 import BeautifulSoup\n",
    "import requests\n",
    "\n",
    "# request Elsevier webpage for data\n",
    "page = requests.get('https://www.journals.elsevier.com/artificial-intelligence/most-downloaded-articles')\n",
    "page\n",
    "\n",
    "# extract data from Elsevier webpage\n",
    "src = BeautifulSoup(page.content)\n",
    "\n",
    "# scrape data for title of articles/research paper on AI \n",
    "title = []\n",
    "for i in src.find_all(\"h2\",class_=\"sc-1qrq3sd-1 gRGSUS sc-1nmom32-0 sc-1nmom32-1 btcbYu goSKRg\"):\n",
    "    title.append(i.text.replace('\\n',''))\n",
    "\n",
    "# scrape data for author name\n",
    "author = []\n",
    "for i in src.find_all(\"span\",class_=\"sc-1w3fpd7-0 dnCnAO\"):\n",
    "    author.append(i.text.replace('\\n',''))\n",
    "\n",
    "# scrape data for article publishing date\n",
    "pblsh_date = []\n",
    "for i in src.find_all(\"span\",class_=\"sc-1thf9ly-2 dvggWt\"):\n",
    "    pblsh_date.append(i.text.replace('\\n',''))\n",
    "\n",
    "# scrape data for URL for research paper\n",
    "ppr_URL = []\n",
    "for i in src.find_all(\"a\",class_=\"sc-5smygv-0 fIXTHm\"):\n",
    "    ppr_URL.append(i['href'])\n",
    "\n",
    "# display to data collected on articles (most downloaded) on AI from Elsevier webpage\n",
    "for val in range(0,len(title)):\n",
    "    print(val+1,title[val],'|',author[val],'|',pblsh_date[val],'|',ppr_URL[val],'\\n')\n",
    "    \n",
    "\n"
   ]
  },
  {
   "cell_type": "code",
   "execution_count": null,
   "id": "54a68e9f",
   "metadata": {},
   "outputs": [],
   "source": []
  }
 ],
 "metadata": {
  "kernelspec": {
   "display_name": "Python 3 (ipykernel)",
   "language": "python",
   "name": "python3"
  },
  "language_info": {
   "codemirror_mode": {
    "name": "ipython",
    "version": 3
   },
   "file_extension": ".py",
   "mimetype": "text/x-python",
   "name": "python",
   "nbconvert_exporter": "python",
   "pygments_lexer": "ipython3",
   "version": "3.9.13"
  }
 },
 "nbformat": 4,
 "nbformat_minor": 5
}
