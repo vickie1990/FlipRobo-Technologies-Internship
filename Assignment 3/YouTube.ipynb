{
 "cells": [
  {
   "cell_type": "code",
   "execution_count": 1,
   "id": "d9a9c5f8",
   "metadata": {},
   "outputs": [
    {
     "name": "stdout",
     "output_type": "stream",
     "text": [
      "Defaulting to user installation because normal site-packages is not writeable\n",
      "Requirement already satisfied: selenium in c:\\users\\hp\\appdata\\roaming\\python\\python39\\site-packages (4.7.2)\n",
      "Requirement already satisfied: urllib3[socks]~=1.26 in c:\\programdata\\anaconda3\\lib\\site-packages (from selenium) (1.26.11)\n",
      "Requirement already satisfied: trio-websocket~=0.9 in c:\\users\\hp\\appdata\\roaming\\python\\python39\\site-packages (from selenium) (0.9.2)\n",
      "Requirement already satisfied: certifi>=2021.10.8 in c:\\programdata\\anaconda3\\lib\\site-packages (from selenium) (2022.9.14)\n",
      "Requirement already satisfied: trio~=0.17 in c:\\users\\hp\\appdata\\roaming\\python\\python39\\site-packages (from selenium) (0.22.0)\n",
      "Requirement already satisfied: attrs>=19.2.0 in c:\\programdata\\anaconda3\\lib\\site-packages (from trio~=0.17->selenium) (21.4.0)\n",
      "Requirement already satisfied: sortedcontainers in c:\\programdata\\anaconda3\\lib\\site-packages (from trio~=0.17->selenium) (2.4.0)\n",
      "Requirement already satisfied: idna in c:\\programdata\\anaconda3\\lib\\site-packages (from trio~=0.17->selenium) (3.3)\n",
      "Requirement already satisfied: sniffio in c:\\programdata\\anaconda3\\lib\\site-packages (from trio~=0.17->selenium) (1.2.0)\n",
      "Requirement already satisfied: exceptiongroup>=1.0.0rc9 in c:\\users\\hp\\appdata\\roaming\\python\\python39\\site-packages (from trio~=0.17->selenium) (1.0.4)\n",
      "Requirement already satisfied: async-generator>=1.9 in c:\\users\\hp\\appdata\\roaming\\python\\python39\\site-packages (from trio~=0.17->selenium) (1.10)\n",
      "Requirement already satisfied: cffi>=1.14 in c:\\programdata\\anaconda3\\lib\\site-packages (from trio~=0.17->selenium) (1.15.1)\n",
      "Requirement already satisfied: outcome in c:\\users\\hp\\appdata\\roaming\\python\\python39\\site-packages (from trio~=0.17->selenium) (1.2.0)\n",
      "Requirement already satisfied: wsproto>=0.14 in c:\\users\\hp\\appdata\\roaming\\python\\python39\\site-packages (from trio-websocket~=0.9->selenium) (1.2.0)\n",
      "Requirement already satisfied: PySocks!=1.5.7,<2.0,>=1.5.6 in c:\\programdata\\anaconda3\\lib\\site-packages (from urllib3[socks]~=1.26->selenium) (1.7.1)\n",
      "Requirement already satisfied: pycparser in c:\\programdata\\anaconda3\\lib\\site-packages (from cffi>=1.14->trio~=0.17->selenium) (2.21)\n",
      "Requirement already satisfied: h11<1,>=0.9.0 in c:\\users\\hp\\appdata\\roaming\\python\\python39\\site-packages (from wsproto>=0.14->trio-websocket~=0.9->selenium) (0.14.0)\n"
     ]
    }
   ],
   "source": [
    "!pip install selenium"
   ]
  },
  {
   "cell_type": "markdown",
   "id": "d2b7f644",
   "metadata": {},
   "source": [
    "Q.9 Write a program to extract at least 500 Comments, Comment upvote and time when comment was posted from any YouTube Video."
   ]
  },
  {
   "cell_type": "code",
   "execution_count": 2,
   "id": "ffbde810",
   "metadata": {},
   "outputs": [],
   "source": [
    "import pandas as pd\n",
    "import selenium\n",
    "from selenium import webdriver\n",
    "import time\n",
    "from selenium.common.exceptions import NoSuchElementException\n",
    "import warnings\n",
    "import requests\n",
    "warnings.filterwarnings('ignore')\n",
    "from selenium.webdriver.common.by import By\n"
   ]
  },
  {
   "cell_type": "code",
   "execution_count": 3,
   "id": "3b9c8058",
   "metadata": {},
   "outputs": [],
   "source": [
    "driver=webdriver.Chrome(r'C:\\Users\\hp\\Downloads\\chromedriver_win32\\chromedriver.exe')"
   ]
  },
  {
   "cell_type": "code",
   "execution_count": 4,
   "id": "a31da9ef",
   "metadata": {},
   "outputs": [],
   "source": [
    "driver.get(\"https://www.youtube.com/\")"
   ]
  },
  {
   "cell_type": "code",
   "execution_count": 5,
   "id": "87ceb51b",
   "metadata": {},
   "outputs": [
    {
     "data": {
      "text/plain": [
       "<selenium.webdriver.remote.webelement.WebElement (session=\"07968f47160b151201cdd1893728ae3c\", element=\"33907f0c-f36f-44f6-a3c2-e601fbe3f585\")>"
      ]
     },
     "execution_count": 5,
     "metadata": {},
     "output_type": "execute_result"
    }
   ],
   "source": [
    "video=driver.find_element(By.XPATH,'/html/body/ytd-app/div[1]/ytd-page-manager/ytd-browse/ytd-two-column-browse-results-renderer/div[1]/ytd-rich-grid-renderer/div[6]/ytd-rich-grid-row[1]/div/ytd-rich-item-renderer[1]/div/ytd-rich-grid-media/div[1]/div[2]/div[1]/h3/a/yt-formatted-string')\n",
    "video"
   ]
  },
  {
   "cell_type": "code",
   "execution_count": 6,
   "id": "b4b79142",
   "metadata": {},
   "outputs": [],
   "source": [
    "video.click()"
   ]
  },
  {
   "cell_type": "code",
   "execution_count": 7,
   "id": "065593b8",
   "metadata": {},
   "outputs": [],
   "source": [
    "Comments=[]\n",
    "Comment_upvote=[]\n",
    "Time_posted=[] "
   ]
  },
  {
   "cell_type": "code",
   "execution_count": 24,
   "id": "107966e4",
   "metadata": {},
   "outputs": [
    {
     "data": {
      "text/plain": [
       "20"
      ]
     },
     "execution_count": 24,
     "metadata": {},
     "output_type": "execute_result"
    }
   ],
   "source": [
    "comments_tags=driver.find_elements(By.XPATH,'//ytd-comment-thread-renderer[@class=\"style-scope ytd-item-section-renderer\"]')\n",
    "len(comments_tags)"
   ]
  },
  {
   "cell_type": "code",
   "execution_count": 25,
   "id": "25020038",
   "metadata": {},
   "outputs": [],
   "source": [
    "comments=[]\n",
    "cnt=0\n",
    "for i in comments_tags:\n",
    "    if cnt%2!=0:\n",
    "        comments.append(i.text)\n",
    "    cnt+=1"
   ]
  },
  {
   "cell_type": "code",
   "execution_count": 26,
   "id": "ccdbe0b2",
   "metadata": {},
   "outputs": [
    {
     "data": {
      "text/plain": [
       "['Lallu Khab\\n3 weeks ago\\nThis voice is just wooooooow \\n12\\nReply',\n",
       " 'Mohammed Rafi\\n7 days ago\\nBahut sundar gaana\\n1\\nReply',\n",
       " 'Abhishekkumar_mahto\\n6 days ago\\nmai Is song ko 10 bar se v jada sun chuki hi ye mera favorite song hai\\n1\\nReply',\n",
       " 'TECHNICAL TANVEER\\n9 months ago\\n2 years is later and this song is still hits defferent.Truly a masterpiece\\n263\\nReply\\n8 replies',\n",
       " \"New Hindi Songs\\n4 months ago\\nIt's 2022 still the magic of this song never becomes old \\n55\\nReply\\n1 reply\",\n",
       " 'faixan xhan\\n7 days ago\\nI came for this 1:22\\n1\\nReply',\n",
       " 'Bollywood Hindi Songs\\n3 months ago\\nAfter 3 years, heard the song, the old memories became fresh.\\n17\\nReply\\n1 reply',\n",
       " 'Amiya Ranjan Dehury\\n8 days ago\\n️\\n1\\nReply',\n",
       " 'Hindi Hits LOve\\n1 month ago\\nThe saddest part of life is when the person who gives you the best memories becomes a memory \\n12\\nReply\\n1 reply',\n",
       " 'DANGER Boi\\n11 days ago\\nAwesome\\n1\\nReply']"
      ]
     },
     "execution_count": 26,
     "metadata": {},
     "output_type": "execute_result"
    }
   ],
   "source": [
    "comments"
   ]
  },
  {
   "cell_type": "code",
   "execution_count": 30,
   "id": "acb8f227",
   "metadata": {},
   "outputs": [
    {
     "data": {
      "text/plain": [
       "40"
      ]
     },
     "execution_count": 30,
     "metadata": {},
     "output_type": "execute_result"
    }
   ],
   "source": [
    "upvotes_tags=driver.find_elements(By.XPATH,'//span[@class=\"style-scope ytd-comment-action-buttons-renderer\"]')\n",
    "len(upvotes_tags)"
   ]
  },
  {
   "cell_type": "code",
   "execution_count": 31,
   "id": "a6899352",
   "metadata": {},
   "outputs": [],
   "source": [
    "comments_upvote=[]\n",
    "cnt=0\n",
    "for i in upvotes_tags:\n",
    "    if cnt%2!=0:\n",
    "        comments_upvote.append(i.text)\n",
    "    cnt+=1"
   ]
  },
  {
   "cell_type": "code",
   "execution_count": 32,
   "id": "4fdfecac",
   "metadata": {},
   "outputs": [
    {
     "data": {
      "text/plain": [
       "['1.7K',\n",
       " '12',\n",
       " '1',\n",
       " '1',\n",
       " '8',\n",
       " '1',\n",
       " '6.8K',\n",
       " '263',\n",
       " '44',\n",
       " '55',\n",
       " '378',\n",
       " '1',\n",
       " '406',\n",
       " '17',\n",
       " '',\n",
       " '1',\n",
       " '94',\n",
       " '12',\n",
       " '14',\n",
       " '1']"
      ]
     },
     "execution_count": 32,
     "metadata": {},
     "output_type": "execute_result"
    }
   ],
   "source": [
    "comments_upvote"
   ]
  },
  {
   "cell_type": "code",
   "execution_count": 33,
   "id": "1bd3953d",
   "metadata": {},
   "outputs": [
    {
     "data": {
      "text/plain": [
       "20"
      ]
     },
     "execution_count": 33,
     "metadata": {},
     "output_type": "execute_result"
    }
   ],
   "source": [
    "time_tags=driver.find_elements(By.XPATH,'//yt-formatted-string[@class=\"published-time-text style-scope ytd-comment-renderer\"]')\n",
    "len(time_tags)"
   ]
  },
  {
   "cell_type": "code",
   "execution_count": 34,
   "id": "1511d05f",
   "metadata": {},
   "outputs": [],
   "source": [
    "Time_posted=[]\n",
    "for i in time_tags:\n",
    "    Time_posted.append(i.text)"
   ]
  },
  {
   "cell_type": "code",
   "execution_count": 35,
   "id": "ac9353bd",
   "metadata": {},
   "outputs": [
    {
     "data": {
      "text/plain": [
       "['1 year ago',\n",
       " '3 weeks ago',\n",
       " '1 day ago',\n",
       " '7 days ago',\n",
       " '13 days ago',\n",
       " '6 days ago',\n",
       " '3 years ago',\n",
       " '9 months ago',\n",
       " '3 months ago',\n",
       " '4 months ago',\n",
       " '1 year ago',\n",
       " '7 days ago',\n",
       " '3 years ago (edited)',\n",
       " '3 months ago',\n",
       " '5 days ago',\n",
       " '8 days ago',\n",
       " '3 years ago (edited)',\n",
       " '1 month ago',\n",
       " '3 months ago',\n",
       " '11 days ago']"
      ]
     },
     "execution_count": 35,
     "metadata": {},
     "output_type": "execute_result"
    }
   ],
   "source": [
    "Time_posted"
   ]
  },
  {
   "cell_type": "code",
   "execution_count": null,
   "id": "55b2412d",
   "metadata": {},
   "outputs": [],
   "source": []
  }
 ],
 "metadata": {
  "kernelspec": {
   "display_name": "Python 3 (ipykernel)",
   "language": "python",
   "name": "python3"
  },
  "language_info": {
   "codemirror_mode": {
    "name": "ipython",
    "version": 3
   },
   "file_extension": ".py",
   "mimetype": "text/x-python",
   "name": "python",
   "nbconvert_exporter": "python",
   "pygments_lexer": "ipython3",
   "version": "3.9.13"
  }
 },
 "nbformat": 4,
 "nbformat_minor": 5
}
