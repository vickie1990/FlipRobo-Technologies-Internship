{
 "cells": [
  {
   "cell_type": "code",
   "execution_count": 1,
   "id": "3b92bf19",
   "metadata": {},
   "outputs": [
    {
     "name": "stdout",
     "output_type": "stream",
     "text": [
      "Defaulting to user installation because normal site-packages is not writeable\n",
      "Requirement already satisfied: selenium in c:\\users\\hp\\appdata\\roaming\\python\\python39\\site-packages (4.7.2)\n",
      "Requirement already satisfied: trio~=0.17 in c:\\users\\hp\\appdata\\roaming\\python\\python39\\site-packages (from selenium) (0.22.0)\n",
      "Requirement already satisfied: trio-websocket~=0.9 in c:\\users\\hp\\appdata\\roaming\\python\\python39\\site-packages (from selenium) (0.9.2)\n",
      "Requirement already satisfied: urllib3[socks]~=1.26 in c:\\programdata\\anaconda3\\lib\\site-packages (from selenium) (1.26.11)\n",
      "Requirement already satisfied: certifi>=2021.10.8 in c:\\programdata\\anaconda3\\lib\\site-packages (from selenium) (2022.9.14)\n",
      "Requirement already satisfied: exceptiongroup>=1.0.0rc9 in c:\\users\\hp\\appdata\\roaming\\python\\python39\\site-packages (from trio~=0.17->selenium) (1.0.4)\n",
      "Requirement already satisfied: idna in c:\\programdata\\anaconda3\\lib\\site-packages (from trio~=0.17->selenium) (3.3)\n",
      "Requirement already satisfied: outcome in c:\\users\\hp\\appdata\\roaming\\python\\python39\\site-packages (from trio~=0.17->selenium) (1.2.0)\n",
      "Requirement already satisfied: attrs>=19.2.0 in c:\\programdata\\anaconda3\\lib\\site-packages (from trio~=0.17->selenium) (21.4.0)\n",
      "Requirement already satisfied: async-generator>=1.9 in c:\\users\\hp\\appdata\\roaming\\python\\python39\\site-packages (from trio~=0.17->selenium) (1.10)\n",
      "Requirement already satisfied: cffi>=1.14 in c:\\programdata\\anaconda3\\lib\\site-packages (from trio~=0.17->selenium) (1.15.1)\n",
      "Requirement already satisfied: sortedcontainers in c:\\programdata\\anaconda3\\lib\\site-packages (from trio~=0.17->selenium) (2.4.0)\n",
      "Requirement already satisfied: sniffio in c:\\programdata\\anaconda3\\lib\\site-packages (from trio~=0.17->selenium) (1.2.0)\n",
      "Requirement already satisfied: wsproto>=0.14 in c:\\users\\hp\\appdata\\roaming\\python\\python39\\site-packages (from trio-websocket~=0.9->selenium) (1.2.0)\n",
      "Requirement already satisfied: PySocks!=1.5.7,<2.0,>=1.5.6 in c:\\programdata\\anaconda3\\lib\\site-packages (from urllib3[socks]~=1.26->selenium) (1.7.1)\n",
      "Requirement already satisfied: pycparser in c:\\programdata\\anaconda3\\lib\\site-packages (from cffi>=1.14->trio~=0.17->selenium) (2.21)\n",
      "Requirement already satisfied: h11<1,>=0.9.0 in c:\\users\\hp\\appdata\\roaming\\python\\python39\\site-packages (from wsproto>=0.14->trio-websocket~=0.9->selenium) (0.14.0)\n"
     ]
    }
   ],
   "source": [
    "!pip install selenium"
   ]
  },
  {
   "cell_type": "code",
   "execution_count": 2,
   "id": "cf3018b9",
   "metadata": {},
   "outputs": [],
   "source": [
    "import pandas as pd\n",
    "import selenium\n",
    "from selenium import webdriver\n",
    "import time\n",
    "from selenium.common.exceptions import NoSuchElementException\n",
    "import warnings\n",
    "import requests\n",
    "warnings.filterwarnings('ignore')\n",
    "from selenium.webdriver.common.by import By"
   ]
  },
  {
   "cell_type": "code",
   "execution_count": 3,
   "id": "ab57f4d1",
   "metadata": {},
   "outputs": [],
   "source": [
    "driver=webdriver.Chrome(r'C:\\Users\\hp\\Downloads\\chromedriver_win32\\chromedriver.exe')"
   ]
  },
  {
   "cell_type": "code",
   "execution_count": 4,
   "id": "66287915",
   "metadata": {},
   "outputs": [],
   "source": [
    "driver.get(\"https://www.amazon.in/?tag=operadesktop-21\")"
   ]
  },
  {
   "cell_type": "code",
   "execution_count": 5,
   "id": "cfab4fc9",
   "metadata": {},
   "outputs": [
    {
     "data": {
      "text/plain": [
       "<selenium.webdriver.remote.webelement.WebElement (session=\"aca81e05db6eae68e21b575862e4786b\", element=\"9cedf50c-22e2-434b-a408-ae5a4085949c\")>"
      ]
     },
     "execution_count": 5,
     "metadata": {},
     "output_type": "execute_result"
    }
   ],
   "source": [
    "Search=driver.find_element(By.XPATH,'/html/body/div[1]/header/div/div[1]/div[2]/div/form/div[2]/div[1]/input')\n",
    "Search"
   ]
  },
  {
   "cell_type": "code",
   "execution_count": 6,
   "id": "58bb98dd",
   "metadata": {},
   "outputs": [
    {
     "name": "stdout",
     "output_type": "stream",
     "text": [
      "Please search here smartphone\n",
      "User input:- smartphone\n"
     ]
    }
   ],
   "source": [
    "name=input(\"Please search here \")\n",
    "print(\"User input:-\", name)"
   ]
  },
  {
   "cell_type": "code",
   "execution_count": 7,
   "id": "2d1bcd9d",
   "metadata": {},
   "outputs": [],
   "source": [
    "Search.send_keys(name)"
   ]
  },
  {
   "cell_type": "code",
   "execution_count": 8,
   "id": "b6550a24",
   "metadata": {},
   "outputs": [
    {
     "data": {
      "text/plain": [
       "<selenium.webdriver.remote.webelement.WebElement (session=\"aca81e05db6eae68e21b575862e4786b\", element=\"187ee491-e01b-433c-8452-8fbecb1a29fc\")>"
      ]
     },
     "execution_count": 8,
     "metadata": {},
     "output_type": "execute_result"
    }
   ],
   "source": [
    "search_btn=driver.find_element(By.XPATH,'/html/body/div[1]/header/div/div[1]/div[2]/div/form/div[3]/div/span/input')\n",
    "search_btn"
   ]
  },
  {
   "cell_type": "code",
   "execution_count": 9,
   "id": "8b3d2e04",
   "metadata": {},
   "outputs": [],
   "source": [
    "search_btn.click()"
   ]
  },
  {
   "cell_type": "code",
   "execution_count": 12,
   "id": "2dd3a216",
   "metadata": {},
   "outputs": [
    {
     "data": {
      "text/plain": [
       "['https://www.amazon.in/s?k=smartphone&page=2&qid=1671614727&ref=sr_pg_2',\n",
       " 'https://www.amazon.in/s?k=smartphone&qid=1671615742&ref=sr_pg_1']"
      ]
     },
     "execution_count": 12,
     "metadata": {},
     "output_type": "execute_result"
    }
   ],
   "source": [
    "Url1=[]\n",
    "for i in range(0,2,1):\n",
    "    time.sleep(3)\n",
    "    try:\n",
    "        next=driver.find_element(By.XPATH,\"//a[@class='s-pagination-item s-pagination-button']\")\n",
    "        Url1.append(next.get_attribute(\"href\"))\n",
    "        btn=driver.find_element(By.XPATH,\"//a[@class='s-pagination-item s-pagination-next s-pagination-button s-pagination-separator']\")\n",
    "        btn.click()\n",
    "    except:\n",
    "        next=driver.find_element(By.XPATH,\"//a[@class='s-pagination-item s-pagination-previous s-pagination-disabled']\")\n",
    "        Url1.append(next.get_attribute(\"href\"))\n",
    "Url1"
   ]
  },
  {
   "cell_type": "code",
   "execution_count": 13,
   "id": "f966d6fb",
   "metadata": {},
   "outputs": [],
   "source": [
    "Name_ofthe_product=[]\n",
    "Price=[]\n",
    "Return_on_Exchange=[]\n",
    "Expected_delivery=[]\n",
    "Availability=[]\n",
    "Product_URL=[]"
   ]
  },
  {
   "cell_type": "code",
   "execution_count": 14,
   "id": "c677563c",
   "metadata": {},
   "outputs": [
    {
     "data": {
      "text/plain": [
       "['https://www.amazon.in/sspa/click?ie=UTF8&spc=MTo1NTk2ODMwNjY2MTc1NjU4OjE2NzE2MTU3NDY6c3BfYXRmX25leHQ6MjAxMDM1NjU4Mzg3OTg6OjA6Og&url=%2FSamsung-Galaxy-Storage-MediaTek-Battery%2Fdp%2FB0BMGB3CH9%2Fref%3Dsr_1_33_sspa%3Fkeywords%3Dsmartphone%26qid%3D1671615746%26sr%3D8-33-spons%26sp_csd%3Dd2lkZ2V0TmFtZT1zcF9hdGZfbmV4dA%26psc%3D1',\n",
       " 'https://www.amazon.in/sspa/click?ie=UTF8&spc=MTo1NTk2ODMwNjY2MTc1NjU4OjE2NzE2MTU3NDY6c3BfYXRmX25leHQ6MjAwNzgxMDk0ODI4OTg6OjA6Og&url=%2FNokia-Android-Smartphone-Battery-Storage%2Fdp%2FB09Y9FBBJ9%2Fref%3Dsr_1_34_sspa%3Fkeywords%3Dsmartphone%26qid%3D1671615746%26sr%3D8-34-spons%26sp_csd%3Dd2lkZ2V0TmFtZT1zcF9hdGZfbmV4dA%26psc%3D1',\n",
       " 'https://www.amazon.in/Tecno-Spark-Pro-Interstellar-64GB/dp/B09MWCWRMP/ref=sr_1_35?keywords=smartphone&qid=1671615746&sr=8-35',\n",
       " 'https://www.amazon.in/Redmi-Storage-Qualcomm%C2%AE-SnapdragonTM-Included/dp/B09QS8V5N8/ref=sr_1_36?keywords=smartphone&qid=1671615746&sr=8-36',\n",
       " 'https://www.amazon.in/Redmi-Note-Frost-White-Storage/dp/B0948NV5PH/ref=sr_1_37?keywords=smartphone&qid=1671615746&sr=8-37',\n",
       " 'https://www.amazon.in/MI-REDMI-Sport-Coral-Green/dp/B09KCM5C4V/ref=sr_1_33?keywords=smartphone&qid=1671615746&sr=8-33',\n",
       " 'https://www.amazon.in/iQOO-Snapdragon-Segment-Purchased-Separately/dp/B07WGPKWB3/ref=sr_1_34?keywords=smartphone&qid=1671615746&sr=8-34',\n",
       " 'https://www.amazon.in/Redmi-9A-Sport-Octa-core-Processor/dp/B09GFPVFDV/ref=sr_1_35?keywords=smartphone&qid=1671615746&sr=8-35',\n",
       " 'https://www.amazon.in/realme-narzo-Carbon-Black-Storage/dp/B09FKB3446/ref=sr_1_36?keywords=smartphone&qid=1671615746&sr=8-36',\n",
       " 'https://www.amazon.in/Samsung-Stardust-Storage-6000mAh-Battery/dp/B0B4F2K7N1/ref=sr_1_37?keywords=smartphone&qid=1671615746&sr=8-37',\n",
       " 'https://www.amazon.in/sspa/click?ie=UTF8&spc=MTo1NTk2ODMwNjY2MTc1NjU4OjE2NzE2MTU3NDY6c3BfbXRmOjIwMDQ2MjM4NjExMDk4OjowOjo&url=%2FSamsung-Storage-sAmoled-Purchased-Separately%2Fdp%2FB09XJ3MBTL%2Fref%3Dsr_1_38_sspa%3Fkeywords%3Dsmartphone%26qid%3D1671615746%26sr%3D8-38-spons%26sp_csd%3Dd2lkZ2V0TmFtZT1zcF9tdGY%26psc%3D1',\n",
       " 'https://www.amazon.in/sspa/click?ie=UTF8&spc=MTo1NTk2ODMwNjY2MTc1NjU4OjE2NzE2MTU3NDY6c3BfbXRmOjIwMDk2Nzk3MzMwNTk4OjowOjo&url=%2FVivo-Drizzling-Storage-Additional-Exchange%2Fdp%2FB07WHQ4S68%2Fref%3Dsr_1_39_sspa%3Fkeywords%3Dsmartphone%26qid%3D1671615746%26sr%3D8-39-spons%26sp_csd%3Dd2lkZ2V0TmFtZT1zcF9tdGY%26psc%3D1',\n",
       " 'https://www.amazon.in/Redmi-9A-Sport-Octa-core-Processor/dp/B09GFPN6TP/ref=sr_1_40?keywords=smartphone&qid=1671615746&sr=8-40',\n",
       " 'https://www.amazon.in/Redmi-Storage-Super-Amoled-Display/dp/B0948NNY3W/ref=sr_1_41?keywords=smartphone&qid=1671615746&sr=8-41',\n",
       " 'https://www.amazon.in/OnePlus-Nord-Black-128GB-Storage/dp/B09WQY65HN/ref=sr_1_42?keywords=smartphone&qid=1671615746&sr=8-42',\n",
       " 'https://www.amazon.in/Redmi-Stealth-Additional-Exchange-Included/dp/B09T2S8X9C/ref=sr_1_43?keywords=smartphone&qid=1671615746&sr=8-43',\n",
       " 'https://www.amazon.in/realme-Storage-Processor-Triple-Display/dp/B09RMQYHLH/ref=sr_1_44?keywords=smartphone&qid=1671615746&sr=8-44',\n",
       " 'https://www.amazon.in/Redmi-9A-3GB-32GB-Storage/dp/B08697N43M/ref=sr_1_45?keywords=smartphone&qid=1671615746&sr=8-45',\n",
       " 'https://www.amazon.in/Tecno-Extended-Virtual-Dimensity-Processor/dp/B09QQJNTH7/ref=sr_1_46?keywords=smartphone&qid=1671615746&sr=8-46',\n",
       " 'https://www.amazon.in/Redmi-Activ-Coral-Green-Storage/dp/B09GFMFTHS/ref=sr_1_47?keywords=smartphone&qid=1671615746&sr=8-47',\n",
       " 'https://www.amazon.in/sspa/click?ie=UTF8&spc=MTo1NTk2ODMwNjY2MTc1NjU4OjE2NzE2MTU3NDY6c3BfYnRmOjIwMDY1NjM2MzY3ODk4OjowOjo&url=%2FRedmi-Flagship-Mediatek-Dimensity-Processor%2Fdp%2FB0B4DWTKFC%2Fref%3Dsr_1_48_sspa%3Fkeywords%3Dsmartphone%26qid%3D1671615746%26sr%3D8-48-spons%26sp_csd%3Dd2lkZ2V0TmFtZT1zcF9idGY%26psc%3D1',\n",
       " 'https://www.amazon.in/sspa/click?ie=UTF8&spc=MTo1NTk2ODMwNjY2MTc1NjU4OjE2NzE2MTU3NDY6c3BfYnRmOjIwMDk4MTQ4ODI3NDk4OjowOjo&url=%2FIKALL-Z5-Smartphone-Volte-Green%2Fdp%2FB0BN8GXHLZ%2Fref%3Dsr_1_49_sspa%3Fkeywords%3Dsmartphone%26qid%3D1671615746%26sr%3D8-49-spons%26sp_csd%3Dd2lkZ2V0TmFtZT1zcF9idGY%26psc%3D1',\n",
       " 'https://www.amazon.in/sspa/click?ie=UTF8&spc=MTo1NTk2ODMwNjY2MTc1NjU4OjE2NzE2MTU3NDY6c3BfYXRmX25leHQ6MjAxMDM1NjU4Mzg3OTg6OjA6Og&url=%2FSamsung-Galaxy-Storage-MediaTek-Battery%2Fdp%2FB0BMGB3CH9%2Fref%3Dsr_1_33_sspa%3Fkeywords%3Dsmartphone%26qid%3D1671615746%26sr%3D8-33-spons%26sp_csd%3Dd2lkZ2V0TmFtZT1zcF9hdGZfbmV4dA%26psc%3D1',\n",
       " 'https://www.amazon.in/sspa/click?ie=UTF8&spc=MTo1NTk2ODMwNjY2MTc1NjU4OjE2NzE2MTU3NDY6c3BfYXRmX25leHQ6MjAwNzgxMDk0ODI4OTg6OjA6Og&url=%2FNokia-Android-Smartphone-Battery-Storage%2Fdp%2FB09Y9FBBJ9%2Fref%3Dsr_1_34_sspa%3Fkeywords%3Dsmartphone%26qid%3D1671615746%26sr%3D8-34-spons%26sp_csd%3Dd2lkZ2V0TmFtZT1zcF9hdGZfbmV4dA%26psc%3D1',\n",
       " 'https://www.amazon.in/Tecno-Spark-Pro-Interstellar-64GB/dp/B09MWCWRMP/ref=sr_1_35?keywords=smartphone&qid=1671615746&sr=8-35',\n",
       " 'https://www.amazon.in/Redmi-Storage-Qualcomm%C2%AE-SnapdragonTM-Included/dp/B09QS8V5N8/ref=sr_1_36?keywords=smartphone&qid=1671615746&sr=8-36',\n",
       " 'https://www.amazon.in/Redmi-Note-Frost-White-Storage/dp/B0948NV5PH/ref=sr_1_37?keywords=smartphone&qid=1671615746&sr=8-37',\n",
       " 'https://www.amazon.in/MI-REDMI-Sport-Coral-Green/dp/B09KCM5C4V/ref=sr_1_33?keywords=smartphone&qid=1671615746&sr=8-33',\n",
       " 'https://www.amazon.in/iQOO-Snapdragon-Segment-Purchased-Separately/dp/B07WGPKWB3/ref=sr_1_34?keywords=smartphone&qid=1671615746&sr=8-34',\n",
       " 'https://www.amazon.in/Redmi-9A-Sport-Octa-core-Processor/dp/B09GFPVFDV/ref=sr_1_35?keywords=smartphone&qid=1671615746&sr=8-35',\n",
       " 'https://www.amazon.in/realme-narzo-Carbon-Black-Storage/dp/B09FKB3446/ref=sr_1_36?keywords=smartphone&qid=1671615746&sr=8-36',\n",
       " 'https://www.amazon.in/Samsung-Stardust-Storage-6000mAh-Battery/dp/B0B4F2K7N1/ref=sr_1_37?keywords=smartphone&qid=1671615746&sr=8-37',\n",
       " 'https://www.amazon.in/sspa/click?ie=UTF8&spc=MTo1NTk2ODMwNjY2MTc1NjU4OjE2NzE2MTU3NDY6c3BfbXRmOjIwMDQ2MjM4NjExMDk4OjowOjo&url=%2FSamsung-Storage-sAmoled-Purchased-Separately%2Fdp%2FB09XJ3MBTL%2Fref%3Dsr_1_38_sspa%3Fkeywords%3Dsmartphone%26qid%3D1671615746%26sr%3D8-38-spons%26sp_csd%3Dd2lkZ2V0TmFtZT1zcF9tdGY%26psc%3D1',\n",
       " 'https://www.amazon.in/sspa/click?ie=UTF8&spc=MTo1NTk2ODMwNjY2MTc1NjU4OjE2NzE2MTU3NDY6c3BfbXRmOjIwMDk2Nzk3MzMwNTk4OjowOjo&url=%2FVivo-Drizzling-Storage-Additional-Exchange%2Fdp%2FB07WHQ4S68%2Fref%3Dsr_1_39_sspa%3Fkeywords%3Dsmartphone%26qid%3D1671615746%26sr%3D8-39-spons%26sp_csd%3Dd2lkZ2V0TmFtZT1zcF9tdGY%26psc%3D1',\n",
       " 'https://www.amazon.in/Redmi-9A-Sport-Octa-core-Processor/dp/B09GFPN6TP/ref=sr_1_40?keywords=smartphone&qid=1671615746&sr=8-40',\n",
       " 'https://www.amazon.in/Redmi-Storage-Super-Amoled-Display/dp/B0948NNY3W/ref=sr_1_41?keywords=smartphone&qid=1671615746&sr=8-41',\n",
       " 'https://www.amazon.in/OnePlus-Nord-Black-128GB-Storage/dp/B09WQY65HN/ref=sr_1_42?keywords=smartphone&qid=1671615746&sr=8-42',\n",
       " 'https://www.amazon.in/Redmi-Stealth-Additional-Exchange-Included/dp/B09T2S8X9C/ref=sr_1_43?keywords=smartphone&qid=1671615746&sr=8-43',\n",
       " 'https://www.amazon.in/realme-Storage-Processor-Triple-Display/dp/B09RMQYHLH/ref=sr_1_44?keywords=smartphone&qid=1671615746&sr=8-44',\n",
       " 'https://www.amazon.in/Redmi-9A-3GB-32GB-Storage/dp/B08697N43M/ref=sr_1_45?keywords=smartphone&qid=1671615746&sr=8-45',\n",
       " 'https://www.amazon.in/Tecno-Extended-Virtual-Dimensity-Processor/dp/B09QQJNTH7/ref=sr_1_46?keywords=smartphone&qid=1671615746&sr=8-46',\n",
       " 'https://www.amazon.in/Redmi-Activ-Coral-Green-Storage/dp/B09GFMFTHS/ref=sr_1_47?keywords=smartphone&qid=1671615746&sr=8-47',\n",
       " 'https://www.amazon.in/sspa/click?ie=UTF8&spc=MTo1NTk2ODMwNjY2MTc1NjU4OjE2NzE2MTU3NDY6c3BfYnRmOjIwMDY1NjM2MzY3ODk4OjowOjo&url=%2FRedmi-Flagship-Mediatek-Dimensity-Processor%2Fdp%2FB0B4DWTKFC%2Fref%3Dsr_1_48_sspa%3Fkeywords%3Dsmartphone%26qid%3D1671615746%26sr%3D8-48-spons%26sp_csd%3Dd2lkZ2V0TmFtZT1zcF9idGY%26psc%3D1',\n",
       " 'https://www.amazon.in/sspa/click?ie=UTF8&spc=MTo1NTk2ODMwNjY2MTc1NjU4OjE2NzE2MTU3NDY6c3BfYnRmOjIwMDk4MTQ4ODI3NDk4OjowOjo&url=%2FIKALL-Z5-Smartphone-Volte-Green%2Fdp%2FB0BN8GXHLZ%2Fref%3Dsr_1_49_sspa%3Fkeywords%3Dsmartphone%26qid%3D1671615746%26sr%3D8-49-spons%26sp_csd%3Dd2lkZ2V0TmFtZT1zcF9idGY%26psc%3D1']"
      ]
     },
     "execution_count": 14,
     "metadata": {},
     "output_type": "execute_result"
    }
   ],
   "source": [
    "Url=[]\n",
    "for j in Url1: \n",
    "    for i in driver.find_elements(By.XPATH,\"//a[@class='a-link-normal s-underline-text s-underline-link-text s-link-style a-text-normal']\"):\n",
    "        Url.append(i.get_attribute(\"href\"))\n",
    "Url"
   ]
  },
  {
   "cell_type": "code",
   "execution_count": 15,
   "id": "aed8e5fa",
   "metadata": {},
   "outputs": [
    {
     "data": {
      "text/plain": [
       "44"
      ]
     },
     "execution_count": 15,
     "metadata": {},
     "output_type": "execute_result"
    }
   ],
   "source": [
    "len(Url)"
   ]
  },
  {
   "cell_type": "code",
   "execution_count": 41,
   "id": "0e1611f9",
   "metadata": {},
   "outputs": [],
   "source": [
    "for k in Url:\n",
    "    driver.get(k)\n",
    "    time.sleep(10)\n",
    "    #fetching Name_ofthe_product\n",
    "    try:\n",
    "        name=driver.find_element(By.XPATH,'//span[@class=\"a-size-large product-title-word-break\"]')\n",
    "        Name_ofthe_product.append(name.text.replace(\"/n\",\"new line\"))\n",
    "    except:\n",
    "        Name_ofthe_product.append('-')\n",
    "    #fetching Price\n",
    "    try:\n",
    "        name=driver.find_element(By.XPATH,'//span[@class=\"a-price aok-align-center reinventPricePriceToPayMargin priceToPay\"]')\n",
    "        Price.append(name.text.replace(\"/n\",\"new line\"))\n",
    "    except:\n",
    "        Price.append('-')\n",
    "        #fetching Return_on_Exchange   \n",
    "    try:\n",
    "        name=driver.find_element(By.XPATH,'//span[@class=\"a-color-price\"]')\n",
    "        Return_on_Exchange.append(name.text.replace(\"/n\",\"new line\"))\n",
    "    except:\n",
    "        Return_on_Exchange.append('-')\n",
    "        #fetching Expected_delivery     \n",
    "    try:\n",
    "        name=driver.find_element(By.XPATH,'//span[@id=\"a-text-bold\"]')\n",
    "        Expected_delivery.append(name.text.replace(\"/n\",\"new line\"))\n",
    "    except:\n",
    "        Expected_delivery.append('-')\n",
    "    #fetching Availability         \n",
    "    try:\n",
    "        name=driver.find_element(By.XPATH,'//span[@class=\"a-size-medium a-color-success\"]')\n",
    "        Availability.append(name.text.replace(\"/n\",\"new line\"))\n",
    "    except:\n",
    "        Availability.append('-')    \n",
    "        #fetching Product_URL        \n",
    "    try:\n",
    "        name=driver.find_element(By.XPATH,'//a[@class=\"a-link-normal s-underline-text s-underline-link-text s-link-style a-text-normal\"]')\n",
    "        Product_URL.append(name.text.replace(\"/n\",\"new line\"))\n",
    "    except:\n",
    "        Product_URL.append('-')    "
   ]
  },
  {
   "cell_type": "code",
   "execution_count": 42,
   "id": "92d491d2",
   "metadata": {},
   "outputs": [
    {
     "data": {
      "text/plain": [
       "(406, 406, 406, 406, 406, 406)"
      ]
     },
     "execution_count": 42,
     "metadata": {},
     "output_type": "execute_result"
    }
   ],
   "source": [
    "len(Name_ofthe_product),len(Price),len(Return_on_Exchange),len(Expected_delivery),len(Availability),len(Product_URL)"
   ]
  },
  {
   "cell_type": "code",
   "execution_count": 44,
   "id": "7f206b04",
   "metadata": {},
   "outputs": [
    {
     "data": {
      "text/html": [
       "<div>\n",
       "<style scoped>\n",
       "    .dataframe tbody tr th:only-of-type {\n",
       "        vertical-align: middle;\n",
       "    }\n",
       "\n",
       "    .dataframe tbody tr th {\n",
       "        vertical-align: top;\n",
       "    }\n",
       "\n",
       "    .dataframe thead th {\n",
       "        text-align: right;\n",
       "    }\n",
       "</style>\n",
       "<table border=\"1\" class=\"dataframe\">\n",
       "  <thead>\n",
       "    <tr style=\"text-align: right;\">\n",
       "      <th></th>\n",
       "      <th>Product name</th>\n",
       "      <th>Price</th>\n",
       "      <th>Return on exchange</th>\n",
       "      <th>Expected delivery</th>\n",
       "      <th>Availability</th>\n",
       "      <th>Product URL</th>\n",
       "    </tr>\n",
       "  </thead>\n",
       "  <tbody>\n",
       "    <tr>\n",
       "      <th>0</th>\n",
       "      <td>Samsung Galaxy M04 Dark Blue, 4GB RAM, 64GB St...</td>\n",
       "      <td>₹9,499</td>\n",
       "      <td>Up to    9,000.00 off</td>\n",
       "      <td></td>\n",
       "      <td>In stock.</td>\n",
       "      <td></td>\n",
       "    </tr>\n",
       "    <tr>\n",
       "      <th>1</th>\n",
       "      <td>Nokia G21 Android Smartphone, Dual SIM, 3-Day ...</td>\n",
       "      <td>₹11,499</td>\n",
       "      <td>Up to    10,650.00 off</td>\n",
       "      <td></td>\n",
       "      <td>In stock.</td>\n",
       "      <td></td>\n",
       "    </tr>\n",
       "    <tr>\n",
       "      <th>2</th>\n",
       "      <td>Tecno Spark 8 Pro (Interstellar Black, 4GB RAM...</td>\n",
       "      <td>₹8,799</td>\n",
       "      <td>Up to    8,350.00 off</td>\n",
       "      <td></td>\n",
       "      <td>In stock.</td>\n",
       "      <td></td>\n",
       "    </tr>\n",
       "    <tr>\n",
       "      <th>3</th>\n",
       "      <td>Redmi Note 11 (Space Black, 4GB RAM, 64GB Stor...</td>\n",
       "      <td>₹11,999</td>\n",
       "      <td>Up to    10,650.00 off</td>\n",
       "      <td></td>\n",
       "      <td>In stock.</td>\n",
       "      <td></td>\n",
       "    </tr>\n",
       "    <tr>\n",
       "      <th>4</th>\n",
       "      <td>Redmi Note 10S (Frost White, 6GB RAM, 64GB Sto...</td>\n",
       "      <td>₹12,999</td>\n",
       "      <td>Up to    12,150.00 off</td>\n",
       "      <td></td>\n",
       "      <td>In stock.</td>\n",
       "      <td></td>\n",
       "    </tr>\n",
       "    <tr>\n",
       "      <th>...</th>\n",
       "      <td>...</td>\n",
       "      <td>...</td>\n",
       "      <td>...</td>\n",
       "      <td>...</td>\n",
       "      <td>...</td>\n",
       "      <td>...</td>\n",
       "    </tr>\n",
       "    <tr>\n",
       "      <th>401</th>\n",
       "      <td>Redmi 9A (Nature Green, 3GB Ram, 32GB Storage)...</td>\n",
       "      <td>₹7,825</td>\n",
       "      <td>Up to    7,400.00 off</td>\n",
       "      <td>-</td>\n",
       "      <td>In stock.</td>\n",
       "      <td>-</td>\n",
       "    </tr>\n",
       "    <tr>\n",
       "      <th>402</th>\n",
       "      <td>Tecno POVA 5G (8GB RAM,128GB Storage,Aether Bl...</td>\n",
       "      <td>₹14,999</td>\n",
       "      <td>Up to    13,300.00 off</td>\n",
       "      <td>-</td>\n",
       "      <td>In stock.</td>\n",
       "      <td>-</td>\n",
       "    </tr>\n",
       "    <tr>\n",
       "      <th>403</th>\n",
       "      <td>Redmi 9 Activ (Coral Green, 6GB RAM, 128GB Sto...</td>\n",
       "      <td>₹10,499</td>\n",
       "      <td>Up to    9,600.00 off</td>\n",
       "      <td>-</td>\n",
       "      <td>In stock.</td>\n",
       "      <td>-</td>\n",
       "    </tr>\n",
       "    <tr>\n",
       "      <th>404</th>\n",
       "      <td>Redmi K50i 5G (Phantom Blue, 6GB RAM, 128GB St...</td>\n",
       "      <td>₹23,999</td>\n",
       "      <td>Up to    16,300.00 off</td>\n",
       "      <td>-</td>\n",
       "      <td>In stock.</td>\n",
       "      <td>-</td>\n",
       "    </tr>\n",
       "    <tr>\n",
       "      <th>405</th>\n",
       "      <td>IKALL Z5 4G Smartphone (5.5 Inch, 3GB, 16GB) (...</td>\n",
       "      <td>₹4,699</td>\n",
       "      <td>-</td>\n",
       "      <td>-</td>\n",
       "      <td>In stock.</td>\n",
       "      <td>-</td>\n",
       "    </tr>\n",
       "  </tbody>\n",
       "</table>\n",
       "<p>406 rows × 6 columns</p>\n",
       "</div>"
      ],
      "text/plain": [
       "                                          Product name    Price  \\\n",
       "0    Samsung Galaxy M04 Dark Blue, 4GB RAM, 64GB St...   ₹9,499   \n",
       "1    Nokia G21 Android Smartphone, Dual SIM, 3-Day ...  ₹11,499   \n",
       "2    Tecno Spark 8 Pro (Interstellar Black, 4GB RAM...   ₹8,799   \n",
       "3    Redmi Note 11 (Space Black, 4GB RAM, 64GB Stor...  ₹11,999   \n",
       "4    Redmi Note 10S (Frost White, 6GB RAM, 64GB Sto...  ₹12,999   \n",
       "..                                                 ...      ...   \n",
       "401  Redmi 9A (Nature Green, 3GB Ram, 32GB Storage)...   ₹7,825   \n",
       "402  Tecno POVA 5G (8GB RAM,128GB Storage,Aether Bl...  ₹14,999   \n",
       "403  Redmi 9 Activ (Coral Green, 6GB RAM, 128GB Sto...  ₹10,499   \n",
       "404  Redmi K50i 5G (Phantom Blue, 6GB RAM, 128GB St...  ₹23,999   \n",
       "405  IKALL Z5 4G Smartphone (5.5 Inch, 3GB, 16GB) (...   ₹4,699   \n",
       "\n",
       "         Return on exchange Expected delivery Availability Product URL  \n",
       "0     Up to    9,000.00 off                      In stock.              \n",
       "1    Up to    10,650.00 off                      In stock.              \n",
       "2     Up to    8,350.00 off                      In stock.              \n",
       "3    Up to    10,650.00 off                      In stock.              \n",
       "4    Up to    12,150.00 off                      In stock.              \n",
       "..                      ...               ...          ...         ...  \n",
       "401   Up to    7,400.00 off                 -    In stock.           -  \n",
       "402  Up to    13,300.00 off                 -    In stock.           -  \n",
       "403   Up to    9,600.00 off                 -    In stock.           -  \n",
       "404  Up to    16,300.00 off                 -    In stock.           -  \n",
       "405                       -                 -    In stock.           -  \n",
       "\n",
       "[406 rows x 6 columns]"
      ]
     },
     "execution_count": 44,
     "metadata": {},
     "output_type": "execute_result"
    }
   ],
   "source": [
    "Product1=pd.DataFrame()\n",
    "Product1['Product name']= Name_ofthe_product\n",
    "Product1['Price']= Price\n",
    "Product1['Return on exchange']= Return_on_Exchange\n",
    "Product1['Expected delivery']= Expected_delivery\n",
    "Product1['Availability']= Availability\n",
    "Product1['Product URL']=Product_URL\n",
    "Product1"
   ]
  },
  {
   "cell_type": "code",
   "execution_count": null,
   "id": "3f30b4f8",
   "metadata": {},
   "outputs": [],
   "source": []
  }
 ],
 "metadata": {
  "kernelspec": {
   "display_name": "Python 3 (ipykernel)",
   "language": "python",
   "name": "python3"
  },
  "language_info": {
   "codemirror_mode": {
    "name": "ipython",
    "version": 3
   },
   "file_extension": ".py",
   "mimetype": "text/x-python",
   "name": "python",
   "nbconvert_exporter": "python",
   "pygments_lexer": "ipython3",
   "version": "3.9.13"
  }
 },
 "nbformat": 4,
 "nbformat_minor": 5
}
