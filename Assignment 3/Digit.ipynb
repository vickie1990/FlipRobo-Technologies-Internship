{
 "cells": [
  {
   "cell_type": "code",
   "execution_count": 1,
   "id": "8be074a2",
   "metadata": {},
   "outputs": [
    {
     "name": "stdout",
     "output_type": "stream",
     "text": [
      "Defaulting to user installation because normal site-packages is not writeable\n",
      "Requirement already satisfied: selenium in c:\\users\\hp\\appdata\\roaming\\python\\python39\\site-packages (4.7.2)\n",
      "Requirement already satisfied: certifi>=2021.10.8 in c:\\programdata\\anaconda3\\lib\\site-packages (from selenium) (2022.9.14)\n",
      "Requirement already satisfied: trio-websocket~=0.9 in c:\\users\\hp\\appdata\\roaming\\python\\python39\\site-packages (from selenium) (0.9.2)\n",
      "Requirement already satisfied: trio~=0.17 in c:\\users\\hp\\appdata\\roaming\\python\\python39\\site-packages (from selenium) (0.22.0)\n",
      "Requirement already satisfied: urllib3[socks]~=1.26 in c:\\programdata\\anaconda3\\lib\\site-packages (from selenium) (1.26.11)\n",
      "Requirement already satisfied: outcome in c:\\users\\hp\\appdata\\roaming\\python\\python39\\site-packages (from trio~=0.17->selenium) (1.2.0)\n",
      "Requirement already satisfied: sniffio in c:\\programdata\\anaconda3\\lib\\site-packages (from trio~=0.17->selenium) (1.2.0)\n",
      "Requirement already satisfied: exceptiongroup>=1.0.0rc9 in c:\\users\\hp\\appdata\\roaming\\python\\python39\\site-packages (from trio~=0.17->selenium) (1.0.4)\n",
      "Requirement already satisfied: async-generator>=1.9 in c:\\users\\hp\\appdata\\roaming\\python\\python39\\site-packages (from trio~=0.17->selenium) (1.10)\n",
      "Requirement already satisfied: sortedcontainers in c:\\programdata\\anaconda3\\lib\\site-packages (from trio~=0.17->selenium) (2.4.0)\n",
      "Requirement already satisfied: idna in c:\\programdata\\anaconda3\\lib\\site-packages (from trio~=0.17->selenium) (3.3)\n",
      "Requirement already satisfied: attrs>=19.2.0 in c:\\programdata\\anaconda3\\lib\\site-packages (from trio~=0.17->selenium) (21.4.0)\n",
      "Requirement already satisfied: cffi>=1.14 in c:\\programdata\\anaconda3\\lib\\site-packages (from trio~=0.17->selenium) (1.15.1)\n",
      "Requirement already satisfied: wsproto>=0.14 in c:\\users\\hp\\appdata\\roaming\\python\\python39\\site-packages (from trio-websocket~=0.9->selenium) (1.2.0)\n",
      "Requirement already satisfied: PySocks!=1.5.7,<2.0,>=1.5.6 in c:\\programdata\\anaconda3\\lib\\site-packages (from urllib3[socks]~=1.26->selenium) (1.7.1)\n",
      "Requirement already satisfied: pycparser in c:\\programdata\\anaconda3\\lib\\site-packages (from cffi>=1.14->trio~=0.17->selenium) (2.21)\n",
      "Requirement already satisfied: h11<1,>=0.9.0 in c:\\users\\hp\\appdata\\roaming\\python\\python39\\site-packages (from wsproto>=0.14->trio-websocket~=0.9->selenium) (0.14.0)\n"
     ]
    }
   ],
   "source": [
    "!pip install selenium"
   ]
  },
  {
   "cell_type": "markdown",
   "id": "fc299414",
   "metadata": {},
   "source": [
    "Q.7 Write a program to scrap all the available details of best gaming laptops from digit.in."
   ]
  },
  {
   "cell_type": "code",
   "execution_count": 2,
   "id": "6fdf0154",
   "metadata": {},
   "outputs": [],
   "source": [
    "import pandas as pd\n",
    "import selenium\n",
    "from selenium import webdriver\n",
    "import time\n",
    "from selenium.common.exceptions import NoSuchElementException\n",
    "import warnings\n",
    "import requests\n",
    "warnings.filterwarnings('ignore')\n",
    "from selenium.webdriver.common.by import By"
   ]
  },
  {
   "cell_type": "code",
   "execution_count": 3,
   "id": "f330f02b",
   "metadata": {},
   "outputs": [],
   "source": [
    "driver=webdriver.Chrome(r'C:\\Users\\hp\\Downloads\\chromedriver_win32\\chromedriver.exe')"
   ]
  },
  {
   "cell_type": "code",
   "execution_count": 4,
   "id": "bd6966c1",
   "metadata": {},
   "outputs": [],
   "source": [
    "driver.get(\"https://www.digit.in/\")"
   ]
  },
  {
   "cell_type": "code",
   "execution_count": 5,
   "id": "e4af50a5",
   "metadata": {},
   "outputs": [
    {
     "data": {
      "text/plain": [
       "<selenium.webdriver.remote.webelement.WebElement (session=\"1c0230c556b61e75ac8f84ccd9a621fb\", element=\"8498ee78-8303-42b9-a2ec-5e3c561a15cb\")>"
      ]
     },
     "execution_count": 5,
     "metadata": {},
     "output_type": "execute_result"
    }
   ],
   "source": [
    "Search_Gaming_Laptop=driver.find_element(By.XPATH,'/html/body/div[1]/div/div[4]/ul/li[4]/a')\n",
    "Search_Gaming_Laptop"
   ]
  },
  {
   "cell_type": "code",
   "execution_count": 6,
   "id": "186bc574",
   "metadata": {},
   "outputs": [],
   "source": [
    "Search_Gaming_Laptop.click()"
   ]
  },
  {
   "cell_type": "code",
   "execution_count": 7,
   "id": "3247c321",
   "metadata": {},
   "outputs": [
    {
     "data": {
      "text/plain": [
       "<selenium.webdriver.remote.webelement.WebElement (session=\"1c0230c556b61e75ac8f84ccd9a621fb\", element=\"518efdad-1f30-4158-b7ce-41406cc46c0a\")>"
      ]
     },
     "execution_count": 7,
     "metadata": {},
     "output_type": "execute_result"
    }
   ],
   "source": [
    "Best_Gaming_Laptop=driver.find_element(By.XPATH,'/html/body/div[3]/div/div/div[3]/div[2]/ul/li[25]/a')\n",
    "Best_Gaming_Laptop"
   ]
  },
  {
   "cell_type": "code",
   "execution_count": 8,
   "id": "8b096bb4",
   "metadata": {},
   "outputs": [],
   "source": [
    "Best_Gaming_Laptop.click()"
   ]
  },
  {
   "cell_type": "code",
   "execution_count": 9,
   "id": "39ae0f34",
   "metadata": {},
   "outputs": [],
   "source": [
    "Laptop_name=[]\n",
    "OS=[]\n",
    "Display=[] \n",
    "Processor=[]\n",
    "Memory=[] \n",
    "Weight=[] \n",
    "Dimension=[]\n",
    "Graphic_Processor=[]\n",
    "Seller=[]\n",
    "Price=[]\n",
    "Product_desc=[]"
   ]
  },
  {
   "cell_type": "code",
   "execution_count": 10,
   "id": "caaf7ab1",
   "metadata": {},
   "outputs": [
    {
     "data": {
      "text/plain": [
       "10"
      ]
     },
     "execution_count": 10,
     "metadata": {},
     "output_type": "execute_result"
    }
   ],
   "source": [
    "name_tags=driver.find_elements(By.XPATH,'//div[@class=\"specfpro_details_cont\"]')\n",
    "len(name_tags)"
   ]
  },
  {
   "cell_type": "code",
   "execution_count": 11,
   "id": "fc02f7f7",
   "metadata": {},
   "outputs": [],
   "source": [
    "Laptop_name=[]\n",
    "for i in name_tags:\n",
    "    Laptop_name.append(i.text)"
   ]
  },
  {
   "cell_type": "code",
   "execution_count": 12,
   "id": "48120143",
   "metadata": {},
   "outputs": [
    {
     "data": {
      "text/plain": [
       "10"
      ]
     },
     "execution_count": 12,
     "metadata": {},
     "output_type": "execute_result"
    }
   ],
   "source": [
    "os_tags=driver.find_elements(By.XPATH,'//div[@class=\"Spcs-details\"]/table/tbody/tr[3]/td[3]')\n",
    "len(os_tags)"
   ]
  },
  {
   "cell_type": "code",
   "execution_count": 13,
   "id": "7012cda0",
   "metadata": {},
   "outputs": [],
   "source": [
    "OS=[]\n",
    "for i in os_tags:\n",
    "    OS.append(i.text)"
   ]
  },
  {
   "cell_type": "code",
   "execution_count": 14,
   "id": "8636b0e8",
   "metadata": {},
   "outputs": [
    {
     "data": {
      "text/plain": [
       "10"
      ]
     },
     "execution_count": 14,
     "metadata": {},
     "output_type": "execute_result"
    }
   ],
   "source": [
    "disp_tags=driver.find_elements(By.XPATH,'//div[@class=\"Spcs-details\"]/table/tbody/tr[4]/td[3]')\n",
    "len(disp_tags)"
   ]
  },
  {
   "cell_type": "code",
   "execution_count": 15,
   "id": "7693b27d",
   "metadata": {},
   "outputs": [],
   "source": [
    "Display=[]\n",
    "for i in disp_tags:\n",
    "    Display.append(i.text)"
   ]
  },
  {
   "cell_type": "code",
   "execution_count": 16,
   "id": "01844e05",
   "metadata": {},
   "outputs": [
    {
     "data": {
      "text/plain": [
       "10"
      ]
     },
     "execution_count": 16,
     "metadata": {},
     "output_type": "execute_result"
    }
   ],
   "source": [
    "pro_tags=driver.find_elements(By.XPATH,'//div[@class=\"Spcs-details\"]/table/tbody/tr[5]/td[3]')\n",
    "len(pro_tags)"
   ]
  },
  {
   "cell_type": "code",
   "execution_count": 17,
   "id": "64b8dc68",
   "metadata": {},
   "outputs": [],
   "source": [
    "Processor=[]\n",
    "for i in pro_tags:\n",
    "    Processor.append(i.text)"
   ]
  },
  {
   "cell_type": "code",
   "execution_count": 18,
   "id": "75353c76",
   "metadata": {},
   "outputs": [
    {
     "data": {
      "text/plain": [
       "10"
      ]
     },
     "execution_count": 18,
     "metadata": {},
     "output_type": "execute_result"
    }
   ],
   "source": [
    "mem_tags=driver.find_elements(By.XPATH,'//div[@class=\"Spcs-details\"]/table/tbody/tr[6]/td[3]')\n",
    "len(mem_tags)"
   ]
  },
  {
   "cell_type": "code",
   "execution_count": 19,
   "id": "f3ce34fd",
   "metadata": {},
   "outputs": [],
   "source": [
    "Memory=[]\n",
    "for i in mem_tags:\n",
    "    Memory.append(i.text)"
   ]
  },
  {
   "cell_type": "code",
   "execution_count": 20,
   "id": "968d1025",
   "metadata": {},
   "outputs": [
    {
     "data": {
      "text/plain": [
       "10"
      ]
     },
     "execution_count": 20,
     "metadata": {},
     "output_type": "execute_result"
    }
   ],
   "source": [
    "wt_tags=driver.find_elements(By.XPATH,'//div[@class=\"Spcs-details\"]/table/tbody/tr[8]/td[3]')\n",
    "len(wt_tags)"
   ]
  },
  {
   "cell_type": "code",
   "execution_count": 21,
   "id": "4356dc71",
   "metadata": {},
   "outputs": [],
   "source": [
    "Weight=[]\n",
    "for i in wt_tags:\n",
    "    Weight.append(i.text)"
   ]
  },
  {
   "cell_type": "code",
   "execution_count": 22,
   "id": "8109d45b",
   "metadata": {},
   "outputs": [
    {
     "data": {
      "text/plain": [
       "10"
      ]
     },
     "execution_count": 22,
     "metadata": {},
     "output_type": "execute_result"
    }
   ],
   "source": [
    "dim_tags=driver.find_elements(By.XPATH,'//div[@class=\"Spcs-details\"]/table/tbody/tr[8]/td[3]')\n",
    "len(dim_tags)"
   ]
  },
  {
   "cell_type": "code",
   "execution_count": 23,
   "id": "905dc22c",
   "metadata": {},
   "outputs": [],
   "source": [
    "Dimension=[]\n",
    "for i in dim_tags:\n",
    "    Dimension.append(i.text)"
   ]
  },
  {
   "cell_type": "code",
   "execution_count": 24,
   "id": "cb5d38b1",
   "metadata": {},
   "outputs": [
    {
     "data": {
      "text/plain": [
       "10"
      ]
     },
     "execution_count": 24,
     "metadata": {},
     "output_type": "execute_result"
    }
   ],
   "source": [
    "gp_tags=driver.find_elements(By.XPATH,'//div[@class=\"Spcs-details\"]/table/tbody/tr[7]/td[3]')\n",
    "len(gp_tags)"
   ]
  },
  {
   "cell_type": "code",
   "execution_count": 25,
   "id": "4025044b",
   "metadata": {},
   "outputs": [],
   "source": [
    "Graphic_Processor=[]\n",
    "for i in gp_tags:\n",
    "    Graphic_Processor.append(i.text)"
   ]
  },
  {
   "cell_type": "code",
   "execution_count": 26,
   "id": "197f2c99",
   "metadata": {},
   "outputs": [
    {
     "data": {
      "text/plain": [
       "10"
      ]
     },
     "execution_count": 26,
     "metadata": {},
     "output_type": "execute_result"
    }
   ],
   "source": [
    "sell_tags=driver.find_elements(By.XPATH,'//td[@class=\"smmerchant\"]')\n",
    "len(sell_tags)"
   ]
  },
  {
   "cell_type": "code",
   "execution_count": 27,
   "id": "3790dfb8",
   "metadata": {},
   "outputs": [],
   "source": [
    "Seller=[]\n",
    "for i in sell_tags:\n",
    "    Seller.append(i.text)"
   ]
  },
  {
   "cell_type": "code",
   "execution_count": 28,
   "id": "7a5af984",
   "metadata": {},
   "outputs": [
    {
     "data": {
      "text/plain": [
       "10"
      ]
     },
     "execution_count": 28,
     "metadata": {},
     "output_type": "execute_result"
    }
   ],
   "source": [
    "pp_tags=driver.find_elements(By.XPATH,'//td[@class=\"smprice\"]')\n",
    "len(pp_tags)"
   ]
  },
  {
   "cell_type": "code",
   "execution_count": 29,
   "id": "8b72791a",
   "metadata": {},
   "outputs": [],
   "source": [
    "Price=[]\n",
    "for i in pp_tags:\n",
    "    Price.append(i.text)"
   ]
  },
  {
   "cell_type": "code",
   "execution_count": 30,
   "id": "d5f2dcc7",
   "metadata": {},
   "outputs": [
    {
     "data": {
      "text/plain": [
       "10"
      ]
     },
     "execution_count": 30,
     "metadata": {},
     "output_type": "execute_result"
    }
   ],
   "source": [
    "pd_tags=driver.find_elements(By.XPATH,'//div[@class=\"tptn-prod-desc\"]')\n",
    "len(pd_tags)"
   ]
  },
  {
   "cell_type": "code",
   "execution_count": 31,
   "id": "8274bce1",
   "metadata": {},
   "outputs": [],
   "source": [
    "Product_desc=[]\n",
    "for i in pd_tags:\n",
    "    Product_desc.append(i.text)"
   ]
  },
  {
   "cell_type": "code",
   "execution_count": 32,
   "id": "63f805dc",
   "metadata": {},
   "outputs": [
    {
     "data": {
      "text/plain": [
       "(10, 10, 10, 10, 10, 10, 10, 10, 10, 10, 10)"
      ]
     },
     "execution_count": 32,
     "metadata": {},
     "output_type": "execute_result"
    }
   ],
   "source": [
    "len(Laptop_name),len(OS),len(Display),len(Processor),len(Memory),len(Weight),len(Dimension),len(Graphic_Processor),len(Seller),len(Price),len(Product_desc)\n"
   ]
  },
  {
   "cell_type": "code",
   "execution_count": 33,
   "id": "8ef740f7",
   "metadata": {},
   "outputs": [
    {
     "data": {
      "text/html": [
       "<div>\n",
       "<style scoped>\n",
       "    .dataframe tbody tr th:only-of-type {\n",
       "        vertical-align: middle;\n",
       "    }\n",
       "\n",
       "    .dataframe tbody tr th {\n",
       "        vertical-align: top;\n",
       "    }\n",
       "\n",
       "    .dataframe thead th {\n",
       "        text-align: right;\n",
       "    }\n",
       "</style>\n",
       "<table border=\"1\" class=\"dataframe\">\n",
       "  <thead>\n",
       "    <tr style=\"text-align: right;\">\n",
       "      <th></th>\n",
       "      <th>Laptop_name</th>\n",
       "      <th>OS</th>\n",
       "      <th>Display</th>\n",
       "      <th>Processor</th>\n",
       "      <th>Memory</th>\n",
       "      <th>Weight</th>\n",
       "      <th>Dimension</th>\n",
       "      <th>Graphic_Processor</th>\n",
       "      <th>Seller</th>\n",
       "      <th>Price</th>\n",
       "      <th>Product_desc</th>\n",
       "    </tr>\n",
       "  </thead>\n",
       "  <tbody>\n",
       "    <tr>\n",
       "      <th>0</th>\n",
       "      <td>1.\\nMSI Titan GT77-12UHS\\nView Gallery\\nWindow...</td>\n",
       "      <td>12th Gen Intel Core i9-12900HX 16 core processor</td>\n",
       "      <td>17.3″ (3840 x 2160) screen, 120 Hz refresh rate</td>\n",
       "      <td>Windows 11 Home</td>\n",
       "      <td>64 GB DDR5 RAM &amp; 2 TB SSD</td>\n",
       "      <td>397 x 330 x 23 mm dimension &amp; 3.3 kg weight</td>\n",
       "      <td>397 x 330 x 23 mm dimension &amp; 3.3 kg weight</td>\n",
       "      <td>16 GB DDR6 NVIDIA GeForce RTX 3080 Ti Graphics...</td>\n",
       "      <td>N/A</td>\n",
       "      <td>N/A</td>\n",
       "      <td>397 x 330 x 23 mm dimension &amp; 3.3 kg weight</td>\n",
       "    </tr>\n",
       "    <tr>\n",
       "      <th>1</th>\n",
       "      <td>2.\\nAlienware X17 R2\\nView Gallery\\nWindows 11...</td>\n",
       "      <td>12th Gen Intel Core i9-12900H 14 core processo...</td>\n",
       "      <td>17.3″ (1920 x 1080) screen, 360 Hz refresh rate</td>\n",
       "      <td>Windows 11 Home</td>\n",
       "      <td>32 GB DDR5 RAM &amp; 1 TB SSD</td>\n",
       "      <td>299 x 359 x 21 mm dimension &amp; 2.96 kg weight</td>\n",
       "      <td>299 x 359 x 21 mm dimension &amp; 2.96 kg weight</td>\n",
       "      <td>16 GB DDR6 NVIDIA GEFORCE RTX 3080 Ti Graphics...</td>\n",
       "      <td>Croma</td>\n",
       "      <td>₹ 389,990</td>\n",
       "      <td>299 x 359 x 21 mm dimension &amp; 2.96 kg weight</td>\n",
       "    </tr>\n",
       "    <tr>\n",
       "      <th>2</th>\n",
       "      <td>3.\\nAcer Predator Triton 500 SE PT516-52s\\nVie...</td>\n",
       "      <td>12th Gen Intel Core i7-12700H 14 core processo...</td>\n",
       "      <td>16″ (2560 x 1600) screen</td>\n",
       "      <td>Windows 11</td>\n",
       "      <td>32 GB DDR5 RAM &amp; 2 TB SSD</td>\n",
       "      <td>262 x 359 x 20 mm dimension &amp; 2.4 kg weight</td>\n",
       "      <td>262 x 359 x 20 mm dimension &amp; 2.4 kg weight</td>\n",
       "      <td>8 GB DDR6 NVIDIA GeForce RTX 3070 Ti Graphics ...</td>\n",
       "      <td>Amazon</td>\n",
       "      <td>₹ 229,990</td>\n",
       "      <td>262 x 359 x 20 mm dimension &amp; 2.4 kg weight</td>\n",
       "    </tr>\n",
       "    <tr>\n",
       "      <th>3</th>\n",
       "      <td>4.\\nOmen By HP (16-B1371TX)\\nView Gallery\\nWin...</td>\n",
       "      <td>12th Gen Intel Core i7-12700H 14 core processo...</td>\n",
       "      <td>16.1″ (2560 x 1440) screen</td>\n",
       "      <td>Windows 11 Home</td>\n",
       "      <td>8 GB DDR5 RAM &amp; 1 TB SSD</td>\n",
       "      <td>369 x 248 x 23 mm dimension &amp; 2.32 kg weight</td>\n",
       "      <td>369 x 248 x 23 mm dimension &amp; 2.32 kg weight</td>\n",
       "      <td>8 GB GDDR6 NVIDIA GeForce RTX 3070 Graphics card</td>\n",
       "      <td>Amazon</td>\n",
       "      <td>₹ 176,490</td>\n",
       "      <td>369 x 248 x 23 mm dimension &amp; 2.32 kg weight</td>\n",
       "    </tr>\n",
       "    <tr>\n",
       "      <th>4</th>\n",
       "      <td>5.\\nAcer Predator Helios 300 AN515-45\\nView Ga...</td>\n",
       "      <td>AMD Ryzen 9-5900HX 8 core processor</td>\n",
       "      <td>15.6″ (2560 x 1440) screen, 165 Hz refresh rate</td>\n",
       "      <td>Windows 11 Home</td>\n",
       "      <td>16 GB DDR4 RAM &amp; 512 GB SSD</td>\n",
       "      <td>363 x 255 x 23.9 mm dimension &amp; 2.4 kg weight</td>\n",
       "      <td>363 x 255 x 23.9 mm dimension &amp; 2.4 kg weight</td>\n",
       "      <td>8 GB DDR6 NVIDIA GeForce RTX 3070 Graphics card</td>\n",
       "      <td>N/A</td>\n",
       "      <td>₹ 172,999</td>\n",
       "      <td>363 x 255 x 23.9 mm dimension &amp; 2.4 kg weight</td>\n",
       "    </tr>\n",
       "    <tr>\n",
       "      <th>5</th>\n",
       "      <td>6.\\nMSI Delta 15 (A5EFK-083IN)\\nView Gallery\\n...</td>\n",
       "      <td>AMD 5th Gen Ryzen 9-5900HX 8 core processor wi...</td>\n",
       "      <td>15.6″ (1920 x 1080) screen, 240Hz refresh rate</td>\n",
       "      <td>Windows 11 Home</td>\n",
       "      <td>16 GB DDR4 RAM &amp; 1 TB SSD</td>\n",
       "      <td>357 x 247 x 19 mm dimension &amp; 1.9 kg weight</td>\n",
       "      <td>357 x 247 x 19 mm dimension &amp; 1.9 kg weight</td>\n",
       "      <td>10 GB DDR6 AMD Radeon RX 6700M Graphics card</td>\n",
       "      <td>N/A</td>\n",
       "      <td>₹ 188,990</td>\n",
       "      <td>357 x 247 x 19 mm dimension &amp; 1.9 kg weight</td>\n",
       "    </tr>\n",
       "    <tr>\n",
       "      <th>6</th>\n",
       "      <td>7.\\nOmen By HP (16-C0141AX)\\nView Gallery\\nWin...</td>\n",
       "      <td>AMD Ryzen™ 9 5900HX 8 core processor with 3.3 ...</td>\n",
       "      <td>16.1″ (2560 x 1440) screen</td>\n",
       "      <td>Windows 11 Home</td>\n",
       "      <td>16 GB DDR4 RAM &amp; 1 TB NVMe</td>\n",
       "      <td>36.92 x 24.8 x 2.3 mm dimension &amp; 2.3 kg weight</td>\n",
       "      <td>36.92 x 24.8 x 2.3 mm dimension &amp; 2.3 kg weight</td>\n",
       "      <td>8 GB GDDR6 AMD Radeon™ RX 6600M Graphics card</td>\n",
       "      <td>Croma</td>\n",
       "      <td>₹ 124,990</td>\n",
       "      <td>36.92 x 24.8 x 2.3 mm dimension &amp; 2.3 kg weight</td>\n",
       "    </tr>\n",
       "    <tr>\n",
       "      <th>7</th>\n",
       "      <td>8.\\nLenovo Legion 5i Pro (82RF00MGIN)\\nView Ga...</td>\n",
       "      <td>12th Gen Intel Core i7-12700H 14 core processo...</td>\n",
       "      <td>16″ (2560 x 1600) screen, 165 Hz refresh rate</td>\n",
       "      <td>Windows 11 Home</td>\n",
       "      <td>16 GB DDR5 RAM &amp; 1 TB SSD</td>\n",
       "      <td>360 x 264 x 20 mm dimension &amp; 2.49 kg weight</td>\n",
       "      <td>360 x 264 x 20 mm dimension &amp; 2.49 kg weight</td>\n",
       "      <td>6 GB DDR6 NVIDIA GeForce RTX 3060 Graphics card</td>\n",
       "      <td>Amazon</td>\n",
       "      <td>₹ 169,990</td>\n",
       "      <td>360 x 264 x 20 mm dimension &amp; 2.49 kg weight</td>\n",
       "    </tr>\n",
       "    <tr>\n",
       "      <th>8</th>\n",
       "      <td>9.\\nAlienware M15 R5 Ryzen Edition Icc-C780001...</td>\n",
       "      <td>AMD Ryzen R7-5800H 8 core processor with 4.40 ...</td>\n",
       "      <td>15.6″ (1920 x 1080) screen, 165Hz refresh rate</td>\n",
       "      <td>Windows 11 Home</td>\n",
       "      <td>16 GB DDR4 RAM &amp; 512 GB SSD</td>\n",
       "      <td>356.2 x 272.5 x 22.85 mm dimension &amp; 2.69 kg w...</td>\n",
       "      <td>356.2 x 272.5 x 22.85 mm dimension &amp; 2.69 kg w...</td>\n",
       "      <td>6 GB DDR6 NVIDIA GeForce RTX 3060 Graphics card</td>\n",
       "      <td>Amazon</td>\n",
       "      <td>₹ 174,000</td>\n",
       "      <td>356.2 x 272.5 x 22.85 mm dimension &amp; 2.69 kg w...</td>\n",
       "    </tr>\n",
       "    <tr>\n",
       "      <th>9</th>\n",
       "      <td>10.\\nLenovo Slim 7 Gen 6 (82K8002JIN)\\nView Ga...</td>\n",
       "      <td>Lenovo Ryzen 7-5800H processor with 3.2 GHz cl...</td>\n",
       "      <td>15.6″ screen, 165 Hz refresh rate</td>\n",
       "      <td>Windows 11 Home</td>\n",
       "      <td>16 GB DDR4 RAM &amp; 1 TB SSD</td>\n",
       "      <td>356 x 252 x 16 mm dimension &amp; 1.9 kg weight</td>\n",
       "      <td>356 x 252 x 16 mm dimension &amp; 1.9 kg weight</td>\n",
       "      <td>6 GB DDR6 NVIDIA GeForce 3060 Max-Q Graphics card</td>\n",
       "      <td>Croma</td>\n",
       "      <td>₹ 131,990</td>\n",
       "      <td>356 x 252 x 16 mm dimension &amp; 1.9 kg weight</td>\n",
       "    </tr>\n",
       "  </tbody>\n",
       "</table>\n",
       "</div>"
      ],
      "text/plain": [
       "                                         Laptop_name  \\\n",
       "0  1.\\nMSI Titan GT77-12UHS\\nView Gallery\\nWindow...   \n",
       "1  2.\\nAlienware X17 R2\\nView Gallery\\nWindows 11...   \n",
       "2  3.\\nAcer Predator Triton 500 SE PT516-52s\\nVie...   \n",
       "3  4.\\nOmen By HP (16-B1371TX)\\nView Gallery\\nWin...   \n",
       "4  5.\\nAcer Predator Helios 300 AN515-45\\nView Ga...   \n",
       "5  6.\\nMSI Delta 15 (A5EFK-083IN)\\nView Gallery\\n...   \n",
       "6  7.\\nOmen By HP (16-C0141AX)\\nView Gallery\\nWin...   \n",
       "7  8.\\nLenovo Legion 5i Pro (82RF00MGIN)\\nView Ga...   \n",
       "8  9.\\nAlienware M15 R5 Ryzen Edition Icc-C780001...   \n",
       "9  10.\\nLenovo Slim 7 Gen 6 (82K8002JIN)\\nView Ga...   \n",
       "\n",
       "                                                  OS  \\\n",
       "0   12th Gen Intel Core i9-12900HX 16 core processor   \n",
       "1  12th Gen Intel Core i9-12900H 14 core processo...   \n",
       "2  12th Gen Intel Core i7-12700H 14 core processo...   \n",
       "3  12th Gen Intel Core i7-12700H 14 core processo...   \n",
       "4                AMD Ryzen 9-5900HX 8 core processor   \n",
       "5  AMD 5th Gen Ryzen 9-5900HX 8 core processor wi...   \n",
       "6  AMD Ryzen™ 9 5900HX 8 core processor with 3.3 ...   \n",
       "7  12th Gen Intel Core i7-12700H 14 core processo...   \n",
       "8  AMD Ryzen R7-5800H 8 core processor with 4.40 ...   \n",
       "9  Lenovo Ryzen 7-5800H processor with 3.2 GHz cl...   \n",
       "\n",
       "                                           Display        Processor  \\\n",
       "0  17.3″ (3840 x 2160) screen, 120 Hz refresh rate  Windows 11 Home   \n",
       "1  17.3″ (1920 x 1080) screen, 360 Hz refresh rate  Windows 11 Home   \n",
       "2                         16″ (2560 x 1600) screen       Windows 11   \n",
       "3                       16.1″ (2560 x 1440) screen  Windows 11 Home   \n",
       "4  15.6″ (2560 x 1440) screen, 165 Hz refresh rate  Windows 11 Home   \n",
       "5   15.6″ (1920 x 1080) screen, 240Hz refresh rate  Windows 11 Home   \n",
       "6                       16.1″ (2560 x 1440) screen  Windows 11 Home   \n",
       "7    16″ (2560 x 1600) screen, 165 Hz refresh rate  Windows 11 Home   \n",
       "8   15.6″ (1920 x 1080) screen, 165Hz refresh rate  Windows 11 Home   \n",
       "9                15.6″ screen, 165 Hz refresh rate  Windows 11 Home   \n",
       "\n",
       "                        Memory  \\\n",
       "0    64 GB DDR5 RAM & 2 TB SSD   \n",
       "1    32 GB DDR5 RAM & 1 TB SSD   \n",
       "2    32 GB DDR5 RAM & 2 TB SSD   \n",
       "3     8 GB DDR5 RAM & 1 TB SSD   \n",
       "4  16 GB DDR4 RAM & 512 GB SSD   \n",
       "5    16 GB DDR4 RAM & 1 TB SSD   \n",
       "6   16 GB DDR4 RAM & 1 TB NVMe   \n",
       "7    16 GB DDR5 RAM & 1 TB SSD   \n",
       "8  16 GB DDR4 RAM & 512 GB SSD   \n",
       "9    16 GB DDR4 RAM & 1 TB SSD   \n",
       "\n",
       "                                              Weight  \\\n",
       "0        397 x 330 x 23 mm dimension & 3.3 kg weight   \n",
       "1       299 x 359 x 21 mm dimension & 2.96 kg weight   \n",
       "2        262 x 359 x 20 mm dimension & 2.4 kg weight   \n",
       "3       369 x 248 x 23 mm dimension & 2.32 kg weight   \n",
       "4      363 x 255 x 23.9 mm dimension & 2.4 kg weight   \n",
       "5        357 x 247 x 19 mm dimension & 1.9 kg weight   \n",
       "6    36.92 x 24.8 x 2.3 mm dimension & 2.3 kg weight   \n",
       "7       360 x 264 x 20 mm dimension & 2.49 kg weight   \n",
       "8  356.2 x 272.5 x 22.85 mm dimension & 2.69 kg w...   \n",
       "9        356 x 252 x 16 mm dimension & 1.9 kg weight   \n",
       "\n",
       "                                           Dimension  \\\n",
       "0        397 x 330 x 23 mm dimension & 3.3 kg weight   \n",
       "1       299 x 359 x 21 mm dimension & 2.96 kg weight   \n",
       "2        262 x 359 x 20 mm dimension & 2.4 kg weight   \n",
       "3       369 x 248 x 23 mm dimension & 2.32 kg weight   \n",
       "4      363 x 255 x 23.9 mm dimension & 2.4 kg weight   \n",
       "5        357 x 247 x 19 mm dimension & 1.9 kg weight   \n",
       "6    36.92 x 24.8 x 2.3 mm dimension & 2.3 kg weight   \n",
       "7       360 x 264 x 20 mm dimension & 2.49 kg weight   \n",
       "8  356.2 x 272.5 x 22.85 mm dimension & 2.69 kg w...   \n",
       "9        356 x 252 x 16 mm dimension & 1.9 kg weight   \n",
       "\n",
       "                                   Graphic_Processor  Seller      Price  \\\n",
       "0  16 GB DDR6 NVIDIA GeForce RTX 3080 Ti Graphics...     N/A        N/A   \n",
       "1  16 GB DDR6 NVIDIA GEFORCE RTX 3080 Ti Graphics...   Croma  ₹ 389,990   \n",
       "2  8 GB DDR6 NVIDIA GeForce RTX 3070 Ti Graphics ...  Amazon  ₹ 229,990   \n",
       "3   8 GB GDDR6 NVIDIA GeForce RTX 3070 Graphics card  Amazon  ₹ 176,490   \n",
       "4    8 GB DDR6 NVIDIA GeForce RTX 3070 Graphics card     N/A  ₹ 172,999   \n",
       "5       10 GB DDR6 AMD Radeon RX 6700M Graphics card     N/A  ₹ 188,990   \n",
       "6      8 GB GDDR6 AMD Radeon™ RX 6600M Graphics card   Croma  ₹ 124,990   \n",
       "7    6 GB DDR6 NVIDIA GeForce RTX 3060 Graphics card  Amazon  ₹ 169,990   \n",
       "8    6 GB DDR6 NVIDIA GeForce RTX 3060 Graphics card  Amazon  ₹ 174,000   \n",
       "9  6 GB DDR6 NVIDIA GeForce 3060 Max-Q Graphics card   Croma  ₹ 131,990   \n",
       "\n",
       "                                        Product_desc  \n",
       "0        397 x 330 x 23 mm dimension & 3.3 kg weight  \n",
       "1       299 x 359 x 21 mm dimension & 2.96 kg weight  \n",
       "2        262 x 359 x 20 mm dimension & 2.4 kg weight  \n",
       "3       369 x 248 x 23 mm dimension & 2.32 kg weight  \n",
       "4      363 x 255 x 23.9 mm dimension & 2.4 kg weight  \n",
       "5        357 x 247 x 19 mm dimension & 1.9 kg weight  \n",
       "6    36.92 x 24.8 x 2.3 mm dimension & 2.3 kg weight  \n",
       "7       360 x 264 x 20 mm dimension & 2.49 kg weight  \n",
       "8  356.2 x 272.5 x 22.85 mm dimension & 2.69 kg w...  \n",
       "9        356 x 252 x 16 mm dimension & 1.9 kg weight  "
      ]
     },
     "execution_count": 33,
     "metadata": {},
     "output_type": "execute_result"
    }
   ],
   "source": [
    "Laptops=pd.DataFrame()\n",
    "Laptops['Laptop_name']= Laptop_name\n",
    "Laptops['OS']= OS\n",
    "Laptops['Display']= Display\n",
    "Laptops['Processor']= Processor\n",
    "Laptops['Memory']= Memory\n",
    "Laptops['Weight']= Weight\n",
    "Laptops['Dimension']= Dimension\n",
    "Laptops['Graphic_Processor']= Graphic_Processor\n",
    "Laptops['Seller']= Seller\n",
    "Laptops['Price']= Price\n",
    "Laptops['Product_desc']= Weight\n",
    "Laptops"
   ]
  },
  {
   "cell_type": "code",
   "execution_count": null,
   "id": "f7123799",
   "metadata": {},
   "outputs": [],
   "source": []
  },
  {
   "cell_type": "code",
   "execution_count": null,
   "id": "c9113ef5",
   "metadata": {},
   "outputs": [],
   "source": []
  }
 ],
 "metadata": {
  "kernelspec": {
   "display_name": "Python 3 (ipykernel)",
   "language": "python",
   "name": "python3"
  },
  "language_info": {
   "codemirror_mode": {
    "name": "ipython",
    "version": 3
   },
   "file_extension": ".py",
   "mimetype": "text/x-python",
   "name": "python",
   "nbconvert_exporter": "python",
   "pygments_lexer": "ipython3",
   "version": "3.9.13"
  }
 },
 "nbformat": 4,
 "nbformat_minor": 5
}
