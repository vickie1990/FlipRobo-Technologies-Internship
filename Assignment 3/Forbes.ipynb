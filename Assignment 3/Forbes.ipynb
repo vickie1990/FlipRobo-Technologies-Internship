{
 "cells": [
  {
   "cell_type": "code",
   "execution_count": 1,
   "id": "9ac285c0",
   "metadata": {},
   "outputs": [
    {
     "name": "stdout",
     "output_type": "stream",
     "text": [
      "Defaulting to user installation because normal site-packages is not writeable\n",
      "Requirement already satisfied: selenium in c:\\users\\hp\\appdata\\roaming\\python\\python39\\site-packages (4.7.2)\n",
      "Requirement already satisfied: certifi>=2021.10.8 in c:\\programdata\\anaconda3\\lib\\site-packages (from selenium) (2022.9.14)\n",
      "Requirement already satisfied: trio~=0.17 in c:\\users\\hp\\appdata\\roaming\\python\\python39\\site-packages (from selenium) (0.22.0)\n",
      "Requirement already satisfied: urllib3[socks]~=1.26 in c:\\programdata\\anaconda3\\lib\\site-packages (from selenium) (1.26.11)\n",
      "Requirement already satisfied: trio-websocket~=0.9 in c:\\users\\hp\\appdata\\roaming\\python\\python39\\site-packages (from selenium) (0.9.2)\n",
      "Requirement already satisfied: sniffio in c:\\programdata\\anaconda3\\lib\\site-packages (from trio~=0.17->selenium) (1.2.0)\n",
      "Requirement already satisfied: exceptiongroup>=1.0.0rc9 in c:\\users\\hp\\appdata\\roaming\\python\\python39\\site-packages (from trio~=0.17->selenium) (1.0.4)\n",
      "Requirement already satisfied: idna in c:\\programdata\\anaconda3\\lib\\site-packages (from trio~=0.17->selenium) (3.3)\n",
      "Requirement already satisfied: sortedcontainers in c:\\programdata\\anaconda3\\lib\\site-packages (from trio~=0.17->selenium) (2.4.0)\n",
      "Requirement already satisfied: async-generator>=1.9 in c:\\users\\hp\\appdata\\roaming\\python\\python39\\site-packages (from trio~=0.17->selenium) (1.10)\n",
      "Requirement already satisfied: cffi>=1.14 in c:\\programdata\\anaconda3\\lib\\site-packages (from trio~=0.17->selenium) (1.15.1)\n",
      "Requirement already satisfied: outcome in c:\\users\\hp\\appdata\\roaming\\python\\python39\\site-packages (from trio~=0.17->selenium) (1.2.0)\n",
      "Requirement already satisfied: attrs>=19.2.0 in c:\\programdata\\anaconda3\\lib\\site-packages (from trio~=0.17->selenium) (21.4.0)\n",
      "Requirement already satisfied: wsproto>=0.14 in c:\\users\\hp\\appdata\\roaming\\python\\python39\\site-packages (from trio-websocket~=0.9->selenium) (1.2.0)\n",
      "Requirement already satisfied: PySocks!=1.5.7,<2.0,>=1.5.6 in c:\\programdata\\anaconda3\\lib\\site-packages (from urllib3[socks]~=1.26->selenium) (1.7.1)\n",
      "Requirement already satisfied: pycparser in c:\\programdata\\anaconda3\\lib\\site-packages (from cffi>=1.14->trio~=0.17->selenium) (2.21)\n",
      "Requirement already satisfied: h11<1,>=0.9.0 in c:\\users\\hp\\appdata\\roaming\\python\\python39\\site-packages (from wsproto>=0.14->trio-websocket~=0.9->selenium) (0.14.0)\n"
     ]
    }
   ],
   "source": [
    "!pip install selenium"
   ]
  },
  {
   "cell_type": "markdown",
   "id": "e32683fe",
   "metadata": {},
   "source": [
    "Q.8 Write a python program to scrape the details for all billionaires from www.forbes.com. Details to be scrapped: “Rank”, “Name”, “Net worth”, “Age”, “Citizenship”, “Source”, “Industry”."
   ]
  },
  {
   "cell_type": "code",
   "execution_count": 2,
   "id": "7c24b61d",
   "metadata": {},
   "outputs": [],
   "source": [
    "import pandas as pd\n",
    "import selenium\n",
    "from selenium import webdriver\n",
    "import time\n",
    "from selenium.common.exceptions import NoSuchElementException\n",
    "import warnings\n",
    "warnings.filterwarnings('ignore')\n",
    "from selenium.webdriver.common.by import By\n",
    "\n"
   ]
  },
  {
   "cell_type": "code",
   "execution_count": 3,
   "id": "f7d1c00b",
   "metadata": {},
   "outputs": [],
   "source": [
    "driver=webdriver.Chrome(r'C:\\Users\\hp\\Downloads\\chromedriver_win32\\chromedriver.exe')"
   ]
  },
  {
   "cell_type": "code",
   "execution_count": 4,
   "id": "1bc4c8ed",
   "metadata": {},
   "outputs": [],
   "source": [
    "driver.get(\"https://www.forbes.com/?sh=61a589f2254c\")"
   ]
  },
  {
   "cell_type": "code",
   "execution_count": 5,
   "id": "0a1bf086",
   "metadata": {},
   "outputs": [
    {
     "data": {
      "text/plain": [
       "<selenium.webdriver.remote.webelement.WebElement (session=\"f23174a1f0719a3d40699c0c26432f4b\", element=\"cddf96ee-9a3d-4e47-ad0e-02100d7c561a\")>"
      ]
     },
     "execution_count": 5,
     "metadata": {},
     "output_type": "execute_result"
    }
   ],
   "source": [
    "billionaire_btn=driver.find_element(By.XPATH,'/html/body/div[1]/main/section[8]/div[1]/a')\n",
    "billionaire_btn"
   ]
  },
  {
   "cell_type": "code",
   "execution_count": 6,
   "id": "77059723",
   "metadata": {},
   "outputs": [],
   "source": [
    "billionaire_btn.click()"
   ]
  },
  {
   "cell_type": "code",
   "execution_count": 7,
   "id": "6f34062a",
   "metadata": {},
   "outputs": [
    {
     "data": {
      "text/plain": [
       "<selenium.webdriver.remote.webelement.WebElement (session=\"f23174a1f0719a3d40699c0c26432f4b\", element=\"80c7e394-2522-48fb-83c7-0f0eac68038b\")>"
      ]
     },
     "execution_count": 7,
     "metadata": {},
     "output_type": "execute_result"
    }
   ],
   "source": [
    "list_btn=driver.find_element(By.XPATH,'/html/body/div[1]/main/div/section/section[1]/div/div/div[1]/div/div[1]/div[1]/div[2]/a/h2')\n",
    "list_btn"
   ]
  },
  {
   "cell_type": "code",
   "execution_count": 8,
   "id": "f2b464c3",
   "metadata": {},
   "outputs": [],
   "source": [
    "list_btn.click()"
   ]
  },
  {
   "cell_type": "code",
   "execution_count": 9,
   "id": "400eef5b",
   "metadata": {},
   "outputs": [],
   "source": [
    "Rank=[]\n",
    "Name=[]\n",
    "Net_worth=[] \n",
    "Age=[]\n",
    "Citizenship=[] \n",
    "Source=[] \n",
    "Industry=[]"
   ]
  },
  {
   "cell_type": "code",
   "execution_count": 10,
   "id": "bad4395f",
   "metadata": {},
   "outputs": [
    {
     "data": {
      "text/plain": [
       "0"
      ]
     },
     "execution_count": 10,
     "metadata": {},
     "output_type": "execute_result"
    }
   ],
   "source": [
    "rank_tags=driver.find_elements(By.XPATH,'//div[@class=\"rank\"]')\n",
    "len(rank_tags)\n"
   ]
  },
  {
   "cell_type": "code",
   "execution_count": 11,
   "id": "9f08a6c5",
   "metadata": {},
   "outputs": [],
   "source": [
    "Rank=[]\n",
    "for i in rank_tags:\n",
    "    Rank.append(i.text)\n",
    "     "
   ]
  },
  {
   "cell_type": "code",
   "execution_count": 12,
   "id": "f002fdbb",
   "metadata": {},
   "outputs": [
    {
     "data": {
      "text/plain": [
       "200"
      ]
     },
     "execution_count": 12,
     "metadata": {},
     "output_type": "execute_result"
    }
   ],
   "source": [
    "name_tags=driver.find_elements(By.XPATH,'//div[@class=\"personName\"]/div')\n",
    "len(name_tags)"
   ]
  },
  {
   "cell_type": "code",
   "execution_count": 13,
   "id": "0cf80bf1",
   "metadata": {},
   "outputs": [],
   "source": [
    "Name=[]\n",
    "for i in name_tags:\n",
    "    Name.append(i.text)"
   ]
  },
  {
   "cell_type": "code",
   "execution_count": 14,
   "id": "ccaeddbb",
   "metadata": {},
   "outputs": [
    {
     "data": {
      "text/plain": [
       "200"
      ]
     },
     "execution_count": 14,
     "metadata": {},
     "output_type": "execute_result"
    }
   ],
   "source": [
    "nw_tags=driver.find_elements(By.XPATH,'//div[@class=\"netWorth\"]/div')\n",
    "len(nw_tags)"
   ]
  },
  {
   "cell_type": "code",
   "execution_count": 15,
   "id": "32ea734b",
   "metadata": {},
   "outputs": [],
   "source": [
    "Net_worth=[]\n",
    "for i in nw_tags:\n",
    "    Net_worth.append(i.text)"
   ]
  },
  {
   "cell_type": "code",
   "execution_count": 16,
   "id": "8543f5a6",
   "metadata": {},
   "outputs": [
    {
     "data": {
      "text/plain": [
       "200"
      ]
     },
     "execution_count": 16,
     "metadata": {},
     "output_type": "execute_result"
    }
   ],
   "source": [
    "age_tags=driver.find_elements(By.XPATH,'//div[@class=\"age\"]/div')\n",
    "len(age_tags)"
   ]
  },
  {
   "cell_type": "code",
   "execution_count": 17,
   "id": "6dc5c5a7",
   "metadata": {},
   "outputs": [],
   "source": [
    "Age=[]\n",
    "for i in age_tags:\n",
    "    Age.append(i.text)"
   ]
  },
  {
   "cell_type": "code",
   "execution_count": 18,
   "id": "6c98adff",
   "metadata": {},
   "outputs": [
    {
     "data": {
      "text/plain": [
       "200"
      ]
     },
     "execution_count": 18,
     "metadata": {},
     "output_type": "execute_result"
    }
   ],
   "source": [
    "ct_tags=driver.find_elements(By.XPATH,'//div[@class=\"countryOfCitizenship\"]')\n",
    "len(ct_tags)"
   ]
  },
  {
   "cell_type": "code",
   "execution_count": 19,
   "id": "3d598f56",
   "metadata": {},
   "outputs": [],
   "source": [
    "Citizenship=[]\n",
    "for i in ct_tags:\n",
    "    Citizenship.append(i.text)"
   ]
  },
  {
   "cell_type": "code",
   "execution_count": 20,
   "id": "9f057695",
   "metadata": {},
   "outputs": [
    {
     "data": {
      "text/plain": [
       "200"
      ]
     },
     "execution_count": 20,
     "metadata": {},
     "output_type": "execute_result"
    }
   ],
   "source": [
    "s_tags=driver.find_elements(By.XPATH,'//div[@class=\"source-column\"]')\n",
    "len(s_tags)"
   ]
  },
  {
   "cell_type": "code",
   "execution_count": 21,
   "id": "fa304a57",
   "metadata": {},
   "outputs": [
    {
     "data": {
      "text/plain": [
       "['Tesla, SpaceX',\n",
       " 'Amazon',\n",
       " 'LVMH',\n",
       " 'Microsoft',\n",
       " 'Berkshire Hathaway',\n",
       " 'Google',\n",
       " 'Google',\n",
       " 'software',\n",
       " 'Microsoft',\n",
       " 'diversified',\n",
       " 'infrastructure, commodities',\n",
       " 'Bloomberg LP',\n",
       " 'telecom',\n",
       " \"L'Oréal\",\n",
       " 'Facebook',\n",
       " 'Walmart',\n",
       " 'beverages, pharmaceuticals',\n",
       " 'Walmart',\n",
       " 'Walmart',\n",
       " 'cryptocurrency exchange',\n",
       " 'Koch Industries',\n",
       " 'Koch Industries',\n",
       " 'Zara',\n",
       " 'Dell computers',\n",
       " 'TikTok',\n",
       " 'media',\n",
       " 'Nike',\n",
       " 'retail',\n",
       " 'batteries',\n",
       " 'Amazon',\n",
       " 'shipping',\n",
       " 'luxury goods',\n",
       " 'shipping',\n",
       " 'internet media',\n",
       " 'supermarkets',\n",
       " 'Nutella, chocolates',\n",
       " 'diversified',\n",
       " 'investments',\n",
       " 'real estate',\n",
       " 'music, chemicals',\n",
       " 'candy, pet food',\n",
       " 'candy, pet food',\n",
       " 'Chanel',\n",
       " 'Chanel',\n",
       " 'mining',\n",
       " 'mining',\n",
       " 'software services',\n",
       " 'hedge funds',\n",
       " 'home appliances',\n",
       " 'casinos',\n",
       " 'Red Bull',\n",
       " 'eyeglasses',\n",
       " 'hedge funds',\n",
       " 'fashion retail',\n",
       " 'online games',\n",
       " 'BMW, pharmaceuticals',\n",
       " 'vaccines',\n",
       " 'package delivery',\n",
       " 'pig breeding',\n",
       " 'cryptocurrency exchange',\n",
       " 'sensors',\n",
       " 'automobiles',\n",
       " 'cheese',\n",
       " 'banking, tobacco',\n",
       " 'Estee Lauder',\n",
       " 'fintech',\n",
       " 'mining',\n",
       " 'e-commerce',\n",
       " 'banking, tobacco',\n",
       " 'Google',\n",
       " 'hedge funds',\n",
       " 'Quicken Loans',\n",
       " 'hospitals',\n",
       " 'internet, telecom',\n",
       " 'money management',\n",
       " 'newspapers, TV network',\n",
       " 'BMW',\n",
       " 'semiconductors',\n",
       " 'batteries',\n",
       " 'discount brokerage',\n",
       " 'retail, investments',\n",
       " 'soy sauce',\n",
       " 'batteries, automobiles',\n",
       " 'fasteners',\n",
       " \"Aldi, Trader Joe's\",\n",
       " 'real estate',\n",
       " 'steel, transport',\n",
       " 'petrochemicals',\n",
       " 'steel',\n",
       " 'mining',\n",
       " 'vaccines',\n",
       " 'steel',\n",
       " 'mining, copper products',\n",
       " 'medical devices',\n",
       " 'H&M',\n",
       " 'hedge funds',\n",
       " 'metals',\n",
       " 'oil & gas',\n",
       " 'pharmaceuticals',\n",
       " 'chemicals',\n",
       " 'real estate',\n",
       " 'Shipping',\n",
       " 'hedge funds',\n",
       " 'finance, telecommunications',\n",
       " 'home improvement stores',\n",
       " 'commodities',\n",
       " 'investments',\n",
       " 'supermarkets',\n",
       " 'Walmart',\n",
       " 'Apple, Disney',\n",
       " 'chemicals',\n",
       " 'real estate',\n",
       " 'medical devices',\n",
       " 'automobiles, batteries',\n",
       " 'pharmaceuticals',\n",
       " 'automobiles',\n",
       " 'beer',\n",
       " 'real estate, shipping',\n",
       " 'software',\n",
       " 'real estate',\n",
       " 'Heineken',\n",
       " 'hedge funds',\n",
       " 'messaging app',\n",
       " 'software',\n",
       " 'construction',\n",
       " 'coal',\n",
       " 'wireless networking gear',\n",
       " 'media',\n",
       " 'banking',\n",
       " 'cement, sugar',\n",
       " 'gas, chemicals',\n",
       " 'telecom',\n",
       " 'real estate',\n",
       " 'agribusiness',\n",
       " 'real estate',\n",
       " 'fashion retail',\n",
       " 'diversified',\n",
       " 'video surveillance',\n",
       " 'diversified',\n",
       " 'steel, investments',\n",
       " 'real estate',\n",
       " 'business software',\n",
       " 'solar wafers and modules',\n",
       " 'real estate',\n",
       " 'internet media',\n",
       " 'hospitals',\n",
       " 'venture capital',\n",
       " 'diversified',\n",
       " 'real estate',\n",
       " 'batteries',\n",
       " 'retail, media',\n",
       " 'diversified',\n",
       " 'discount brokerage',\n",
       " 'paints',\n",
       " 'solar panel components',\n",
       " 'alcohol, real estate',\n",
       " 'trading, investments',\n",
       " 'shipping',\n",
       " 'pharmaceuticals',\n",
       " 'pharmaceuticals',\n",
       " 'oil, banking, telecom',\n",
       " 'energy',\n",
       " 'palm oil, shipping, property',\n",
       " 'smartphones',\n",
       " 'shoes',\n",
       " 'casinos/hotels',\n",
       " 'Airbnb',\n",
       " 'hedge funds',\n",
       " 'Facebook',\n",
       " 'steel, telecom, investments',\n",
       " 'security software',\n",
       " 'manufacturing',\n",
       " 'e-commerce',\n",
       " 'solar panels',\n",
       " 'eBay, PayPal',\n",
       " 'oil, gas',\n",
       " 'medical devices',\n",
       " 'coal, fertilizers',\n",
       " 'e-commerce',\n",
       " 'investments',\n",
       " 'Google',\n",
       " 'real estate',\n",
       " 'roofing',\n",
       " 'sports, real estate',\n",
       " 'Dallas Cowboys',\n",
       " 'banking, property',\n",
       " 'Facebook',\n",
       " 'oil',\n",
       " 'e-commerce',\n",
       " 'shipping',\n",
       " 'investments',\n",
       " 'investments',\n",
       " 'petrochemicals',\n",
       " 'drugstores',\n",
       " 'investments',\n",
       " 'beer',\n",
       " 'private equity',\n",
       " 'Airbnb',\n",
       " 'movies, record labels',\n",
       " 'semiconductors']"
      ]
     },
     "execution_count": 21,
     "metadata": {},
     "output_type": "execute_result"
    }
   ],
   "source": [
    "Source=[]\n",
    "for i in s_tags:\n",
    "    Source.append(i.text)\n",
    "Source"
   ]
  },
  {
   "cell_type": "code",
   "execution_count": 22,
   "id": "77717592",
   "metadata": {},
   "outputs": [
    {
     "data": {
      "text/plain": [
       "200"
      ]
     },
     "execution_count": 22,
     "metadata": {},
     "output_type": "execute_result"
    }
   ],
   "source": [
    "ind_tags=driver.find_elements(By.XPATH,'//div[@class=\"category\"]/div')\n",
    "len(ind_tags)"
   ]
  },
  {
   "cell_type": "code",
   "execution_count": 23,
   "id": "2b9d11c1",
   "metadata": {},
   "outputs": [
    {
     "data": {
      "text/plain": [
       "['Automotive',\n",
       " 'Technology',\n",
       " 'Fashion & Retail',\n",
       " 'Technology',\n",
       " 'Finance & Investments',\n",
       " 'Technology',\n",
       " 'Technology',\n",
       " 'Technology',\n",
       " 'Technology',\n",
       " 'Diversified',\n",
       " 'Diversified',\n",
       " 'Media & Entertainment',\n",
       " 'Telecom',\n",
       " 'Fashion & Retail',\n",
       " 'Technology',\n",
       " 'Fashion & Retail',\n",
       " 'Food & Beverage',\n",
       " 'Fashion & Retail',\n",
       " 'Fashion & Retail',\n",
       " 'Finance & Investments',\n",
       " 'Diversified',\n",
       " 'Diversified',\n",
       " 'Fashion & Retail',\n",
       " 'Technology',\n",
       " 'Media & Entertainment',\n",
       " 'Media & Entertainment',\n",
       " 'Fashion & Retail',\n",
       " 'Fashion & Retail',\n",
       " 'Automotive',\n",
       " 'Technology',\n",
       " 'Logistics',\n",
       " 'Fashion & Retail',\n",
       " 'Logistics',\n",
       " 'Technology',\n",
       " 'Fashion & Retail',\n",
       " 'Food & Beverage',\n",
       " 'Diversified',\n",
       " 'Finance & Investments',\n",
       " 'Real Estate',\n",
       " 'Diversified',\n",
       " 'Food & Beverage',\n",
       " 'Food & Beverage',\n",
       " 'Fashion & Retail',\n",
       " 'Fashion & Retail',\n",
       " 'Metals & Mining',\n",
       " 'Metals & Mining',\n",
       " 'Technology',\n",
       " 'Finance & Investments',\n",
       " 'Manufacturing',\n",
       " 'Gambling & Casinos',\n",
       " 'Food & Beverage',\n",
       " 'Fashion & Retail',\n",
       " 'Finance & Investments',\n",
       " 'Fashion & Retail',\n",
       " 'Technology',\n",
       " 'Automotive',\n",
       " 'Healthcare',\n",
       " 'Service',\n",
       " 'Food & Beverage',\n",
       " 'Finance & Investments',\n",
       " 'Manufacturing',\n",
       " 'Automotive',\n",
       " 'Food & Beverage',\n",
       " 'Finance & Investments',\n",
       " 'Fashion & Retail',\n",
       " 'Finance & Investments',\n",
       " 'Metals & Mining',\n",
       " 'Technology',\n",
       " 'Manufacturing',\n",
       " 'Technology',\n",
       " 'Finance & Investments',\n",
       " 'Finance & Investments',\n",
       " 'Healthcare',\n",
       " 'Telecom',\n",
       " 'Finance & Investments',\n",
       " 'Media & Entertainment',\n",
       " 'Automotive',\n",
       " 'Technology',\n",
       " 'Automotive',\n",
       " 'Finance & Investments',\n",
       " 'Fashion & Retail',\n",
       " 'Food & Beverage',\n",
       " 'Automotive',\n",
       " 'Manufacturing',\n",
       " 'Fashion & Retail',\n",
       " 'Real Estate',\n",
       " 'Metals & Mining',\n",
       " 'Energy',\n",
       " 'Metals & Mining',\n",
       " 'Metals & Mining',\n",
       " 'Healthcare',\n",
       " 'Metals & Mining',\n",
       " 'Metals & Mining',\n",
       " 'Healthcare',\n",
       " 'Fashion & Retail',\n",
       " 'Finance & Investments',\n",
       " 'Metals & Mining',\n",
       " 'Energy',\n",
       " 'Healthcare',\n",
       " 'Manufacturing',\n",
       " 'Real Estate',\n",
       " 'Logistics',\n",
       " 'Finance & Investments',\n",
       " 'Finance & Investments',\n",
       " 'Fashion & Retail',\n",
       " 'Diversified',\n",
       " 'Finance & Investments',\n",
       " 'Fashion & Retail',\n",
       " 'Fashion & Retail',\n",
       " 'Technology',\n",
       " 'Manufacturing',\n",
       " 'Real Estate',\n",
       " 'Healthcare',\n",
       " 'Automotive',\n",
       " 'Healthcare',\n",
       " 'Automotive',\n",
       " 'Food & Beverage',\n",
       " 'Diversified',\n",
       " 'Technology',\n",
       " 'Real Estate',\n",
       " 'Food & Beverage',\n",
       " 'Finance & Investments',\n",
       " 'Technology',\n",
       " 'Technology',\n",
       " 'Construction & Engineering',\n",
       " 'Metals & Mining',\n",
       " 'Technology',\n",
       " 'Media & Entertainment',\n",
       " 'Finance & Investments',\n",
       " 'Manufacturing',\n",
       " 'Energy',\n",
       " 'Telecom',\n",
       " 'Real Estate',\n",
       " 'Food & Beverage',\n",
       " 'Real Estate',\n",
       " 'Fashion & Retail',\n",
       " 'Diversified',\n",
       " 'Finance & Investments',\n",
       " 'Service',\n",
       " 'Metals & Mining',\n",
       " 'Real Estate',\n",
       " 'Technology',\n",
       " 'Manufacturing',\n",
       " 'Real Estate',\n",
       " 'Technology',\n",
       " 'Healthcare',\n",
       " 'Technology',\n",
       " 'Diversified',\n",
       " 'Real Estate',\n",
       " 'Energy',\n",
       " 'Fashion & Retail',\n",
       " 'Diversified',\n",
       " 'Finance & Investments',\n",
       " 'Manufacturing',\n",
       " 'Manufacturing',\n",
       " 'Food & Beverage',\n",
       " 'Finance & Investments',\n",
       " 'Logistics',\n",
       " 'Healthcare',\n",
       " 'Healthcare',\n",
       " 'Energy',\n",
       " 'Energy',\n",
       " 'Diversified',\n",
       " 'Technology',\n",
       " 'Fashion & Retail',\n",
       " 'Gambling & Casinos',\n",
       " 'Technology',\n",
       " 'Finance & Investments',\n",
       " 'Technology',\n",
       " 'Metals & Mining',\n",
       " 'Technology',\n",
       " 'Manufacturing',\n",
       " 'Technology',\n",
       " 'Energy',\n",
       " 'Technology',\n",
       " 'Energy',\n",
       " 'Healthcare',\n",
       " 'Metals & Mining',\n",
       " 'Technology',\n",
       " 'Finance & Investments',\n",
       " 'Technology',\n",
       " 'Real Estate',\n",
       " 'Construction & Engineering',\n",
       " 'Sports',\n",
       " 'Sports',\n",
       " 'Diversified',\n",
       " 'Media & Entertainment',\n",
       " 'Energy',\n",
       " 'Technology',\n",
       " 'Diversified',\n",
       " 'Finance & Investments',\n",
       " 'Finance & Investments',\n",
       " 'Manufacturing',\n",
       " 'Fashion & Retail',\n",
       " 'Finance & Investments',\n",
       " 'Food & Beverage',\n",
       " 'Finance & Investments',\n",
       " 'Technology',\n",
       " 'Media & Entertainment',\n",
       " 'Manufacturing']"
      ]
     },
     "execution_count": 23,
     "metadata": {},
     "output_type": "execute_result"
    }
   ],
   "source": [
    "Industry=[]\n",
    "for i in ind_tags:\n",
    "    Industry.append(i.text)\n",
    "Industry"
   ]
  },
  {
   "cell_type": "code",
   "execution_count": 24,
   "id": "636c1e0c",
   "metadata": {},
   "outputs": [
    {
     "data": {
      "text/plain": [
       "(0, 200, 200, 200, 200, 200, 200)"
      ]
     },
     "execution_count": 24,
     "metadata": {},
     "output_type": "execute_result"
    }
   ],
   "source": [
    "len(Rank),len(Name),len(Net_worth),len(Age),len(Citizenship),len(Source),len(Industry)"
   ]
  },
  {
   "cell_type": "code",
   "execution_count": 25,
   "id": "09e29c72",
   "metadata": {},
   "outputs": [
    {
     "data": {
      "text/html": [
       "<div>\n",
       "<style scoped>\n",
       "    .dataframe tbody tr th:only-of-type {\n",
       "        vertical-align: middle;\n",
       "    }\n",
       "\n",
       "    .dataframe tbody tr th {\n",
       "        vertical-align: top;\n",
       "    }\n",
       "\n",
       "    .dataframe thead th {\n",
       "        text-align: right;\n",
       "    }\n",
       "</style>\n",
       "<table border=\"1\" class=\"dataframe\">\n",
       "  <thead>\n",
       "    <tr style=\"text-align: right;\">\n",
       "      <th></th>\n",
       "      <th>Rank</th>\n",
       "      <th>Name</th>\n",
       "      <th>Net_worth</th>\n",
       "      <th>Age</th>\n",
       "      <th>Citizenship</th>\n",
       "      <th>Source</th>\n",
       "      <th>Industry</th>\n",
       "    </tr>\n",
       "  </thead>\n",
       "  <tbody>\n",
       "    <tr>\n",
       "      <th>0</th>\n",
       "      <td>NaN</td>\n",
       "      <td>Elon Musk</td>\n",
       "      <td>$219 B</td>\n",
       "      <td>50</td>\n",
       "      <td>United States</td>\n",
       "      <td>Tesla, SpaceX</td>\n",
       "      <td>Automotive</td>\n",
       "    </tr>\n",
       "    <tr>\n",
       "      <th>1</th>\n",
       "      <td>NaN</td>\n",
       "      <td>Jeff Bezos</td>\n",
       "      <td>$171 B</td>\n",
       "      <td>58</td>\n",
       "      <td>United States</td>\n",
       "      <td>Amazon</td>\n",
       "      <td>Technology</td>\n",
       "    </tr>\n",
       "    <tr>\n",
       "      <th>2</th>\n",
       "      <td>NaN</td>\n",
       "      <td>Bernard Arnault &amp; family</td>\n",
       "      <td>$158 B</td>\n",
       "      <td>73</td>\n",
       "      <td>France</td>\n",
       "      <td>LVMH</td>\n",
       "      <td>Fashion &amp; Retail</td>\n",
       "    </tr>\n",
       "    <tr>\n",
       "      <th>3</th>\n",
       "      <td>NaN</td>\n",
       "      <td>Bill Gates</td>\n",
       "      <td>$129 B</td>\n",
       "      <td>66</td>\n",
       "      <td>United States</td>\n",
       "      <td>Microsoft</td>\n",
       "      <td>Technology</td>\n",
       "    </tr>\n",
       "    <tr>\n",
       "      <th>4</th>\n",
       "      <td>NaN</td>\n",
       "      <td>Warren Buffett</td>\n",
       "      <td>$118 B</td>\n",
       "      <td>91</td>\n",
       "      <td>United States</td>\n",
       "      <td>Berkshire Hathaway</td>\n",
       "      <td>Finance &amp; Investments</td>\n",
       "    </tr>\n",
       "    <tr>\n",
       "      <th>...</th>\n",
       "      <td>...</td>\n",
       "      <td>...</td>\n",
       "      <td>...</td>\n",
       "      <td>...</td>\n",
       "      <td>...</td>\n",
       "      <td>...</td>\n",
       "      <td>...</td>\n",
       "    </tr>\n",
       "    <tr>\n",
       "      <th>195</th>\n",
       "      <td>NaN</td>\n",
       "      <td>Marcel Herrmann Telles</td>\n",
       "      <td>$10.3 B</td>\n",
       "      <td>72</td>\n",
       "      <td>Brazil</td>\n",
       "      <td>beer</td>\n",
       "      <td>Food &amp; Beverage</td>\n",
       "    </tr>\n",
       "    <tr>\n",
       "      <th>196</th>\n",
       "      <td>NaN</td>\n",
       "      <td>Leon Black</td>\n",
       "      <td>$10 B</td>\n",
       "      <td>70</td>\n",
       "      <td>United States</td>\n",
       "      <td>private equity</td>\n",
       "      <td>Finance &amp; Investments</td>\n",
       "    </tr>\n",
       "    <tr>\n",
       "      <th>197</th>\n",
       "      <td>NaN</td>\n",
       "      <td>Joe Gebbia</td>\n",
       "      <td>$10 B</td>\n",
       "      <td>40</td>\n",
       "      <td>United States</td>\n",
       "      <td>Airbnb</td>\n",
       "      <td>Technology</td>\n",
       "    </tr>\n",
       "    <tr>\n",
       "      <th>198</th>\n",
       "      <td>NaN</td>\n",
       "      <td>David Geffen</td>\n",
       "      <td>$10 B</td>\n",
       "      <td>79</td>\n",
       "      <td>United States</td>\n",
       "      <td>movies, record labels</td>\n",
       "      <td>Media &amp; Entertainment</td>\n",
       "    </tr>\n",
       "    <tr>\n",
       "      <th>199</th>\n",
       "      <td>NaN</td>\n",
       "      <td>Yu Renrong</td>\n",
       "      <td>$10 B</td>\n",
       "      <td>56</td>\n",
       "      <td>China</td>\n",
       "      <td>semiconductors</td>\n",
       "      <td>Manufacturing</td>\n",
       "    </tr>\n",
       "  </tbody>\n",
       "</table>\n",
       "<p>200 rows × 7 columns</p>\n",
       "</div>"
      ],
      "text/plain": [
       "     Rank                      Name Net_worth Age    Citizenship  \\\n",
       "0     NaN                 Elon Musk    $219 B  50  United States   \n",
       "1     NaN                Jeff Bezos    $171 B  58  United States   \n",
       "2     NaN  Bernard Arnault & family    $158 B  73         France   \n",
       "3     NaN                Bill Gates    $129 B  66  United States   \n",
       "4     NaN            Warren Buffett    $118 B  91  United States   \n",
       "..    ...                       ...       ...  ..            ...   \n",
       "195   NaN    Marcel Herrmann Telles   $10.3 B  72         Brazil   \n",
       "196   NaN                Leon Black     $10 B  70  United States   \n",
       "197   NaN                Joe Gebbia     $10 B  40  United States   \n",
       "198   NaN              David Geffen     $10 B  79  United States   \n",
       "199   NaN                Yu Renrong     $10 B  56          China   \n",
       "\n",
       "                    Source               Industry  \n",
       "0            Tesla, SpaceX             Automotive  \n",
       "1                   Amazon             Technology  \n",
       "2                     LVMH       Fashion & Retail  \n",
       "3                Microsoft             Technology  \n",
       "4       Berkshire Hathaway  Finance & Investments  \n",
       "..                     ...                    ...  \n",
       "195                   beer        Food & Beverage  \n",
       "196         private equity  Finance & Investments  \n",
       "197                 Airbnb             Technology  \n",
       "198  movies, record labels  Media & Entertainment  \n",
       "199         semiconductors          Manufacturing  \n",
       "\n",
       "[200 rows x 7 columns]"
      ]
     },
     "execution_count": 25,
     "metadata": {},
     "output_type": "execute_result"
    }
   ],
   "source": [
    "Billionaires=pd.DataFrame()\n",
    "Billionaires['Rank']= Rank\n",
    "Billionaires['Name']= Name\n",
    "Billionaires['Net_worth']= Net_worth\n",
    "Billionaires['Age']= Age\n",
    "Billionaires['Citizenship']= Citizenship\n",
    "Billionaires['Source']= Source\n",
    "Billionaires['Industry']= Industry\n",
    "Billionaires"
   ]
  },
  {
   "cell_type": "code",
   "execution_count": null,
   "id": "2190d644",
   "metadata": {},
   "outputs": [],
   "source": []
  }
 ],
 "metadata": {
  "kernelspec": {
   "display_name": "Python 3 (ipykernel)",
   "language": "python",
   "name": "python3"
  },
  "language_info": {
   "codemirror_mode": {
    "name": "ipython",
    "version": 3
   },
   "file_extension": ".py",
   "mimetype": "text/x-python",
   "name": "python",
   "nbconvert_exporter": "python",
   "pygments_lexer": "ipython3",
   "version": "3.9.13"
  }
 },
 "nbformat": 4,
 "nbformat_minor": 5
}
