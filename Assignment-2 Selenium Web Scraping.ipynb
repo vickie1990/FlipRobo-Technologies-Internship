{
 "cells": [
  {
   "cell_type": "code",
   "execution_count": 1,
   "id": "e724c4f4",
   "metadata": {},
   "outputs": [
    {
     "name": "stdout",
     "output_type": "stream",
     "text": [
      "Defaulting to user installation because normal site-packages is not writeable\n",
      "Requirement already satisfied: selenium in c:\\users\\hp\\appdata\\roaming\\python\\python39\\site-packages (4.7.2)\n",
      "Requirement already satisfied: urllib3[socks]~=1.26 in c:\\programdata\\anaconda3\\lib\\site-packages (from selenium) (1.26.11)\n",
      "Requirement already satisfied: trio~=0.17 in c:\\users\\hp\\appdata\\roaming\\python\\python39\\site-packages (from selenium) (0.22.0)\n",
      "Requirement already satisfied: certifi>=2021.10.8 in c:\\programdata\\anaconda3\\lib\\site-packages (from selenium) (2022.9.14)\n",
      "Requirement already satisfied: trio-websocket~=0.9 in c:\\users\\hp\\appdata\\roaming\\python\\python39\\site-packages (from selenium) (0.9.2)\n",
      "Requirement already satisfied: idna in c:\\programdata\\anaconda3\\lib\\site-packages (from trio~=0.17->selenium) (3.3)\n",
      "Requirement already satisfied: sniffio in c:\\programdata\\anaconda3\\lib\\site-packages (from trio~=0.17->selenium) (1.2.0)\n",
      "Requirement already satisfied: sortedcontainers in c:\\programdata\\anaconda3\\lib\\site-packages (from trio~=0.17->selenium) (2.4.0)\n",
      "Requirement already satisfied: exceptiongroup>=1.0.0rc9 in c:\\users\\hp\\appdata\\roaming\\python\\python39\\site-packages (from trio~=0.17->selenium) (1.0.4)\n",
      "Requirement already satisfied: async-generator>=1.9 in c:\\users\\hp\\appdata\\roaming\\python\\python39\\site-packages (from trio~=0.17->selenium) (1.10)\n",
      "Requirement already satisfied: attrs>=19.2.0 in c:\\programdata\\anaconda3\\lib\\site-packages (from trio~=0.17->selenium) (21.4.0)\n",
      "Requirement already satisfied: cffi>=1.14 in c:\\programdata\\anaconda3\\lib\\site-packages (from trio~=0.17->selenium) (1.15.1)\n",
      "Requirement already satisfied: outcome in c:\\users\\hp\\appdata\\roaming\\python\\python39\\site-packages (from trio~=0.17->selenium) (1.2.0)\n",
      "Requirement already satisfied: wsproto>=0.14 in c:\\users\\hp\\appdata\\roaming\\python\\python39\\site-packages (from trio-websocket~=0.9->selenium) (1.2.0)\n",
      "Requirement already satisfied: PySocks!=1.5.7,<2.0,>=1.5.6 in c:\\programdata\\anaconda3\\lib\\site-packages (from urllib3[socks]~=1.26->selenium) (1.7.1)\n",
      "Requirement already satisfied: pycparser in c:\\programdata\\anaconda3\\lib\\site-packages (from cffi>=1.14->trio~=0.17->selenium) (2.21)\n",
      "Requirement already satisfied: h11<1,>=0.9.0 in c:\\users\\hp\\appdata\\roaming\\python\\python39\\site-packages (from wsproto>=0.14->trio-websocket~=0.9->selenium) (0.14.0)\n"
     ]
    }
   ],
   "source": [
    "! pip install selenium"
   ]
  },
  {
   "cell_type": "code",
   "execution_count": 2,
   "id": "3c874794",
   "metadata": {},
   "outputs": [],
   "source": [
    "import selenium\n",
    "import pandas as pd\n",
    "from selenium import webdriver\n",
    "import warnings\n",
    "warnings.filterwarnings('ignore')\n",
    "from selenium.webdriver.common.by import By\n",
    "import time\n"
   ]
  },
  {
   "cell_type": "code",
   "execution_count": 295,
   "id": "553ca078",
   "metadata": {},
   "outputs": [],
   "source": [
    "driver = webdriver.Chrome(r\"C:\\Users\\hp\\Downloads\\chromedriver_win32\\chromedriver.exe\")"
   ]
  },
  {
   "cell_type": "markdown",
   "id": "a5f68c7a",
   "metadata": {},
   "source": [
    "Q1: Write a python program to scrape data for “Data Analyst” Job position in “Bangalore” location. You have to scrape the job-title, job-location, company_name, experience_required. You have to scrape first 10 jobs data"
   ]
  },
  {
   "cell_type": "code",
   "execution_count": 48,
   "id": "b0d79fdf",
   "metadata": {},
   "outputs": [],
   "source": [
    "url='https://www.naukri.com'\n",
    "driver.get(url)\n"
   ]
  },
  {
   "cell_type": "code",
   "execution_count": 49,
   "id": "0b5a12c1",
   "metadata": {},
   "outputs": [
    {
     "data": {
      "text/plain": [
       "<selenium.webdriver.remote.webelement.WebElement (session=\"a390d7ae018301082e8379e1435a20d0\", element=\"c3fbbc4b-9d0f-4a2a-aaa1-d85bef2df117\")>"
      ]
     },
     "execution_count": 49,
     "metadata": {},
     "output_type": "execute_result"
    }
   ],
   "source": [
    "search_job=driver.find_element(By.CLASS_NAME,'suggestor-input ')\n",
    "search_job"
   ]
  },
  {
   "cell_type": "code",
   "execution_count": 50,
   "id": "de464c97",
   "metadata": {},
   "outputs": [],
   "source": [
    "search_job.send_keys('Data analyst')"
   ]
  },
  {
   "cell_type": "code",
   "execution_count": 51,
   "id": "8d4fda51",
   "metadata": {},
   "outputs": [
    {
     "data": {
      "text/plain": [
       "<selenium.webdriver.remote.webelement.WebElement (session=\"a390d7ae018301082e8379e1435a20d0\", element=\"6cfbe168-9727-4ec5-8d5c-7b0d5793599f\")>"
      ]
     },
     "execution_count": 51,
     "metadata": {},
     "output_type": "execute_result"
    }
   ],
   "source": [
    "search_locn=driver.find_element(By.XPATH,'/html/body/div[1]/div[6]/div/div/div[5]/div/div/div/input')\n",
    "search_locn"
   ]
  },
  {
   "cell_type": "code",
   "execution_count": 52,
   "id": "adf88aeb",
   "metadata": {},
   "outputs": [],
   "source": [
    "search_locn.send_keys('Bangalore')"
   ]
  },
  {
   "cell_type": "code",
   "execution_count": 53,
   "id": "b27ff327",
   "metadata": {},
   "outputs": [
    {
     "data": {
      "text/plain": [
       "<selenium.webdriver.remote.webelement.WebElement (session=\"a390d7ae018301082e8379e1435a20d0\", element=\"2429efb7-b4f3-4a0a-a193-69c464a8cc07\")>"
      ]
     },
     "execution_count": 53,
     "metadata": {},
     "output_type": "execute_result"
    }
   ],
   "source": [
    "search_btn=driver.find_element(By.XPATH,'/html/body/div[1]/div[6]/div/div/div[6]')\n",
    "search_btn"
   ]
  },
  {
   "cell_type": "code",
   "execution_count": 54,
   "id": "d5ed33b1",
   "metadata": {},
   "outputs": [],
   "source": [
    "search_btn.click()"
   ]
  },
  {
   "cell_type": "code",
   "execution_count": 55,
   "id": "9ae459f5",
   "metadata": {},
   "outputs": [
    {
     "data": {
      "text/plain": [
       "20"
      ]
     },
     "execution_count": 55,
     "metadata": {},
     "output_type": "execute_result"
    }
   ],
   "source": [
    "titles_tags=driver.find_elements(By.XPATH,'//a[@class=\"title fw500 ellipsis\"]')\n",
    "len(titles_tags)"
   ]
  },
  {
   "cell_type": "code",
   "execution_count": 56,
   "id": "6f255305",
   "metadata": {},
   "outputs": [
    {
     "data": {
      "text/plain": [
       "['Data Analyst',\n",
       " 'Data Analyst',\n",
       " 'Data Analyst',\n",
       " 'Senior Data Analyst II',\n",
       " 'Project Data Analyst',\n",
       " 'Data Analyst, Business Analyst',\n",
       " 'Data Analyst',\n",
       " 'Executive - Data Analyst',\n",
       " 'Data Analyst',\n",
       " 'Data Analyst']"
      ]
     },
     "execution_count": 56,
     "metadata": {},
     "output_type": "execute_result"
    }
   ],
   "source": [
    "job_titles=[]\n",
    "for i in titles_tags:\n",
    "    job_titles.append(i.text)\n",
    "job_titles[0:10]"
   ]
  },
  {
   "cell_type": "code",
   "execution_count": 57,
   "id": "e1ec9421",
   "metadata": {},
   "outputs": [
    {
     "data": {
      "text/plain": [
       "20"
      ]
     },
     "execution_count": 57,
     "metadata": {},
     "output_type": "execute_result"
    }
   ],
   "source": [
    "company_tags=driver.find_elements(By.XPATH,'//a[@class=\"subTitle ellipsis fleft\"]')\n",
    "len(company_tags)\n"
   ]
  },
  {
   "cell_type": "code",
   "execution_count": 58,
   "id": "b9afa010",
   "metadata": {},
   "outputs": [
    {
     "data": {
      "text/plain": [
       "['Shell Pvt Ltd',\n",
       " 'Shell Pvt Ltd',\n",
       " 'Shell Pvt Ltd',\n",
       " 'Flipkart',\n",
       " 'WSP',\n",
       " 'Clinilaunch Research Institute Llp',\n",
       " 'Treebo Hotels',\n",
       " 'Flipkart',\n",
       " 'Cargill',\n",
       " 'Eli Lilly And Company']"
      ]
     },
     "execution_count": 58,
     "metadata": {},
     "output_type": "execute_result"
    }
   ],
   "source": [
    "company_names=[]\n",
    "for j in company_tags:\n",
    "    company_names.append(j.text)\n",
    "company_names[0:10]\n"
   ]
  },
  {
   "cell_type": "code",
   "execution_count": 59,
   "id": "96ecc479",
   "metadata": {},
   "outputs": [
    {
     "data": {
      "text/plain": [
       "20"
      ]
     },
     "execution_count": 59,
     "metadata": {},
     "output_type": "execute_result"
    }
   ],
   "source": [
    "location_tags=driver.find_elements(By.XPATH,'//li[@class=\"fleft grey-text br2 placeHolderLi location\"]')\n",
    "len(location_tags)"
   ]
  },
  {
   "cell_type": "code",
   "execution_count": 60,
   "id": "5b72d08c",
   "metadata": {},
   "outputs": [
    {
     "data": {
      "text/plain": [
       "['Bangalore/Bengaluru',\n",
       " 'Bangalore/Bengaluru',\n",
       " 'Bangalore/Bengaluru',\n",
       " 'Bangalore/Bengaluru',\n",
       " 'Bangalore/Bengaluru',\n",
       " 'Bangalore/Bengaluru(HSR Layout +1)',\n",
       " 'Temp. WFH - Bangalore/Bengaluru',\n",
       " 'Bangalore/Bengaluru',\n",
       " 'Bangalore/Bengaluru',\n",
       " 'Bangalore/Bengaluru']"
      ]
     },
     "execution_count": 60,
     "metadata": {},
     "output_type": "execute_result"
    }
   ],
   "source": [
    "location_names=[]\n",
    "for k in location_tags:\n",
    "    location_names.append(k.text)\n",
    "location_names[0:10]"
   ]
  },
  {
   "cell_type": "code",
   "execution_count": 61,
   "id": "bec78177",
   "metadata": {},
   "outputs": [
    {
     "data": {
      "text/plain": [
       "20"
      ]
     },
     "execution_count": 61,
     "metadata": {},
     "output_type": "execute_result"
    }
   ],
   "source": [
    "experience_tags=driver.find_elements(By.XPATH,'//li[@class=\"fleft grey-text br2 placeHolderLi experience\"]/span')\n",
    "len(experience_tags)"
   ]
  },
  {
   "cell_type": "code",
   "execution_count": 62,
   "id": "e3337043",
   "metadata": {},
   "outputs": [
    {
     "data": {
      "text/plain": [
       "['2-5 Yrs',\n",
       " '3-5 Yrs',\n",
       " '2-5 Yrs',\n",
       " '2-4 Yrs',\n",
       " '0-4 Yrs',\n",
       " '0-5 Yrs',\n",
       " '1-5 Yrs',\n",
       " '1-5 Yrs',\n",
       " '2-4 Yrs',\n",
       " '2-6 Yrs']"
      ]
     },
     "execution_count": 62,
     "metadata": {},
     "output_type": "execute_result"
    }
   ],
   "source": [
    "experience_years=[]\n",
    "for k in experience_tags:\n",
    "    experience_years.append(k.text)\n",
    "experience_years[0:10]"
   ]
  },
  {
   "cell_type": "code",
   "execution_count": 63,
   "id": "9aaed06a",
   "metadata": {},
   "outputs": [
    {
     "data": {
      "text/html": [
       "<div>\n",
       "<style scoped>\n",
       "    .dataframe tbody tr th:only-of-type {\n",
       "        vertical-align: middle;\n",
       "    }\n",
       "\n",
       "    .dataframe tbody tr th {\n",
       "        vertical-align: top;\n",
       "    }\n",
       "\n",
       "    .dataframe thead th {\n",
       "        text-align: right;\n",
       "    }\n",
       "</style>\n",
       "<table border=\"1\" class=\"dataframe\">\n",
       "  <thead>\n",
       "    <tr style=\"text-align: right;\">\n",
       "      <th></th>\n",
       "      <th>Job titles</th>\n",
       "      <th>Company</th>\n",
       "      <th>Experience</th>\n",
       "      <th>Location</th>\n",
       "    </tr>\n",
       "  </thead>\n",
       "  <tbody>\n",
       "    <tr>\n",
       "      <th>0</th>\n",
       "      <td>Data Analyst</td>\n",
       "      <td>Shell Pvt Ltd</td>\n",
       "      <td>2-5 Yrs</td>\n",
       "      <td>Bangalore/Bengaluru</td>\n",
       "    </tr>\n",
       "    <tr>\n",
       "      <th>1</th>\n",
       "      <td>Data Analyst</td>\n",
       "      <td>Shell Pvt Ltd</td>\n",
       "      <td>3-5 Yrs</td>\n",
       "      <td>Bangalore/Bengaluru</td>\n",
       "    </tr>\n",
       "    <tr>\n",
       "      <th>2</th>\n",
       "      <td>Data Analyst</td>\n",
       "      <td>Shell Pvt Ltd</td>\n",
       "      <td>2-5 Yrs</td>\n",
       "      <td>Bangalore/Bengaluru</td>\n",
       "    </tr>\n",
       "    <tr>\n",
       "      <th>3</th>\n",
       "      <td>Senior Data Analyst II</td>\n",
       "      <td>Flipkart</td>\n",
       "      <td>2-4 Yrs</td>\n",
       "      <td>Bangalore/Bengaluru</td>\n",
       "    </tr>\n",
       "    <tr>\n",
       "      <th>4</th>\n",
       "      <td>Project Data Analyst</td>\n",
       "      <td>WSP</td>\n",
       "      <td>0-4 Yrs</td>\n",
       "      <td>Bangalore/Bengaluru</td>\n",
       "    </tr>\n",
       "    <tr>\n",
       "      <th>5</th>\n",
       "      <td>Data Analyst, Business Analyst</td>\n",
       "      <td>Clinilaunch Research Institute Llp</td>\n",
       "      <td>0-5 Yrs</td>\n",
       "      <td>Bangalore/Bengaluru(HSR Layout +1)</td>\n",
       "    </tr>\n",
       "    <tr>\n",
       "      <th>6</th>\n",
       "      <td>Data Analyst</td>\n",
       "      <td>Treebo Hotels</td>\n",
       "      <td>1-5 Yrs</td>\n",
       "      <td>Temp. WFH - Bangalore/Bengaluru</td>\n",
       "    </tr>\n",
       "    <tr>\n",
       "      <th>7</th>\n",
       "      <td>Executive - Data Analyst</td>\n",
       "      <td>Flipkart</td>\n",
       "      <td>1-5 Yrs</td>\n",
       "      <td>Bangalore/Bengaluru</td>\n",
       "    </tr>\n",
       "    <tr>\n",
       "      <th>8</th>\n",
       "      <td>Data Analyst</td>\n",
       "      <td>Cargill</td>\n",
       "      <td>2-4 Yrs</td>\n",
       "      <td>Bangalore/Bengaluru</td>\n",
       "    </tr>\n",
       "    <tr>\n",
       "      <th>9</th>\n",
       "      <td>Data Analyst</td>\n",
       "      <td>Eli Lilly And Company</td>\n",
       "      <td>2-6 Yrs</td>\n",
       "      <td>Bangalore/Bengaluru</td>\n",
       "    </tr>\n",
       "  </tbody>\n",
       "</table>\n",
       "</div>"
      ],
      "text/plain": [
       "                       Job titles                            Company   \\\n",
       "0                    Data Analyst                       Shell Pvt Ltd   \n",
       "1                    Data Analyst                       Shell Pvt Ltd   \n",
       "2                    Data Analyst                       Shell Pvt Ltd   \n",
       "3          Senior Data Analyst II                            Flipkart   \n",
       "4            Project Data Analyst                                 WSP   \n",
       "5  Data Analyst, Business Analyst  Clinilaunch Research Institute Llp   \n",
       "6                    Data Analyst                       Treebo Hotels   \n",
       "7        Executive - Data Analyst                            Flipkart   \n",
       "8                    Data Analyst                             Cargill   \n",
       "9                    Data Analyst               Eli Lilly And Company   \n",
       "\n",
       "  Experience                            Location  \n",
       "0    2-5 Yrs                 Bangalore/Bengaluru  \n",
       "1    3-5 Yrs                 Bangalore/Bengaluru  \n",
       "2    2-5 Yrs                 Bangalore/Bengaluru  \n",
       "3    2-4 Yrs                 Bangalore/Bengaluru  \n",
       "4    0-4 Yrs                 Bangalore/Bengaluru  \n",
       "5    0-5 Yrs  Bangalore/Bengaluru(HSR Layout +1)  \n",
       "6    1-5 Yrs     Temp. WFH - Bangalore/Bengaluru  \n",
       "7    1-5 Yrs                 Bangalore/Bengaluru  \n",
       "8    2-4 Yrs                 Bangalore/Bengaluru  \n",
       "9    2-6 Yrs                 Bangalore/Bengaluru  "
      ]
     },
     "execution_count": 63,
     "metadata": {},
     "output_type": "execute_result"
    }
   ],
   "source": [
    "len(job_titles),len(company_names),len(experience_years),len(location_names)\n",
    "\n",
    "jobs=pd.DataFrame()\n",
    "jobs['Job titles']= job_titles\n",
    "jobs['Company ']= company_names\n",
    "jobs['Experience']= experience_years\n",
    "jobs['Location']= location_names\n",
    "jobs[0:10]"
   ]
  },
  {
   "cell_type": "markdown",
   "id": "d1c442ee",
   "metadata": {},
   "source": [
    "Q2:Write a python program to scrape data for “Data Scientist” Job position in “Bangalore” location. You have to scrape the job-title, job-location, company_name, full job-description. You have to scrape first 10 jobs data."
   ]
  },
  {
   "cell_type": "code",
   "execution_count": 25,
   "id": "a427aea2",
   "metadata": {},
   "outputs": [],
   "source": [
    "url='https://www.naukri.com'\n",
    "driver.get(url)\n"
   ]
  },
  {
   "cell_type": "code",
   "execution_count": 29,
   "id": "584b13c4",
   "metadata": {},
   "outputs": [
    {
     "data": {
      "text/plain": [
       "<selenium.webdriver.remote.webelement.WebElement (session=\"a390d7ae018301082e8379e1435a20d0\", element=\"5c6b7090-4a5e-4c91-b53a-630b8ecfae0c\")>"
      ]
     },
     "execution_count": 29,
     "metadata": {},
     "output_type": "execute_result"
    }
   ],
   "source": [
    "search_job=driver.find_element(By.CLASS_NAME,'suggestor-input ')\n",
    "search_job"
   ]
  },
  {
   "cell_type": "code",
   "execution_count": 30,
   "id": "705cc7f9",
   "metadata": {},
   "outputs": [],
   "source": [
    "search_job.send_keys('Data Scientist')"
   ]
  },
  {
   "cell_type": "code",
   "execution_count": 31,
   "id": "b86817f0",
   "metadata": {},
   "outputs": [
    {
     "data": {
      "text/plain": [
       "<selenium.webdriver.remote.webelement.WebElement (session=\"a390d7ae018301082e8379e1435a20d0\", element=\"9ad7f26e-8ebb-413c-a3b7-e5fbab6de070\")>"
      ]
     },
     "execution_count": 31,
     "metadata": {},
     "output_type": "execute_result"
    }
   ],
   "source": [
    "search_locn=driver.find_element(By.XPATH,'/html/body/div[1]/div[6]/div/div/div[5]/div/div/div/input')\n",
    "search_locn\n"
   ]
  },
  {
   "cell_type": "code",
   "execution_count": 32,
   "id": "2541966d",
   "metadata": {},
   "outputs": [],
   "source": [
    "search_locn.send_keys('Bangalore')"
   ]
  },
  {
   "cell_type": "code",
   "execution_count": 33,
   "id": "6220efe6",
   "metadata": {},
   "outputs": [
    {
     "data": {
      "text/plain": [
       "<selenium.webdriver.remote.webelement.WebElement (session=\"a390d7ae018301082e8379e1435a20d0\", element=\"e903f85c-f3a6-435b-9c64-446fae03f568\")>"
      ]
     },
     "execution_count": 33,
     "metadata": {},
     "output_type": "execute_result"
    }
   ],
   "source": [
    "search_btn=driver.find_element(By.XPATH,'/html/body/div[1]/div[6]/div/div/div[6]')\n",
    "search_btn"
   ]
  },
  {
   "cell_type": "code",
   "execution_count": 34,
   "id": "8708b5d7",
   "metadata": {},
   "outputs": [],
   "source": [
    "search_btn.click()"
   ]
  },
  {
   "cell_type": "code",
   "execution_count": 36,
   "id": "5d2d199c",
   "metadata": {},
   "outputs": [
    {
     "data": {
      "text/plain": [
       "20"
      ]
     },
     "execution_count": 36,
     "metadata": {},
     "output_type": "execute_result"
    }
   ],
   "source": [
    "titles_tags=driver.find_elements(By.XPATH,'//a[@class=\"title fw500 ellipsis\"]')\n",
    "len(titles_tags)"
   ]
  },
  {
   "cell_type": "code",
   "execution_count": 37,
   "id": "b065a54b",
   "metadata": {},
   "outputs": [
    {
     "data": {
      "text/plain": [
       "['Analystics & Modeling Specialist',\n",
       " 'Data Scientist',\n",
       " 'Data Scientist',\n",
       " 'Data & Analytics Lead, Geo Analytics - GAMMA',\n",
       " 'Weather and Climate Data Scientist',\n",
       " 'Data Scientist',\n",
       " 'Data Scientist - II',\n",
       " 'Senior Data Scientist',\n",
       " 'Manager-Data Science',\n",
       " 'ACN - Applied Intelligence - Data Scientist - 09']"
      ]
     },
     "execution_count": 37,
     "metadata": {},
     "output_type": "execute_result"
    }
   ],
   "source": [
    "job_titles=[]\n",
    "for i in titles_tags:\n",
    "    job_titles.append(i.text)\n",
    "job_titles[0:10]\n"
   ]
  },
  {
   "cell_type": "code",
   "execution_count": 38,
   "id": "321c08ea",
   "metadata": {},
   "outputs": [
    {
     "data": {
      "text/plain": [
       "20"
      ]
     },
     "execution_count": 38,
     "metadata": {},
     "output_type": "execute_result"
    }
   ],
   "source": [
    "company_tags=driver.find_elements(By.XPATH,'//a[@class=\"subTitle ellipsis fleft\"]')\n",
    "len(company_tags)\n"
   ]
  },
  {
   "cell_type": "code",
   "execution_count": 39,
   "id": "6a1a0f0a",
   "metadata": {},
   "outputs": [
    {
     "data": {
      "text/plain": [
       "['Accenture',\n",
       " 'Tata Nexarc',\n",
       " 'Tech Mahindra',\n",
       " 'Boston Consulting Group',\n",
       " 'Shell Pvt Ltd',\n",
       " 'Mindtree',\n",
       " 'Bizongo',\n",
       " 'Baker Hughes',\n",
       " 'AMERICAN EXPRESS',\n",
       " 'Accenture']"
      ]
     },
     "execution_count": 39,
     "metadata": {},
     "output_type": "execute_result"
    }
   ],
   "source": [
    "company_names=[]\n",
    "for j in company_tags:\n",
    "    company_names.append(j.text)\n",
    "company_names[0:10]\n"
   ]
  },
  {
   "cell_type": "code",
   "execution_count": 40,
   "id": "8b9e7d2e",
   "metadata": {},
   "outputs": [
    {
     "data": {
      "text/plain": [
       "20"
      ]
     },
     "execution_count": 40,
     "metadata": {},
     "output_type": "execute_result"
    }
   ],
   "source": [
    "location_tags=driver.find_elements(By.XPATH,'//li[@class=\"fleft grey-text br2 placeHolderLi location\"]')\n",
    "len(location_tags)\n"
   ]
  },
  {
   "cell_type": "code",
   "execution_count": 41,
   "id": "44e7b4ca",
   "metadata": {},
   "outputs": [
    {
     "data": {
      "text/plain": [
       "['Bangalore/Bengaluru, Kolkata, Mumbai, Hyderabad/Secunderabad, Pune, Chennai',\n",
       " 'Bangalore/Bengaluru, New Delhi, Hyderabad/Secunderabad, Pune, Ahmedabad, Chennai, Delhi / NCR, Mumbai (All Areas)',\n",
       " 'Bangalore/Bengaluru, Nagpur, Pune',\n",
       " 'Bangalore/Bengaluru',\n",
       " 'Bangalore/Bengaluru',\n",
       " 'Hybrid - Bangalore/Bengaluru, Noida, Kolkata, Hyderabad/Secunderabad, Pune, Chennai',\n",
       " 'Bangalore/Bengaluru, India, Mumbai (All Areas)',\n",
       " 'Bangalore/Bengaluru, Mumbai',\n",
       " 'Bangalore/Bengaluru',\n",
       " 'Bangalore/Bengaluru']"
      ]
     },
     "execution_count": 41,
     "metadata": {},
     "output_type": "execute_result"
    }
   ],
   "source": [
    "location_names=[]\n",
    "for k in location_tags:\n",
    "    location_names.append(k.text)\n",
    "location_names[0:10]"
   ]
  },
  {
   "cell_type": "code",
   "execution_count": 42,
   "id": "c1eedfb6",
   "metadata": {},
   "outputs": [
    {
     "data": {
      "text/plain": [
       "20"
      ]
     },
     "execution_count": 42,
     "metadata": {},
     "output_type": "execute_result"
    }
   ],
   "source": [
    "experience_tags=driver.find_elements(By.XPATH,'//li[@class=\"fleft grey-text br2 placeHolderLi experience\"]/span')\n",
    "len(experience_tags)"
   ]
  },
  {
   "cell_type": "code",
   "execution_count": 43,
   "id": "d100f0e3",
   "metadata": {},
   "outputs": [
    {
     "data": {
      "text/plain": [
       "['6-8 Yrs',\n",
       " '4-8 Yrs',\n",
       " '5-8 Yrs',\n",
       " '7-10 Yrs',\n",
       " '5-12 Yrs',\n",
       " '5-10 Yrs',\n",
       " '3-6 Yrs',\n",
       " '6-8 Yrs',\n",
       " '3-4 Yrs',\n",
       " '2-6 Yrs']"
      ]
     },
     "execution_count": 43,
     "metadata": {},
     "output_type": "execute_result"
    }
   ],
   "source": [
    "experience_years=[]\n",
    "for k in experience_tags:\n",
    "    experience_years.append(k.text)\n",
    "experience_years[0:10]"
   ]
  },
  {
   "cell_type": "code",
   "execution_count": 45,
   "id": "8697a560",
   "metadata": {},
   "outputs": [
    {
     "data": {
      "text/html": [
       "<div>\n",
       "<style scoped>\n",
       "    .dataframe tbody tr th:only-of-type {\n",
       "        vertical-align: middle;\n",
       "    }\n",
       "\n",
       "    .dataframe tbody tr th {\n",
       "        vertical-align: top;\n",
       "    }\n",
       "\n",
       "    .dataframe thead th {\n",
       "        text-align: right;\n",
       "    }\n",
       "</style>\n",
       "<table border=\"1\" class=\"dataframe\">\n",
       "  <thead>\n",
       "    <tr style=\"text-align: right;\">\n",
       "      <th></th>\n",
       "      <th>Job titles</th>\n",
       "      <th>Company</th>\n",
       "      <th>Experience</th>\n",
       "      <th>Location</th>\n",
       "    </tr>\n",
       "  </thead>\n",
       "  <tbody>\n",
       "    <tr>\n",
       "      <th>0</th>\n",
       "      <td>Analystics &amp; Modeling Specialist</td>\n",
       "      <td>Accenture</td>\n",
       "      <td>6-8 Yrs</td>\n",
       "      <td>Bangalore/Bengaluru, Kolkata, Mumbai, Hyderaba...</td>\n",
       "    </tr>\n",
       "    <tr>\n",
       "      <th>1</th>\n",
       "      <td>Data Scientist</td>\n",
       "      <td>Tata Nexarc</td>\n",
       "      <td>4-8 Yrs</td>\n",
       "      <td>Bangalore/Bengaluru, New Delhi, Hyderabad/Secu...</td>\n",
       "    </tr>\n",
       "    <tr>\n",
       "      <th>2</th>\n",
       "      <td>Data Scientist</td>\n",
       "      <td>Tech Mahindra</td>\n",
       "      <td>5-8 Yrs</td>\n",
       "      <td>Bangalore/Bengaluru, Nagpur, Pune</td>\n",
       "    </tr>\n",
       "    <tr>\n",
       "      <th>3</th>\n",
       "      <td>Data &amp; Analytics Lead, Geo Analytics - GAMMA</td>\n",
       "      <td>Boston Consulting Group</td>\n",
       "      <td>7-10 Yrs</td>\n",
       "      <td>Bangalore/Bengaluru</td>\n",
       "    </tr>\n",
       "    <tr>\n",
       "      <th>4</th>\n",
       "      <td>Weather and Climate Data Scientist</td>\n",
       "      <td>Shell Pvt Ltd</td>\n",
       "      <td>5-12 Yrs</td>\n",
       "      <td>Bangalore/Bengaluru</td>\n",
       "    </tr>\n",
       "    <tr>\n",
       "      <th>5</th>\n",
       "      <td>Data Scientist</td>\n",
       "      <td>Mindtree</td>\n",
       "      <td>5-10 Yrs</td>\n",
       "      <td>Hybrid - Bangalore/Bengaluru, Noida, Kolkata, ...</td>\n",
       "    </tr>\n",
       "    <tr>\n",
       "      <th>6</th>\n",
       "      <td>Data Scientist - II</td>\n",
       "      <td>Bizongo</td>\n",
       "      <td>3-6 Yrs</td>\n",
       "      <td>Bangalore/Bengaluru, India, Mumbai (All Areas)</td>\n",
       "    </tr>\n",
       "    <tr>\n",
       "      <th>7</th>\n",
       "      <td>Senior Data Scientist</td>\n",
       "      <td>Baker Hughes</td>\n",
       "      <td>6-8 Yrs</td>\n",
       "      <td>Bangalore/Bengaluru, Mumbai</td>\n",
       "    </tr>\n",
       "    <tr>\n",
       "      <th>8</th>\n",
       "      <td>Manager-Data Science</td>\n",
       "      <td>AMERICAN EXPRESS</td>\n",
       "      <td>3-4 Yrs</td>\n",
       "      <td>Bangalore/Bengaluru</td>\n",
       "    </tr>\n",
       "    <tr>\n",
       "      <th>9</th>\n",
       "      <td>ACN - Applied Intelligence - Data Scientist - 09</td>\n",
       "      <td>Accenture</td>\n",
       "      <td>2-6 Yrs</td>\n",
       "      <td>Bangalore/Bengaluru</td>\n",
       "    </tr>\n",
       "  </tbody>\n",
       "</table>\n",
       "</div>"
      ],
      "text/plain": [
       "                                         Job titles                 Company   \\\n",
       "0                  Analystics & Modeling Specialist                Accenture   \n",
       "1                                    Data Scientist              Tata Nexarc   \n",
       "2                                    Data Scientist            Tech Mahindra   \n",
       "3      Data & Analytics Lead, Geo Analytics - GAMMA  Boston Consulting Group   \n",
       "4                Weather and Climate Data Scientist            Shell Pvt Ltd   \n",
       "5                                    Data Scientist                 Mindtree   \n",
       "6                               Data Scientist - II                  Bizongo   \n",
       "7                             Senior Data Scientist             Baker Hughes   \n",
       "8                              Manager-Data Science         AMERICAN EXPRESS   \n",
       "9  ACN - Applied Intelligence - Data Scientist - 09                Accenture   \n",
       "\n",
       "  Experience                                           Location  \n",
       "0    6-8 Yrs  Bangalore/Bengaluru, Kolkata, Mumbai, Hyderaba...  \n",
       "1    4-8 Yrs  Bangalore/Bengaluru, New Delhi, Hyderabad/Secu...  \n",
       "2    5-8 Yrs                  Bangalore/Bengaluru, Nagpur, Pune  \n",
       "3   7-10 Yrs                                Bangalore/Bengaluru  \n",
       "4   5-12 Yrs                                Bangalore/Bengaluru  \n",
       "5   5-10 Yrs  Hybrid - Bangalore/Bengaluru, Noida, Kolkata, ...  \n",
       "6    3-6 Yrs     Bangalore/Bengaluru, India, Mumbai (All Areas)  \n",
       "7    6-8 Yrs                        Bangalore/Bengaluru, Mumbai  \n",
       "8    3-4 Yrs                                Bangalore/Bengaluru  \n",
       "9    2-6 Yrs                                Bangalore/Bengaluru  "
      ]
     },
     "execution_count": 45,
     "metadata": {},
     "output_type": "execute_result"
    }
   ],
   "source": [
    "len(job_titles),len(company_names),len(experience_years),len(location_names)\n",
    "\n",
    "jobs=pd.DataFrame()\n",
    "jobs['Job titles']= job_titles\n",
    "jobs['Company ']= company_names\n",
    "jobs['Experience']= experience_years\n",
    "jobs['Location']= location_names\n",
    "jobs[0:10]"
   ]
  },
  {
   "cell_type": "markdown",
   "id": "ab1aded5",
   "metadata": {},
   "source": [
    "Q3: In this question you have to scrape data using the filters available on the webpage as shown below:\n",
    "\n",
    "You have to use the location and salary filter.\n",
    "You have to scrape data for “Data Scientist” designation for first 10 job results.\n",
    "You have to scrape the job-title, job-location, company_name, experience_required.\n",
    "The location filter to be used is “Delhi/NCR”\n",
    "The salary filter to be used is “3-6” lakhs"
   ]
  },
  {
   "cell_type": "code",
   "execution_count": 64,
   "id": "c4afa82b",
   "metadata": {},
   "outputs": [],
   "source": [
    "url='https://www.naukri.com'\n",
    "driver.get(url)"
   ]
  },
  {
   "cell_type": "code",
   "execution_count": 65,
   "id": "de45f318",
   "metadata": {},
   "outputs": [
    {
     "data": {
      "text/plain": [
       "<selenium.webdriver.remote.webelement.WebElement (session=\"a390d7ae018301082e8379e1435a20d0\", element=\"d466c7e8-4f00-4c5a-9acb-54d8c49f94a1\")>"
      ]
     },
     "execution_count": 65,
     "metadata": {},
     "output_type": "execute_result"
    }
   ],
   "source": [
    "search_job=driver.find_element(By.CLASS_NAME,'suggestor-input ')\n",
    "search_job"
   ]
  },
  {
   "cell_type": "code",
   "execution_count": 66,
   "id": "4e574951",
   "metadata": {},
   "outputs": [],
   "source": [
    "search_job.send_keys('Data Scientist')"
   ]
  },
  {
   "cell_type": "code",
   "execution_count": 67,
   "id": "eaa6750f",
   "metadata": {},
   "outputs": [
    {
     "data": {
      "text/plain": [
       "<selenium.webdriver.remote.webelement.WebElement (session=\"a390d7ae018301082e8379e1435a20d0\", element=\"8f7c627e-0697-4f7e-802a-d6b9be41c178\")>"
      ]
     },
     "execution_count": 67,
     "metadata": {},
     "output_type": "execute_result"
    }
   ],
   "source": [
    "search_locn=driver.find_element(By.XPATH,'/html/body/div[1]/div[6]/div/div/div[5]/div/div/div/input')\n",
    "search_locn\n"
   ]
  },
  {
   "cell_type": "code",
   "execution_count": 68,
   "id": "4f14da10",
   "metadata": {},
   "outputs": [],
   "source": [
    "search_locn.send_keys('Delhi/NCR')"
   ]
  },
  {
   "cell_type": "code",
   "execution_count": 69,
   "id": "2c94b870",
   "metadata": {},
   "outputs": [
    {
     "data": {
      "text/plain": [
       "<selenium.webdriver.remote.webelement.WebElement (session=\"a390d7ae018301082e8379e1435a20d0\", element=\"1464e0b2-1464-45aa-9092-3b9b9233b682\")>"
      ]
     },
     "execution_count": 69,
     "metadata": {},
     "output_type": "execute_result"
    }
   ],
   "source": [
    "search_btn=driver.find_element(By.XPATH,'/html/body/div[1]/div[6]/div/div/div[6]')\n",
    "search_btn"
   ]
  },
  {
   "cell_type": "code",
   "execution_count": 70,
   "id": "ad94021d",
   "metadata": {},
   "outputs": [],
   "source": [
    "search_btn.click()"
   ]
  },
  {
   "cell_type": "code",
   "execution_count": 71,
   "id": "3008ce59",
   "metadata": {},
   "outputs": [
    {
     "data": {
      "text/plain": [
       "20"
      ]
     },
     "execution_count": 71,
     "metadata": {},
     "output_type": "execute_result"
    }
   ],
   "source": [
    "titles_tags=driver.find_elements(By.XPATH,'//a[@class=\"title fw500 ellipsis\"]')\n",
    "len(titles_tags)"
   ]
  },
  {
   "cell_type": "code",
   "execution_count": 72,
   "id": "9ee19615",
   "metadata": {},
   "outputs": [
    {
     "data": {
      "text/plain": [
       "['Data Scientist',\n",
       " 'Data Scientist',\n",
       " 'Data Science - Engineering Manager',\n",
       " 'Artificial Intelligence/Computer Vision Engineer - Machine Learning',\n",
       " 'Hiring For DATA Scientist @ NTT DATA Business Solution India',\n",
       " 'Senior Data Scientist - Machine Learning',\n",
       " 'Data Scientist',\n",
       " 'Analyst-Data Science',\n",
       " 'Data Scientist - R / Python / SQL',\n",
       " 'ACN - Applied Intelligence - Data & Insights - CSS - 09']"
      ]
     },
     "execution_count": 72,
     "metadata": {},
     "output_type": "execute_result"
    }
   ],
   "source": [
    "job_titles=[]\n",
    "for i in titles_tags:\n",
    "    job_titles.append(i.text)\n",
    "job_titles[0:10]\n"
   ]
  },
  {
   "cell_type": "code",
   "execution_count": 73,
   "id": "9f7068e6",
   "metadata": {},
   "outputs": [
    {
     "data": {
      "text/plain": [
       "20"
      ]
     },
     "execution_count": 73,
     "metadata": {},
     "output_type": "execute_result"
    }
   ],
   "source": [
    "company_tags=driver.find_elements(By.XPATH,'//a[@class=\"subTitle ellipsis fleft\"]')\n",
    "len(company_tags)"
   ]
  },
  {
   "cell_type": "code",
   "execution_count": 74,
   "id": "4607a4f5",
   "metadata": {},
   "outputs": [
    {
     "data": {
      "text/plain": [
       "['Tata Nexarc',\n",
       " 'Mindtree',\n",
       " 'Paytm',\n",
       " 'Vicara',\n",
       " 'NTT DATA Business Solutions Private Limited',\n",
       " 'Global Employees',\n",
       " 'HCLTech',\n",
       " 'AMERICAN EXPRESS',\n",
       " 'TransOrg Analytics',\n",
       " 'Accenture']"
      ]
     },
     "execution_count": 74,
     "metadata": {},
     "output_type": "execute_result"
    }
   ],
   "source": [
    "company_names=[]\n",
    "for j in company_tags:\n",
    "    company_names.append(j.text)\n",
    "company_names[0:10]"
   ]
  },
  {
   "cell_type": "code",
   "execution_count": 75,
   "id": "f4e2d5bc",
   "metadata": {},
   "outputs": [
    {
     "data": {
      "text/plain": [
       "20"
      ]
     },
     "execution_count": 75,
     "metadata": {},
     "output_type": "execute_result"
    }
   ],
   "source": [
    "location_tags=driver.find_elements(By.XPATH,'//li[@class=\"fleft grey-text br2 placeHolderLi location\"]')\n",
    "len(location_tags)"
   ]
  },
  {
   "cell_type": "code",
   "execution_count": 76,
   "id": "d1149381",
   "metadata": {},
   "outputs": [
    {
     "data": {
      "text/plain": [
       "['Delhi / NCR, New Delhi, Hyderabad/Secunderabad, Pune, Ahmedabad, Chennai, Bangalore/Bengaluru, Mumbai (All Areas)',\n",
       " 'Hybrid - Noida, Kolkata, Hyderabad/Secunderabad, Pune, Chennai, Bangalore/Bengaluru',\n",
       " 'New Delhi, Bangalore/Bengaluru',\n",
       " 'Delhi / NCR, Kolkata, Mumbai, Hyderabad/Secunderabad, Pune, Chennai, Ahmedabad, Bangalore/Bengaluru',\n",
       " 'Noida, Hyderabad/Secunderabad, Pune, Gurgaon/Gurugram, Chennai, Bangalore/Bengaluru, Mumbai (All Areas)',\n",
       " 'Delhi / NCR, Kolkata, Mumbai, Hyderabad/Secunderabad, Lucknow, Chennai, Ahmedabad, Bangalore/Bengaluru',\n",
       " 'Hybrid - Noida',\n",
       " 'Gurgaon/Gurugram',\n",
       " 'Delhi / NCR, Mumbai, Gurgaon/Gurugram, Bangalore/Bengaluru',\n",
       " 'Gurgaon/Gurugram']"
      ]
     },
     "execution_count": 76,
     "metadata": {},
     "output_type": "execute_result"
    }
   ],
   "source": [
    "location_names=[]\n",
    "for k in location_tags:\n",
    "    location_names.append(k.text)\n",
    "location_names[0:10]"
   ]
  },
  {
   "cell_type": "code",
   "execution_count": 77,
   "id": "117a135f",
   "metadata": {},
   "outputs": [
    {
     "data": {
      "text/plain": [
       "20"
      ]
     },
     "execution_count": 77,
     "metadata": {},
     "output_type": "execute_result"
    }
   ],
   "source": [
    "experience_tags=driver.find_elements(By.XPATH,'//li[@class=\"fleft grey-text br2 placeHolderLi experience\"]/span')\n",
    "len(experience_tags)"
   ]
  },
  {
   "cell_type": "code",
   "execution_count": 78,
   "id": "aade0f87",
   "metadata": {},
   "outputs": [
    {
     "data": {
      "text/plain": [
       "['4-8 Yrs',\n",
       " '5-10 Yrs',\n",
       " '3-5 Yrs',\n",
       " '1-3 Yrs',\n",
       " '4-9 Yrs',\n",
       " '7-12 Yrs',\n",
       " '4-9 Yrs',\n",
       " '1-5 Yrs',\n",
       " '3-6 Yrs',\n",
       " '4-6 Yrs']"
      ]
     },
     "execution_count": 78,
     "metadata": {},
     "output_type": "execute_result"
    }
   ],
   "source": [
    "experience_years=[]\n",
    "for k in experience_tags:\n",
    "    experience_years.append(k.text)\n",
    "experience_years[0:10]"
   ]
  },
  {
   "cell_type": "code",
   "execution_count": 79,
   "id": "2d45251b",
   "metadata": {},
   "outputs": [
    {
     "data": {
      "text/html": [
       "<div>\n",
       "<style scoped>\n",
       "    .dataframe tbody tr th:only-of-type {\n",
       "        vertical-align: middle;\n",
       "    }\n",
       "\n",
       "    .dataframe tbody tr th {\n",
       "        vertical-align: top;\n",
       "    }\n",
       "\n",
       "    .dataframe thead th {\n",
       "        text-align: right;\n",
       "    }\n",
       "</style>\n",
       "<table border=\"1\" class=\"dataframe\">\n",
       "  <thead>\n",
       "    <tr style=\"text-align: right;\">\n",
       "      <th></th>\n",
       "      <th>Job titles</th>\n",
       "      <th>Company</th>\n",
       "      <th>Experience</th>\n",
       "      <th>Location</th>\n",
       "    </tr>\n",
       "  </thead>\n",
       "  <tbody>\n",
       "    <tr>\n",
       "      <th>0</th>\n",
       "      <td>Data Scientist</td>\n",
       "      <td>Tata Nexarc</td>\n",
       "      <td>4-8 Yrs</td>\n",
       "      <td>Delhi / NCR, New Delhi, Hyderabad/Secunderabad...</td>\n",
       "    </tr>\n",
       "    <tr>\n",
       "      <th>1</th>\n",
       "      <td>Data Scientist</td>\n",
       "      <td>Mindtree</td>\n",
       "      <td>5-10 Yrs</td>\n",
       "      <td>Hybrid - Noida, Kolkata, Hyderabad/Secunderaba...</td>\n",
       "    </tr>\n",
       "    <tr>\n",
       "      <th>2</th>\n",
       "      <td>Data Science - Engineering Manager</td>\n",
       "      <td>Paytm</td>\n",
       "      <td>3-5 Yrs</td>\n",
       "      <td>New Delhi, Bangalore/Bengaluru</td>\n",
       "    </tr>\n",
       "    <tr>\n",
       "      <th>3</th>\n",
       "      <td>Artificial Intelligence/Computer Vision Engine...</td>\n",
       "      <td>Vicara</td>\n",
       "      <td>1-3 Yrs</td>\n",
       "      <td>Delhi / NCR, Kolkata, Mumbai, Hyderabad/Secund...</td>\n",
       "    </tr>\n",
       "    <tr>\n",
       "      <th>4</th>\n",
       "      <td>Hiring For DATA Scientist @ NTT DATA Business ...</td>\n",
       "      <td>NTT DATA Business Solutions Private Limited</td>\n",
       "      <td>4-9 Yrs</td>\n",
       "      <td>Noida, Hyderabad/Secunderabad, Pune, Gurgaon/G...</td>\n",
       "    </tr>\n",
       "    <tr>\n",
       "      <th>5</th>\n",
       "      <td>Senior Data Scientist - Machine Learning</td>\n",
       "      <td>Global Employees</td>\n",
       "      <td>7-12 Yrs</td>\n",
       "      <td>Delhi / NCR, Kolkata, Mumbai, Hyderabad/Secund...</td>\n",
       "    </tr>\n",
       "    <tr>\n",
       "      <th>6</th>\n",
       "      <td>Data Scientist</td>\n",
       "      <td>HCLTech</td>\n",
       "      <td>4-9 Yrs</td>\n",
       "      <td>Hybrid - Noida</td>\n",
       "    </tr>\n",
       "    <tr>\n",
       "      <th>7</th>\n",
       "      <td>Analyst-Data Science</td>\n",
       "      <td>AMERICAN EXPRESS</td>\n",
       "      <td>1-5 Yrs</td>\n",
       "      <td>Gurgaon/Gurugram</td>\n",
       "    </tr>\n",
       "    <tr>\n",
       "      <th>8</th>\n",
       "      <td>Data Scientist - R / Python / SQL</td>\n",
       "      <td>TransOrg Analytics</td>\n",
       "      <td>3-6 Yrs</td>\n",
       "      <td>Delhi / NCR, Mumbai, Gurgaon/Gurugram, Bangalo...</td>\n",
       "    </tr>\n",
       "    <tr>\n",
       "      <th>9</th>\n",
       "      <td>ACN - Applied Intelligence - Data &amp; Insights -...</td>\n",
       "      <td>Accenture</td>\n",
       "      <td>4-6 Yrs</td>\n",
       "      <td>Gurgaon/Gurugram</td>\n",
       "    </tr>\n",
       "  </tbody>\n",
       "</table>\n",
       "</div>"
      ],
      "text/plain": [
       "                                          Job titles  \\\n",
       "0                                     Data Scientist   \n",
       "1                                     Data Scientist   \n",
       "2                 Data Science - Engineering Manager   \n",
       "3  Artificial Intelligence/Computer Vision Engine...   \n",
       "4  Hiring For DATA Scientist @ NTT DATA Business ...   \n",
       "5           Senior Data Scientist - Machine Learning   \n",
       "6                                     Data Scientist   \n",
       "7                               Analyst-Data Science   \n",
       "8                  Data Scientist - R / Python / SQL   \n",
       "9  ACN - Applied Intelligence - Data & Insights -...   \n",
       "\n",
       "                                      Company  Experience  \\\n",
       "0                                  Tata Nexarc    4-8 Yrs   \n",
       "1                                     Mindtree   5-10 Yrs   \n",
       "2                                        Paytm    3-5 Yrs   \n",
       "3                                       Vicara    1-3 Yrs   \n",
       "4  NTT DATA Business Solutions Private Limited    4-9 Yrs   \n",
       "5                             Global Employees   7-12 Yrs   \n",
       "6                                      HCLTech    4-9 Yrs   \n",
       "7                             AMERICAN EXPRESS    1-5 Yrs   \n",
       "8                           TransOrg Analytics    3-6 Yrs   \n",
       "9                                    Accenture    4-6 Yrs   \n",
       "\n",
       "                                            Location  \n",
       "0  Delhi / NCR, New Delhi, Hyderabad/Secunderabad...  \n",
       "1  Hybrid - Noida, Kolkata, Hyderabad/Secunderaba...  \n",
       "2                     New Delhi, Bangalore/Bengaluru  \n",
       "3  Delhi / NCR, Kolkata, Mumbai, Hyderabad/Secund...  \n",
       "4  Noida, Hyderabad/Secunderabad, Pune, Gurgaon/G...  \n",
       "5  Delhi / NCR, Kolkata, Mumbai, Hyderabad/Secund...  \n",
       "6                                     Hybrid - Noida  \n",
       "7                                   Gurgaon/Gurugram  \n",
       "8  Delhi / NCR, Mumbai, Gurgaon/Gurugram, Bangalo...  \n",
       "9                                   Gurgaon/Gurugram  "
      ]
     },
     "execution_count": 79,
     "metadata": {},
     "output_type": "execute_result"
    }
   ],
   "source": [
    "len(job_titles),len(company_names),len(experience_years),len(location_names)\n",
    "\n",
    "jobs=pd.DataFrame()\n",
    "jobs['Job titles']= job_titles\n",
    "jobs['Company ']= company_names\n",
    "jobs['Experience']= experience_years\n",
    "jobs['Location']= location_names\n",
    "jobs[0:10]"
   ]
  },
  {
   "cell_type": "markdown",
   "id": "281713a1",
   "metadata": {},
   "source": [
    "Q4 : Scrape data of first 100 sunglasses listings on flipkart.com. You have to scrape four attributes:\n",
    "Brand\n",
    "Product Description\n",
    "Price\n",
    "\n"
   ]
  },
  {
   "cell_type": "code",
   "execution_count": 82,
   "id": "1e141aa1",
   "metadata": {},
   "outputs": [],
   "source": [
    "url='https://www.flipkart.com/'\n",
    "driver.get(url)"
   ]
  },
  {
   "cell_type": "code",
   "execution_count": 83,
   "id": "d056e44d",
   "metadata": {},
   "outputs": [
    {
     "data": {
      "text/plain": [
       "<selenium.webdriver.remote.webelement.WebElement (session=\"0d77821a0a69d223f5ab2c0f9eb01e39\", element=\"91f6da0e-64f0-4b2f-853b-a126a0db9d22\")>"
      ]
     },
     "execution_count": 83,
     "metadata": {},
     "output_type": "execute_result"
    }
   ],
   "source": [
    "search_field=driver.find_element(By.XPATH,'/html/body/div[1]/div/div[1]/div[1]/div[2]/div[2]/form/div/div/input')\n",
    "search_field"
   ]
  },
  {
   "cell_type": "code",
   "execution_count": 84,
   "id": "984ff4e8",
   "metadata": {},
   "outputs": [],
   "source": [
    "search_field.send_keys('Sunglasses')"
   ]
  },
  {
   "cell_type": "code",
   "execution_count": 85,
   "id": "accda630",
   "metadata": {},
   "outputs": [
    {
     "data": {
      "text/plain": [
       "<selenium.webdriver.remote.webelement.WebElement (session=\"0d77821a0a69d223f5ab2c0f9eb01e39\", element=\"a239d93d-6316-4b26-9eb5-99c4f651eca8\")>"
      ]
     },
     "execution_count": 85,
     "metadata": {},
     "output_type": "execute_result"
    }
   ],
   "source": [
    "search_btn=driver.find_element(By.XPATH,'/html/body/div[1]/div/div[1]/div[1]/div[2]/div[2]/form/div/button')\n",
    "search_btn"
   ]
  },
  {
   "cell_type": "code",
   "execution_count": 86,
   "id": "9db38388",
   "metadata": {},
   "outputs": [],
   "source": [
    "search_btn.click()"
   ]
  },
  {
   "cell_type": "code",
   "execution_count": 87,
   "id": "b7e57170",
   "metadata": {},
   "outputs": [
    {
     "data": {
      "text/plain": [
       "40"
      ]
     },
     "execution_count": 87,
     "metadata": {},
     "output_type": "execute_result"
    }
   ],
   "source": [
    "brands_tags=driver.find_elements(By.XPATH,'//div[@class=\"_2WkVRV\"]')\n",
    "len(brands_tags)"
   ]
  },
  {
   "cell_type": "code",
   "execution_count": 88,
   "id": "44a3a41d",
   "metadata": {},
   "outputs": [
    {
     "data": {
      "text/plain": [
       "['Silver Kartz',\n",
       " 'VINCENT CHASE',\n",
       " 'Elligator',\n",
       " 'LIZA ANGEL',\n",
       " 'Fastrack',\n",
       " 'Fastrack',\n",
       " 'Fastrack',\n",
       " 'VINCENT CHASE',\n",
       " 'PHENOMENAL',\n",
       " 'Elligator',\n",
       " 'SHAAH COLLECTIONS',\n",
       " 'ROZZETTA CRAFT',\n",
       " 'LIZA ANGEL',\n",
       " 'Fastrack',\n",
       " 'Elligator',\n",
       " 'ROYAL SON',\n",
       " 'Elligator',\n",
       " 'Fastrack',\n",
       " 'New Specs',\n",
       " 'ROZZETTA CRAFT',\n",
       " 'SRPM',\n",
       " 'SUNBEE',\n",
       " 'Fastrack',\n",
       " 'ROZZETTA CRAFT',\n",
       " 'SRPM',\n",
       " 'Fastrack',\n",
       " 'VINCENT CHASE',\n",
       " 'VINCENT CHASE',\n",
       " 'Elligator',\n",
       " 'Fastrack',\n",
       " 'LIZA ANGEL',\n",
       " 'PROVOGUE',\n",
       " 'Fastrack',\n",
       " 'Fastrack',\n",
       " 'SUNBEE',\n",
       " 'ROZZETTA CRAFT',\n",
       " 'LIZA ANGEL',\n",
       " 'kingsunglasses',\n",
       " 'PIRASO',\n",
       " 'VINCENT CHASE']"
      ]
     },
     "execution_count": 88,
     "metadata": {},
     "output_type": "execute_result"
    }
   ],
   "source": [
    "brand_titles=[]\n",
    "for i in brands_tags:\n",
    "    brand_titles.append(i.text)\n",
    "brand_titles[0:40]\n"
   ]
  },
  {
   "cell_type": "code",
   "execution_count": 89,
   "id": "0b556003",
   "metadata": {},
   "outputs": [
    {
     "data": {
      "text/plain": [
       "40"
      ]
     },
     "execution_count": 89,
     "metadata": {},
     "output_type": "execute_result"
    }
   ],
   "source": [
    "description_tags=driver.find_elements(By.XPATH,'//a[@class=\"IRpwTa\"]')\n",
    "len(description_tags)"
   ]
  },
  {
   "cell_type": "code",
   "execution_count": 90,
   "id": "3fe58d77",
   "metadata": {},
   "outputs": [
    {
     "data": {
      "text/plain": [
       "['UV Protection Clubmaster Sunglasses (53)',\n",
       " 'by Lenskart Polarized, UV Protection Cat-eye Sunglasses...',\n",
       " 'UV Protection Cat-eye, Retro Square, Oval, Round Sungla...',\n",
       " 'Riding Glasses, Night Vision Spectacle Sunglasses (Fre...',\n",
       " 'UV Protection Wayfarer Sunglasses (Free Size)',\n",
       " 'UV Protection Wayfarer Sunglasses (Free Size)',\n",
       " 'UV Protection Rectangular Sunglasses (Free Size)',\n",
       " 'by Lenskart Polarized, UV Protection Rectangular Sungla...',\n",
       " 'UV Protection Retro Square Sunglasses (53)',\n",
       " 'UV Protection Cat-eye, Retro Square, Oval, Round Sungla...',\n",
       " 'UV Protection, Polarized, Mirrored Rectangular Sunglass...',\n",
       " 'Polarized, UV Protection Aviator Sunglasses (55)',\n",
       " 'UV Protection, Polarized Rectangular Sunglasses (Free S...',\n",
       " 'Gradient, UV Protection Wayfarer Sunglasses (Free Size)',\n",
       " 'UV Protection Round Sunglasses (53)',\n",
       " 'UV Protection, Polarized Round Sunglasses (54)',\n",
       " 'UV Protection Round Sunglasses (54)',\n",
       " 'Mirrored, UV Protection Wayfarer Sunglasses (Free Size)',\n",
       " 'UV Protection Rectangular Sunglasses (Free Size)',\n",
       " 'UV Protection, Gradient Rectangular Sunglasses (Free Si...',\n",
       " 'UV Protection Wayfarer Sunglasses (50)',\n",
       " 'UV Protection, Polarized Wayfarer Sunglasses (Free Size...',\n",
       " 'Gradient, UV Protection Wayfarer Sunglasses (Free Size)',\n",
       " 'UV Protection, Gradient Round Sunglasses (Free Size)',\n",
       " 'Night Vision, UV Protection Round Sunglasses (54)',\n",
       " 'UV Protection Shield Sunglasses (Free Size)',\n",
       " 'UV Protection Wayfarer Sunglasses (59)',\n",
       " 'by Lenskart Polarized, UV Protection Cat-eye Sunglasses...',\n",
       " 'Others Cat-eye, Retro Square, Wayfarer Sunglasses (54)',\n",
       " 'UV Protection Aviator Sunglasses (58)',\n",
       " 'Riding Glasses, UV Protection, Night Vision Spectacle ...',\n",
       " 'Polarized, UV Protection Rectangular Sunglasses (Free S...',\n",
       " 'Polarized Retro Square Sunglasses (Free Size)',\n",
       " 'UV Protection Wayfarer Sunglasses (Free Size)',\n",
       " 'UV Protection Cat-eye Sunglasses (Free Size)',\n",
       " 'Polarized, UV Protection Aviator Sunglasses (55)',\n",
       " 'Polarized, UV Protection Retro Square, Over-sized, Rect...',\n",
       " 'UV Protection Rectangular Sunglasses (Free Size)',\n",
       " 'UV Protection Rectangular Sunglasses (52)',\n",
       " 'by Lenskart Polarized, UV Protection Round Sunglasses (...']"
      ]
     },
     "execution_count": 90,
     "metadata": {},
     "output_type": "execute_result"
    }
   ],
   "source": [
    "description_names=[]\n",
    "for j in description_tags:\n",
    "    description_names.append(j.text)\n",
    "description_names"
   ]
  },
  {
   "cell_type": "code",
   "execution_count": 91,
   "id": "63804938",
   "metadata": {},
   "outputs": [
    {
     "data": {
      "text/plain": [
       "40"
      ]
     },
     "execution_count": 91,
     "metadata": {},
     "output_type": "execute_result"
    }
   ],
   "source": [
    "price_tags=driver.find_elements(By.XPATH,'//div[@class=\"_30jeq3\"]')\n",
    "len(price_tags)"
   ]
  },
  {
   "cell_type": "code",
   "execution_count": 92,
   "id": "4a2fcfa5",
   "metadata": {},
   "outputs": [
    {
     "data": {
      "text/plain": [
       "['₹278',\n",
       " '₹806',\n",
       " '₹149',\n",
       " '₹129',\n",
       " '₹599',\n",
       " '₹539',\n",
       " '₹489',\n",
       " '₹849',\n",
       " '₹129',\n",
       " '₹129',\n",
       " '₹159',\n",
       " '₹497',\n",
       " '₹129',\n",
       " '₹539',\n",
       " '₹149',\n",
       " '₹699',\n",
       " '₹286',\n",
       " '₹599',\n",
       " '₹259',\n",
       " '₹447',\n",
       " '₹149',\n",
       " '₹283',\n",
       " '₹479',\n",
       " '₹399',\n",
       " '₹179',\n",
       " '₹539',\n",
       " '₹664',\n",
       " '₹949',\n",
       " '₹149',\n",
       " '₹779',\n",
       " '₹129',\n",
       " '₹664',\n",
       " '₹479',\n",
       " '₹599',\n",
       " '₹149',\n",
       " '₹497',\n",
       " '₹129',\n",
       " '₹199',\n",
       " '₹209',\n",
       " '₹901']"
      ]
     },
     "execution_count": 92,
     "metadata": {},
     "output_type": "execute_result"
    }
   ],
   "source": [
    "price=[]\n",
    "for k in price_tags:\n",
    "    price.append(k.text)\n",
    "price\n"
   ]
  },
  {
   "cell_type": "code",
   "execution_count": 93,
   "id": "ba996e9b",
   "metadata": {},
   "outputs": [
    {
     "data": {
      "text/plain": [
       "40"
      ]
     },
     "execution_count": 93,
     "metadata": {},
     "output_type": "execute_result"
    }
   ],
   "source": [
    "discount_tags=driver.find_elements(By.XPATH,'//div[@class=\"_3Ay6Sb\"]')\n",
    "len(discount_tags)\n"
   ]
  },
  {
   "cell_type": "code",
   "execution_count": 94,
   "id": "9512283b",
   "metadata": {},
   "outputs": [
    {
     "data": {
      "text/plain": [
       "['81% off',\n",
       " '59% off',\n",
       " '75% off',\n",
       " '87% off',\n",
       " '40% off',\n",
       " '40% off',\n",
       " '38% off',\n",
       " '57% off',\n",
       " '87% off',\n",
       " '87% off',\n",
       " '90% off',\n",
       " '75% off',\n",
       " '87% off',\n",
       " '40% off',\n",
       " '85% off',\n",
       " '65% off',\n",
       " '88% off',\n",
       " '40% off',\n",
       " '90% off',\n",
       " '77% off',\n",
       " '88% off',\n",
       " '78% off',\n",
       " '40% off',\n",
       " '80% off',\n",
       " '82% off',\n",
       " '40% off',\n",
       " '66% off',\n",
       " '62% off',\n",
       " '87% off',\n",
       " '40% off',\n",
       " '74% off',\n",
       " '74% off',\n",
       " '40% off',\n",
       " '40% off',\n",
       " '85% off',\n",
       " '75% off',\n",
       " '56% off',\n",
       " '80% off',\n",
       " '86% off',\n",
       " '54% off']"
      ]
     },
     "execution_count": 94,
     "metadata": {},
     "output_type": "execute_result"
    }
   ],
   "source": [
    "discount=[]\n",
    "for k in discount_tags:\n",
    "    discount.append(k.text)\n",
    "discount"
   ]
  },
  {
   "cell_type": "code",
   "execution_count": 95,
   "id": "62bf218d",
   "metadata": {},
   "outputs": [
    {
     "data": {
      "text/plain": [
       "<selenium.webdriver.remote.webelement.WebElement (session=\"0d77821a0a69d223f5ab2c0f9eb01e39\", element=\"2aa9f594-d000-44f8-b339-3efd70e9643c\")>"
      ]
     },
     "execution_count": 95,
     "metadata": {},
     "output_type": "execute_result"
    }
   ],
   "source": [
    "next_btn=driver.find_element(By.XPATH,'/html/body/div[1]/div/div[3]/div[1]/div[2]/div[12]/div/div/nav/a[11]/span')\n",
    "next_btn\n"
   ]
  },
  {
   "cell_type": "code",
   "execution_count": 96,
   "id": "a3b3732e",
   "metadata": {},
   "outputs": [],
   "source": [
    "next_btn.click()"
   ]
  },
  {
   "cell_type": "code",
   "execution_count": 97,
   "id": "9455b9e4",
   "metadata": {},
   "outputs": [
    {
     "data": {
      "text/plain": [
       "40"
      ]
     },
     "execution_count": 97,
     "metadata": {},
     "output_type": "execute_result"
    }
   ],
   "source": [
    "brands_tags=driver.find_elements(By.XPATH,'//div[@class=\"_2WkVRV\"]')\n",
    "len(brands_tags)"
   ]
  },
  {
   "cell_type": "code",
   "execution_count": 98,
   "id": "be1eee0f",
   "metadata": {},
   "outputs": [
    {
     "data": {
      "text/plain": [
       "['kingsunglasses',\n",
       " 'LIZA ANGEL',\n",
       " 'VINCENT CHASE',\n",
       " 'Silver Kartz',\n",
       " 'Satyam Kraft',\n",
       " 'Elligator',\n",
       " 'kingsunglasses',\n",
       " 'ROYAL SON',\n",
       " 'Sewell',\n",
       " 'Fastrack',\n",
       " 'Ray-Ban',\n",
       " 'VINCENT CHASE',\n",
       " 'kingsunglasses',\n",
       " 'New Specs',\n",
       " 'Elligator',\n",
       " 'VINCENT CHASE',\n",
       " 'New Specs',\n",
       " 'NuVew',\n",
       " 'New Specs',\n",
       " 'PROVOGUE',\n",
       " 'PIRASO',\n",
       " 'Elligator',\n",
       " 'LIZA ANGEL',\n",
       " 'hayden haiza',\n",
       " 'Lee Topper',\n",
       " 'Fastrack',\n",
       " 'Fastrack',\n",
       " 'ROZZETTA CRAFT',\n",
       " 'Ray-Ban',\n",
       " 'NuVew',\n",
       " 'ROYAL SON',\n",
       " 'Singco India',\n",
       " 'METRONAUT',\n",
       " 'Fastrack',\n",
       " 'Elligator',\n",
       " 'VINCENT CHASE',\n",
       " 'PIRASO',\n",
       " 'PIRASO',\n",
       " 'Rich Club',\n",
       " 'ROYAL SON']"
      ]
     },
     "execution_count": 98,
     "metadata": {},
     "output_type": "execute_result"
    }
   ],
   "source": [
    "brand_titles2=[]\n",
    "for i in brands_tags:\n",
    "    brand_titles2.append(i.text)\n",
    "brand_titles2[0:40]"
   ]
  },
  {
   "cell_type": "code",
   "execution_count": 99,
   "id": "a4e5823b",
   "metadata": {},
   "outputs": [
    {
     "data": {
      "text/plain": [
       "40"
      ]
     },
     "execution_count": 99,
     "metadata": {},
     "output_type": "execute_result"
    }
   ],
   "source": [
    "description_tags=driver.find_elements(By.XPATH,'//a[@class=\"IRpwTa\"]')\n",
    "len(description_tags)\n"
   ]
  },
  {
   "cell_type": "code",
   "execution_count": 100,
   "id": "84a30b6b",
   "metadata": {},
   "outputs": [
    {
     "data": {
      "text/plain": [
       "['UV Protection Rectangular Sunglasses (Free Size)',\n",
       " 'Polarized, UV Protection Retro Square, Over-sized, Rect...',\n",
       " 'by Lenskart Polarized, UV Protection Aviator Sunglasses...',\n",
       " 'UV Protection Wayfarer Sunglasses (Free Size)',\n",
       " 'Others Spectacle Sunglasses (Free Size)',\n",
       " 'UV Protection Round Sunglasses (53)',\n",
       " 'UV Protection Cat-eye Sunglasses (Free Size)',\n",
       " 'UV Protection Round Sunglasses (50)',\n",
       " 'Mirrored, Night Vision, UV Protection, Riding Glasses S...',\n",
       " 'UV Protection Aviator Sunglasses (Free Size)',\n",
       " 'Mirrored, UV Protection Aviator Sunglasses (58)',\n",
       " 'by Lenskart Polarized, UV Protection Wayfarer Sunglasse...',\n",
       " 'UV Protection, Mirrored Round Sunglasses (Free Size)',\n",
       " 'UV Protection Oval Sunglasses (Free Size)',\n",
       " 'UV Protection, Mirrored Wayfarer Sunglasses (54)',\n",
       " 'by Lenskart Polarized, UV Protection Round Sunglasses (...',\n",
       " 'UV Protection Rectangular Sunglasses (Free Size)',\n",
       " 'UV Protection Wayfarer Sunglasses (57)',\n",
       " 'UV Protection Rectangular Sunglasses (Free Size)',\n",
       " 'Polarized, UV Protection Rectangular Sunglasses (Free S...',\n",
       " 'UV Protection Aviator Sunglasses (58)',\n",
       " 'UV Protection Wayfarer Sunglasses (53)',\n",
       " 'UV Protection Wayfarer Sunglasses (Free Size)',\n",
       " 'Polarized, UV Protection Aviator Sunglasses (55)',\n",
       " 'UV Protection Rectangular Sunglasses (Free Size)',\n",
       " 'UV Protection Round Sunglasses (52)',\n",
       " 'UV Protection Aviator Sunglasses (58)',\n",
       " 'Polarized, UV Protection Aviator Sunglasses (55)',\n",
       " 'UV Protection Retro Square Sunglasses (55)',\n",
       " 'UV Protection Round Sunglasses (50)',\n",
       " 'Mirrored Aviator Sunglasses (Free Size)',\n",
       " 'Gradient, Toughened Glass Lens, UV Protection Retro Squ...',\n",
       " 'UV Protection, Gradient Sunglass',\n",
       " 'UV Protection Wayfarer Sunglasses (Free Size)',\n",
       " 'UV Protection Aviator, Wayfarer Sunglasses (54)',\n",
       " 'by Lenskart Polarized, UV Protection Wayfarer Sunglasse...',\n",
       " 'UV Protection Over-sized Sunglasses (64)',\n",
       " 'UV Protection Over-sized Sunglasses (65)',\n",
       " 'UV Protection Retro Square Sunglasses (54)',\n",
       " 'Polarized, UV Protection Aviator Sunglasses (57)']"
      ]
     },
     "execution_count": 100,
     "metadata": {},
     "output_type": "execute_result"
    }
   ],
   "source": [
    "description_names2=[]\n",
    "for j in description_tags:\n",
    "    description_names2.append(j.text)\n",
    "description_names2[0:40]"
   ]
  },
  {
   "cell_type": "code",
   "execution_count": 101,
   "id": "3a9a6239",
   "metadata": {},
   "outputs": [
    {
     "data": {
      "text/plain": [
       "40"
      ]
     },
     "execution_count": 101,
     "metadata": {},
     "output_type": "execute_result"
    }
   ],
   "source": [
    "price_tags=driver.find_elements(By.XPATH,'//div[@class=\"_30jeq3\"]')\n",
    "len(price_tags)"
   ]
  },
  {
   "cell_type": "code",
   "execution_count": 102,
   "id": "aa6f6809",
   "metadata": {},
   "outputs": [
    {
     "data": {
      "text/plain": [
       "['₹199',\n",
       " '₹129',\n",
       " '₹1,061',\n",
       " '₹284',\n",
       " '₹269',\n",
       " '₹149',\n",
       " '₹129',\n",
       " '₹399',\n",
       " '₹265',\n",
       " '₹539',\n",
       " '₹2,699',\n",
       " '₹701',\n",
       " '₹265',\n",
       " '₹128',\n",
       " '₹179',\n",
       " '₹949',\n",
       " '₹199',\n",
       " '₹115',\n",
       " '₹125',\n",
       " '₹664',\n",
       " '₹329',\n",
       " '₹179',\n",
       " '₹129',\n",
       " '₹413',\n",
       " '₹195',\n",
       " '₹599',\n",
       " '₹969',\n",
       " '₹497',\n",
       " '₹2,699',\n",
       " '₹117',\n",
       " '₹399',\n",
       " '₹597',\n",
       " '₹244',\n",
       " '₹599',\n",
       " '₹149',\n",
       " '₹949',\n",
       " '₹426',\n",
       " '₹410',\n",
       " '₹258',\n",
       " '₹759']"
      ]
     },
     "execution_count": 102,
     "metadata": {},
     "output_type": "execute_result"
    }
   ],
   "source": [
    "price2=[]\n",
    "for k in price_tags:\n",
    "    price2.append(k.text)\n",
    "price2"
   ]
  },
  {
   "cell_type": "code",
   "execution_count": 103,
   "id": "0d0a826e",
   "metadata": {},
   "outputs": [
    {
     "data": {
      "text/plain": [
       "40"
      ]
     },
     "execution_count": 103,
     "metadata": {},
     "output_type": "execute_result"
    }
   ],
   "source": [
    "discount_tags=driver.find_elements(By.XPATH,'//div[@class=\"_3Ay6Sb\"]')\n",
    "len(discount_tags)"
   ]
  },
  {
   "cell_type": "code",
   "execution_count": 104,
   "id": "8bfecf27",
   "metadata": {},
   "outputs": [
    {
     "data": {
      "text/plain": [
       "['80% off',\n",
       " '56% off',\n",
       " '46% off',\n",
       " '81% off',\n",
       " '77% off',\n",
       " '85% off',\n",
       " '87% off',\n",
       " '73% off',\n",
       " '82% off',\n",
       " '40% off',\n",
       " '51% off',\n",
       " '71% off',\n",
       " '84% off',\n",
       " '87% off',\n",
       " '82% off',\n",
       " '52% off',\n",
       " '87% off',\n",
       " '86% off',\n",
       " '87% off',\n",
       " '74% off',\n",
       " '87% off',\n",
       " '88% off',\n",
       " '67% off',\n",
       " '83% off',\n",
       " '80% off',\n",
       " '25% off',\n",
       " '25% off',\n",
       " '75% off',\n",
       " '50% off',\n",
       " '84% off',\n",
       " '73% off',\n",
       " '80% off',\n",
       " '81% off',\n",
       " '40% off',\n",
       " '88% off',\n",
       " '52% off',\n",
       " '83% off',\n",
       " '84% off',\n",
       " '63% off',\n",
       " '62% off']"
      ]
     },
     "execution_count": 104,
     "metadata": {},
     "output_type": "execute_result"
    }
   ],
   "source": [
    "discount2=[]\n",
    "for k in discount_tags:\n",
    "    discount2.append(k.text)\n",
    "discount2"
   ]
  },
  {
   "cell_type": "code",
   "execution_count": 105,
   "id": "79b723c3",
   "metadata": {},
   "outputs": [
    {
     "data": {
      "text/plain": [
       "<selenium.webdriver.remote.webelement.WebElement (session=\"0d77821a0a69d223f5ab2c0f9eb01e39\", element=\"2aa9f594-d000-44f8-b339-3efd70e9643c\")>"
      ]
     },
     "execution_count": 105,
     "metadata": {},
     "output_type": "execute_result"
    }
   ],
   "source": [
    "next_btn=driver.find_element(By.XPATH,'/html/body/div[1]/div/div[3]/div[1]/div[2]/div[12]/div/div/nav/a[12]/span')\n",
    "next_btn\n"
   ]
  },
  {
   "cell_type": "code",
   "execution_count": 106,
   "id": "7b54e1d6",
   "metadata": {},
   "outputs": [],
   "source": [
    "next_btn.click()"
   ]
  },
  {
   "cell_type": "code",
   "execution_count": 107,
   "id": "21eb9430",
   "metadata": {},
   "outputs": [
    {
     "data": {
      "text/plain": [
       "40"
      ]
     },
     "execution_count": 107,
     "metadata": {},
     "output_type": "execute_result"
    }
   ],
   "source": [
    "brands_tags=driver.find_elements(By.XPATH,'//div[@class=\"_2WkVRV\"]')\n",
    "len(brands_tags)\n"
   ]
  },
  {
   "cell_type": "code",
   "execution_count": 108,
   "id": "2bc57cf0",
   "metadata": {},
   "outputs": [
    {
     "data": {
      "text/plain": [
       "['Rich Club',\n",
       " 'ROZZETTA CRAFT',\n",
       " 'VINCENT CHASE',\n",
       " 'VINCENT CHASE',\n",
       " 'AISLIN',\n",
       " 'ROYAL SON',\n",
       " 'PIRASO',\n",
       " 'ROZZETTA CRAFT',\n",
       " 'Singco India',\n",
       " 'NuVew',\n",
       " 'SRPM',\n",
       " 'ROYAL SON',\n",
       " 'kingsunglasses',\n",
       " 'Fastrack',\n",
       " 'NuVew',\n",
       " 'ROYAL SON',\n",
       " 'ROYAL SON',\n",
       " 'LIZA ANGEL',\n",
       " 'kingsunglasses',\n",
       " 'Ray-Ban']"
      ]
     },
     "execution_count": 108,
     "metadata": {},
     "output_type": "execute_result"
    }
   ],
   "source": [
    "brand_titles3=[]\n",
    "for i in brands_tags:\n",
    "    brand_titles3.append(i.text)\n",
    "brand_titles3[0:20]"
   ]
  },
  {
   "cell_type": "code",
   "execution_count": 109,
   "id": "7fdb551c",
   "metadata": {},
   "outputs": [
    {
     "data": {
      "text/plain": [
       "40"
      ]
     },
     "execution_count": 109,
     "metadata": {},
     "output_type": "execute_result"
    }
   ],
   "source": [
    "description_tags=driver.find_elements(By.XPATH,'//a[@class=\"IRpwTa\"]')\n",
    "len(description_tags)"
   ]
  },
  {
   "cell_type": "code",
   "execution_count": 110,
   "id": "47ee5795",
   "metadata": {},
   "outputs": [
    {
     "data": {
      "text/plain": [
       "['Polarized Round Sunglasses (48)',\n",
       " 'UV Protection Aviator Sunglasses (55)',\n",
       " 'Polarized, UV Protection Round Sunglasses (50)',\n",
       " 'by Lenskart Polarized, UV Protection Wayfarer Sunglasse...',\n",
       " 'UV Protection, Gradient Round, Cat-eye Sunglasses (60)',\n",
       " 'Polarized, UV Protection Wayfarer Sunglasses (61)',\n",
       " 'UV Protection Wayfarer Sunglasses (32)',\n",
       " 'Polarized, Night Vision, UV Protection Aviator Sunglass...',\n",
       " 'Gradient, Toughened Glass Lens, UV Protection Retro Squ...',\n",
       " 'UV Protection Sports Sunglasses (62)',\n",
       " 'UV Protection Wayfarer Sunglasses (54)',\n",
       " 'Polarized, UV Protection Round Sunglasses (52)',\n",
       " 'UV Protection Rectangular Sunglasses (55)',\n",
       " 'UV Protection Aviator Sunglasses (Free Size)',\n",
       " 'UV Protection, Mirrored Sports Sunglasses (62)',\n",
       " 'UV Protection Cat-eye, Over-sized Sunglasses (62)',\n",
       " 'UV Protection, Gradient Butterfly Sunglasses (62)',\n",
       " 'UV Protection, Riding Glasses, Night Vision Spectacle ...',\n",
       " 'UV Protection Rectangular Sunglasses (55)',\n",
       " 'UV Protection Aviator Sunglasses (58)']"
      ]
     },
     "execution_count": 110,
     "metadata": {},
     "output_type": "execute_result"
    }
   ],
   "source": [
    "description_names3=[]\n",
    "for j in description_tags:\n",
    "    description_names3.append(j.text)\n",
    "description_names3[0:20]"
   ]
  },
  {
   "cell_type": "code",
   "execution_count": 111,
   "id": "a5987e32",
   "metadata": {},
   "outputs": [
    {
     "data": {
      "text/plain": [
       "40"
      ]
     },
     "execution_count": 111,
     "metadata": {},
     "output_type": "execute_result"
    }
   ],
   "source": [
    "price_tags=driver.find_elements(By.XPATH,'//div[@class=\"_30jeq3\"]')\n",
    "len(price_tags)"
   ]
  },
  {
   "cell_type": "code",
   "execution_count": 112,
   "id": "712258e1",
   "metadata": {},
   "outputs": [
    {
     "data": {
      "text/plain": [
       "['₹205',\n",
       " '₹649',\n",
       " '₹949',\n",
       " '₹749',\n",
       " '₹485',\n",
       " '₹664',\n",
       " '₹257',\n",
       " '₹449',\n",
       " '₹597',\n",
       " '₹288',\n",
       " '₹129',\n",
       " '₹799',\n",
       " '₹267',\n",
       " '₹769',\n",
       " '₹289',\n",
       " '₹699',\n",
       " '₹699',\n",
       " '₹129',\n",
       " '₹198',\n",
       " '₹5,805']"
      ]
     },
     "execution_count": 112,
     "metadata": {},
     "output_type": "execute_result"
    }
   ],
   "source": [
    "price3=[]\n",
    "for k in price_tags:\n",
    "    price3.append(k.text)\n",
    "price3[0:20]\n"
   ]
  },
  {
   "cell_type": "code",
   "execution_count": 113,
   "id": "32736f56",
   "metadata": {},
   "outputs": [
    {
     "data": {
      "text/plain": [
       "40"
      ]
     },
     "execution_count": 113,
     "metadata": {},
     "output_type": "execute_result"
    }
   ],
   "source": [
    "discount_tags=driver.find_elements(By.XPATH,'//div[@class=\"_3Ay6Sb\"]')\n",
    "len(discount_tags)\n"
   ]
  },
  {
   "cell_type": "code",
   "execution_count": 114,
   "id": "49aba28e",
   "metadata": {},
   "outputs": [
    {
     "data": {
      "text/plain": [
       "['58% off',\n",
       " '74% off',\n",
       " '52% off',\n",
       " '62% off',\n",
       " '71% off',\n",
       " '66% off',\n",
       " '83% off',\n",
       " '77% off',\n",
       " '80% off',\n",
       " '76% off',\n",
       " '87% off',\n",
       " '60% off',\n",
       " '82% off',\n",
       " '14% off',\n",
       " '76% off',\n",
       " '53% off',\n",
       " '65% off',\n",
       " '74% off',\n",
       " '84% off',\n",
       " '21% off']"
      ]
     },
     "execution_count": 114,
     "metadata": {},
     "output_type": "execute_result"
    }
   ],
   "source": [
    "discount3=[]\n",
    "for k in discount_tags:\n",
    "    discount3.append(k.text)\n",
    "discount3[0:20]"
   ]
  },
  {
   "cell_type": "code",
   "execution_count": 115,
   "id": "d9c92252",
   "metadata": {},
   "outputs": [
    {
     "data": {
      "text/html": [
       "<div>\n",
       "<style scoped>\n",
       "    .dataframe tbody tr th:only-of-type {\n",
       "        vertical-align: middle;\n",
       "    }\n",
       "\n",
       "    .dataframe tbody tr th {\n",
       "        vertical-align: top;\n",
       "    }\n",
       "\n",
       "    .dataframe thead th {\n",
       "        text-align: right;\n",
       "    }\n",
       "</style>\n",
       "<table border=\"1\" class=\"dataframe\">\n",
       "  <thead>\n",
       "    <tr style=\"text-align: right;\">\n",
       "      <th></th>\n",
       "      <th>Brand</th>\n",
       "      <th>Product Description</th>\n",
       "      <th>Price</th>\n",
       "      <th>Discount</th>\n",
       "    </tr>\n",
       "  </thead>\n",
       "  <tbody>\n",
       "    <tr>\n",
       "      <th>0</th>\n",
       "      <td>Silver Kartz</td>\n",
       "      <td>UV Protection Clubmaster Sunglasses (53)</td>\n",
       "      <td>₹278</td>\n",
       "      <td>81% off</td>\n",
       "    </tr>\n",
       "    <tr>\n",
       "      <th>1</th>\n",
       "      <td>VINCENT CHASE</td>\n",
       "      <td>by Lenskart Polarized, UV Protection Cat-eye S...</td>\n",
       "      <td>₹806</td>\n",
       "      <td>59% off</td>\n",
       "    </tr>\n",
       "    <tr>\n",
       "      <th>2</th>\n",
       "      <td>Elligator</td>\n",
       "      <td>UV Protection Cat-eye, Retro Square, Oval, Rou...</td>\n",
       "      <td>₹149</td>\n",
       "      <td>75% off</td>\n",
       "    </tr>\n",
       "    <tr>\n",
       "      <th>3</th>\n",
       "      <td>LIZA ANGEL</td>\n",
       "      <td>Riding Glasses, Night Vision Spectacle Sunglas...</td>\n",
       "      <td>₹129</td>\n",
       "      <td>87% off</td>\n",
       "    </tr>\n",
       "    <tr>\n",
       "      <th>4</th>\n",
       "      <td>Fastrack</td>\n",
       "      <td>UV Protection Wayfarer Sunglasses (Free Size)</td>\n",
       "      <td>₹599</td>\n",
       "      <td>40% off</td>\n",
       "    </tr>\n",
       "    <tr>\n",
       "      <th>...</th>\n",
       "      <td>...</td>\n",
       "      <td>...</td>\n",
       "      <td>...</td>\n",
       "      <td>...</td>\n",
       "    </tr>\n",
       "    <tr>\n",
       "      <th>15</th>\n",
       "      <td>ROYAL SON</td>\n",
       "      <td>UV Protection Cat-eye, Over-sized Sunglasses (62)</td>\n",
       "      <td>₹699</td>\n",
       "      <td>53% off</td>\n",
       "    </tr>\n",
       "    <tr>\n",
       "      <th>16</th>\n",
       "      <td>ROYAL SON</td>\n",
       "      <td>UV Protection, Gradient Butterfly Sunglasses (62)</td>\n",
       "      <td>₹699</td>\n",
       "      <td>65% off</td>\n",
       "    </tr>\n",
       "    <tr>\n",
       "      <th>17</th>\n",
       "      <td>LIZA ANGEL</td>\n",
       "      <td>UV Protection, Riding Glasses, Night Vision Sp...</td>\n",
       "      <td>₹129</td>\n",
       "      <td>74% off</td>\n",
       "    </tr>\n",
       "    <tr>\n",
       "      <th>18</th>\n",
       "      <td>kingsunglasses</td>\n",
       "      <td>UV Protection Rectangular Sunglasses (55)</td>\n",
       "      <td>₹198</td>\n",
       "      <td>84% off</td>\n",
       "    </tr>\n",
       "    <tr>\n",
       "      <th>19</th>\n",
       "      <td>Ray-Ban</td>\n",
       "      <td>UV Protection Aviator Sunglasses (58)</td>\n",
       "      <td>₹5,805</td>\n",
       "      <td>21% off</td>\n",
       "    </tr>\n",
       "  </tbody>\n",
       "</table>\n",
       "<p>100 rows × 4 columns</p>\n",
       "</div>"
      ],
      "text/plain": [
       "             Brand                               Product Description    Price  \\\n",
       "0     Silver Kartz           UV Protection Clubmaster Sunglasses (53)    ₹278   \n",
       "1    VINCENT CHASE  by Lenskart Polarized, UV Protection Cat-eye S...    ₹806   \n",
       "2        Elligator  UV Protection Cat-eye, Retro Square, Oval, Rou...    ₹149   \n",
       "3       LIZA ANGEL  Riding Glasses, Night Vision Spectacle Sunglas...    ₹129   \n",
       "4         Fastrack      UV Protection Wayfarer Sunglasses (Free Size)    ₹599   \n",
       "..             ...                                                ...     ...   \n",
       "15       ROYAL SON  UV Protection Cat-eye, Over-sized Sunglasses (62)    ₹699   \n",
       "16       ROYAL SON  UV Protection, Gradient Butterfly Sunglasses (62)    ₹699   \n",
       "17      LIZA ANGEL  UV Protection, Riding Glasses, Night Vision Sp...    ₹129   \n",
       "18  kingsunglasses          UV Protection Rectangular Sunglasses (55)    ₹198   \n",
       "19         Ray-Ban              UV Protection Aviator Sunglasses (58)  ₹5,805   \n",
       "\n",
       "   Discount  \n",
       "0   81% off  \n",
       "1   59% off  \n",
       "2   75% off  \n",
       "3   87% off  \n",
       "4   40% off  \n",
       "..      ...  \n",
       "15  53% off  \n",
       "16  65% off  \n",
       "17  74% off  \n",
       "18  84% off  \n",
       "19  21% off  \n",
       "\n",
       "[100 rows x 4 columns]"
      ]
     },
     "execution_count": 115,
     "metadata": {},
     "output_type": "execute_result"
    }
   ],
   "source": [
    "sunglasses1=pd.DataFrame()\n",
    "sunglasses1['Brand']= brand_titles\n",
    "sunglasses1['Product Description ']= description_names\n",
    "sunglasses1['Price']= price\n",
    "sunglasses1['Discount']= discount\n",
    "\n",
    "sunglasses2=pd.DataFrame()\n",
    "sunglasses2['Brand']= brand_titles2\n",
    "sunglasses2['Product Description ']= description_names2\n",
    "sunglasses2['Price']= price2\n",
    "sunglasses2['Discount']= discount2\n",
    "\n",
    "sunglasses3=pd.DataFrame()\n",
    "sunglasses3['Brand']= brand_titles3\n",
    "sunglasses3['Product Description ']= description_names3\n",
    "sunglasses3['Price']= price3\n",
    "sunglasses3['Discount']= discount3\n",
    "\n",
    "\n",
    "sunglasses=pd.concat([sunglasses1,sunglasses2,sunglasses3[0:20]])\n",
    "sunglasses"
   ]
  },
  {
   "cell_type": "markdown",
   "id": "f9b265a4",
   "metadata": {},
   "source": [
    "Q5:Scrape 100 reviews data from flipkart.com for iphone11 phone. You have to scrape four attributes: \n",
    "Rating\n",
    "Review summary\n",
    "Full review"
   ]
  },
  {
   "cell_type": "code",
   "execution_count": 116,
   "id": "e3974432",
   "metadata": {},
   "outputs": [],
   "source": [
    "url='https://www.flipkart.com/search?q=iphone+11+64+gb&as=on&as-show=on&otracker=AS_Query_OrganicAutoSuggest_3_12_na_na_na&otracker1=AS_Query_OrganicAutoSuggest_3_12_na_na_na&as-pos=3&as-type=RECENT&suggestionId=iphone+11+64+gb&requestId=064ec048-2ee3-4ea6-8e9e-548f8d51d4b5&as-backfill=on'\n",
    "driver.get(url)"
   ]
  },
  {
   "cell_type": "code",
   "execution_count": 117,
   "id": "8ea9d0be",
   "metadata": {},
   "outputs": [
    {
     "data": {
      "text/plain": [
       "<selenium.webdriver.remote.webelement.WebElement (session=\"0d77821a0a69d223f5ab2c0f9eb01e39\", element=\"8946c84d-72d0-464a-81f6-e5f138764f29\")>"
      ]
     },
     "execution_count": 117,
     "metadata": {},
     "output_type": "execute_result"
    }
   ],
   "source": [
    "all_btn=driver.find_element(By.XPATH,'/html/body/div/div/div[3]/div[1]/div[2]/div[2]/div/div/div/a')\n",
    "all_btn"
   ]
  },
  {
   "cell_type": "code",
   "execution_count": 118,
   "id": "830029ba",
   "metadata": {},
   "outputs": [],
   "source": [
    "all_btn.click()"
   ]
  },
  {
   "cell_type": "code",
   "execution_count": 119,
   "id": "d6c86c18",
   "metadata": {},
   "outputs": [
    {
     "data": {
      "text/plain": [
       "['5', '5', '5', '5', '5', '5', '4', '5']"
      ]
     },
     "execution_count": 119,
     "metadata": {},
     "output_type": "execute_result"
    }
   ],
   "source": [
    "rating_tags=driver.find_elements(By.XPATH,'//div[@class=\"_3LWZlK _1BLPMq\"]')\n",
    "len(rating_tags)\n",
    "\n",
    "ratings=[]\n",
    "for i in rating_tags:\n",
    "    ratings.append(i.text)\n",
    "ratings\n"
   ]
  },
  {
   "cell_type": "code",
   "execution_count": 120,
   "id": "ba8b61b4",
   "metadata": {},
   "outputs": [
    {
     "data": {
      "text/plain": [
       "['Perfect product!',\n",
       " 'Terrific',\n",
       " 'Fabulous!',\n",
       " 'Great product',\n",
       " 'Simply awesome',\n",
       " 'Simply awesome',\n",
       " 'Good quality product',\n",
       " 'Perfect product!']"
      ]
     },
     "execution_count": 120,
     "metadata": {},
     "output_type": "execute_result"
    }
   ],
   "source": [
    "summary_tags=driver.find_elements(By.XPATH,'//p[@class=\"_2-N8zT\"]')\n",
    "len(summary_tags)\n",
    "\n",
    "review_summary=[]\n",
    "for j in summary_tags:\n",
    "    review_summary.append(j.text)\n",
    "review_summary"
   ]
  },
  {
   "cell_type": "code",
   "execution_count": 121,
   "id": "b3e1d90d",
   "metadata": {},
   "outputs": [
    {
     "data": {
      "text/plain": [
       "8"
      ]
     },
     "execution_count": 121,
     "metadata": {},
     "output_type": "execute_result"
    }
   ],
   "source": [
    "review=driver.find_elements(By.XPATH,'//div[@class=\"t-ZTKy\"]')\n",
    "len(review)"
   ]
  },
  {
   "cell_type": "code",
   "execution_count": 122,
   "id": "53d5a045",
   "metadata": {},
   "outputs": [
    {
     "data": {
      "text/plain": [
       "[\"After using 3 years mobile review. Excellent & Awesome Mobile fully I love it mobile don't wait take it perfectly suits everyone very stylish and operating a...\\nRead full review\",\n",
       " 'I am using the phone for last 5 years and found no cons as such. The camera quality is bit low as compared to other iphone varient but it can be managable. B...\\nRead full review',\n",
       " 'Fast performance to previous iPhone x\\nGood camera quality but the best part of night mode #killing\\n\\nI am already One-plus7\\nHuge difference between in night m...\\nRead full review',\n",
       " 'Awesome product ❤️❤️\\nThank you Flipkart',\n",
       " 'Really satisfied with the Product I received... It’s totally genuine and the packaging was also really good so if ur planning to buy just go for it.',\n",
       " 'Loving it , but the price is bitter and costly.',\n",
       " \"impressively Nice......\\nOne of the greatest iPhone i ever used ....\\nAll was like Never before ...\\nit's just Amazing ...\\nBattery Life is too good ...2 Days wi...\\nRead full review\",\n",
       " 'Nice products thanks flkat']"
      ]
     },
     "execution_count": 122,
     "metadata": {},
     "output_type": "execute_result"
    }
   ],
   "source": [
    "full_summary=[]\n",
    "for k in review:\n",
    "    full_summary.append(k.text)\n",
    "full_summary\n"
   ]
  },
  {
   "cell_type": "code",
   "execution_count": 123,
   "id": "9e8dacc1",
   "metadata": {},
   "outputs": [
    {
     "data": {
      "text/plain": [
       "<selenium.webdriver.remote.webelement.WebElement (session=\"0d77821a0a69d223f5ab2c0f9eb01e39\", element=\"6e46c27c-1d4b-4312-a822-6f09eae5d784\")>"
      ]
     },
     "execution_count": 123,
     "metadata": {},
     "output_type": "execute_result"
    }
   ],
   "source": [
    "next_btn=driver.find_element(By.XPATH,'/html/body/div/div/div[3]/div[1]/div[2]/div[3]/div/div/div/a')\n",
    "next_btn"
   ]
  },
  {
   "cell_type": "code",
   "execution_count": 124,
   "id": "bb63c617",
   "metadata": {},
   "outputs": [],
   "source": [
    "next_btn.click()"
   ]
  },
  {
   "cell_type": "code",
   "execution_count": 125,
   "id": "52c8c06a",
   "metadata": {},
   "outputs": [
    {
     "data": {
      "text/plain": [
       "['5', '5', '5', '5', '5', '5', '4', '5']"
      ]
     },
     "execution_count": 125,
     "metadata": {},
     "output_type": "execute_result"
    }
   ],
   "source": [
    "rating_tags1=driver.find_elements(By.XPATH,'//div[@class=\"_3LWZlK _1BLPMq\"]')\n",
    "len(rating_tags1)\n",
    "\n",
    "ratings1=[]\n",
    "for i in rating_tags1:\n",
    "    ratings1.append(i.text)\n",
    "ratings1"
   ]
  },
  {
   "cell_type": "code",
   "execution_count": 126,
   "id": "ea5d85e8",
   "metadata": {},
   "outputs": [
    {
     "data": {
      "text/plain": [
       "['Perfect product!',\n",
       " 'Terrific',\n",
       " 'Fabulous!',\n",
       " 'Great product',\n",
       " 'Simply awesome',\n",
       " 'Simply awesome',\n",
       " 'Good quality product',\n",
       " 'Perfect product!']"
      ]
     },
     "execution_count": 126,
     "metadata": {},
     "output_type": "execute_result"
    }
   ],
   "source": [
    "summary_tags1=driver.find_elements(By.XPATH,'//p[@class=\"_2-N8zT\"]')\n",
    "len(summary_tags1)\n",
    "\n",
    "review_summary1=[]\n",
    "for j in summary_tags1:\n",
    "    review_summary1.append(j.text)\n",
    "review_summary1"
   ]
  },
  {
   "cell_type": "code",
   "execution_count": 127,
   "id": "2080535a",
   "metadata": {},
   "outputs": [
    {
     "data": {
      "text/plain": [
       "[\"After using 3 years mobile review. Excellent & Awesome Mobile fully I love it mobile don't wait take it perfectly suits everyone very stylish and operating a...\",\n",
       " 'I am using the phone for last 5 years and found no cons as such. The camera quality is bit low as compared to other iphone varient but it can be managable. B...',\n",
       " 'Fast performance to previous iPhone x\\nGood camera quality but the best part of night mode #killing\\n\\nI am already One-plus7\\nHuge difference between in night m...',\n",
       " 'Awesome product ❤️❤️\\nThank you Flipkart',\n",
       " 'Really satisfied with the Product I received... It’s totally genuine and the packaging was also really good so if ur planning to buy just go for it.',\n",
       " 'Loving it , but the price is bitter and costly.',\n",
       " \"impressively Nice......\\nOne of the greatest iPhone i ever used ....\\nAll was like Never before ...\\nit's just Amazing ...\\nBattery Life is too good ...2 Days wi...\",\n",
       " 'Nice products thanks flkat']"
      ]
     },
     "execution_count": 127,
     "metadata": {},
     "output_type": "execute_result"
    }
   ],
   "source": [
    "review1=driver.find_elements(By.XPATH,'//div[@class=\"\"]')\n",
    "len(review1)\n",
    "\n",
    "full_summary1=[]\n",
    "for k in review1:\n",
    "    full_summary1.append(k.text)\n",
    "full_summary1"
   ]
  },
  {
   "cell_type": "code",
   "execution_count": 128,
   "id": "016df411",
   "metadata": {},
   "outputs": [
    {
     "data": {
      "text/plain": [
       "<selenium.webdriver.remote.webelement.WebElement (session=\"0d77821a0a69d223f5ab2c0f9eb01e39\", element=\"efa4146f-b58e-474f-adf0-ee59d34eee76\")>"
      ]
     },
     "execution_count": 128,
     "metadata": {},
     "output_type": "execute_result"
    }
   ],
   "source": [
    "next_btn=driver.find_element(By.XPATH,'/html/body/div/div/div[3]/div[1]/div[2]/div[4]/div/div/div/a')\n",
    "next_btn"
   ]
  },
  {
   "cell_type": "code",
   "execution_count": 129,
   "id": "1b6ea8a0",
   "metadata": {},
   "outputs": [],
   "source": [
    "next_btn.click()"
   ]
  },
  {
   "cell_type": "code",
   "execution_count": 130,
   "id": "88077f32",
   "metadata": {},
   "outputs": [
    {
     "data": {
      "text/plain": [
       "['5', '5', '5', '5', '5', '5', '4', '5']"
      ]
     },
     "execution_count": 130,
     "metadata": {},
     "output_type": "execute_result"
    }
   ],
   "source": [
    "rating_tags2=driver.find_elements(By.XPATH,'//div[@class=\"_3LWZlK _1BLPMq\"]')\n",
    "len(rating_tags2)\n",
    "\n",
    "ratings2=[]\n",
    "for i in rating_tags2:\n",
    "    ratings2.append(i.text)\n",
    "ratings2"
   ]
  },
  {
   "cell_type": "code",
   "execution_count": 131,
   "id": "20bd071b",
   "metadata": {},
   "outputs": [
    {
     "data": {
      "text/plain": [
       "['Perfect product!',\n",
       " 'Terrific',\n",
       " 'Fabulous!',\n",
       " 'Great product',\n",
       " 'Simply awesome',\n",
       " 'Simply awesome',\n",
       " 'Good quality product',\n",
       " 'Perfect product!']"
      ]
     },
     "execution_count": 131,
     "metadata": {},
     "output_type": "execute_result"
    }
   ],
   "source": [
    "summary_tags2=driver.find_elements(By.XPATH,'//p[@class=\"_2-N8zT\"]')\n",
    "len(summary_tags2)\n",
    "\n",
    "review_summary2=[]\n",
    "for j in summary_tags2:\n",
    "    review_summary2.append(j.text)\n",
    "review_summary2\n"
   ]
  },
  {
   "cell_type": "code",
   "execution_count": 132,
   "id": "fdf76433",
   "metadata": {},
   "outputs": [
    {
     "data": {
      "text/plain": [
       "['Perfect product!',\n",
       " 'Terrific',\n",
       " 'Fabulous!',\n",
       " 'Great product',\n",
       " 'Simply awesome',\n",
       " 'Simply awesome',\n",
       " 'Good quality product',\n",
       " 'Perfect product!']"
      ]
     },
     "execution_count": 132,
     "metadata": {},
     "output_type": "execute_result"
    }
   ],
   "source": [
    "summary_tags2=driver.find_elements(By.XPATH,'//p[@class=\"_2-N8zT\"]')\n",
    "len(summary_tags2)\n",
    "\n",
    "review_summary2=[]\n",
    "for j in summary_tags2:\n",
    "    review_summary2.append(j.text)\n",
    "review_summary2"
   ]
  },
  {
   "cell_type": "code",
   "execution_count": 133,
   "id": "cb5e7f37",
   "metadata": {},
   "outputs": [
    {
     "data": {
      "text/plain": [
       "[\"After using 3 years mobile review. Excellent & Awesome Mobile fully I love it mobile don't wait take it perfectly suits everyone very stylish and operating a...\",\n",
       " 'I am using the phone for last 5 years and found no cons as such. The camera quality is bit low as compared to other iphone varient but it can be managable. B...',\n",
       " 'Fast performance to previous iPhone x\\nGood camera quality but the best part of night mode #killing\\n\\nI am already One-plus7\\nHuge difference between in night m...',\n",
       " 'Awesome product ❤️❤️\\nThank you Flipkart',\n",
       " 'Really satisfied with the Product I received... It’s totally genuine and the packaging was also really good so if ur planning to buy just go for it.',\n",
       " 'Loving it , but the price is bitter and costly.',\n",
       " \"impressively Nice......\\nOne of the greatest iPhone i ever used ....\\nAll was like Never before ...\\nit's just Amazing ...\\nBattery Life is too good ...2 Days wi...\",\n",
       " 'Nice products thanks flkat']"
      ]
     },
     "execution_count": 133,
     "metadata": {},
     "output_type": "execute_result"
    }
   ],
   "source": [
    "review2=driver.find_elements(By.XPATH,'//div[@class=\"\"]')\n",
    "len(review2)\n",
    "\n",
    "full_summary2=[]\n",
    "for k in review2:\n",
    "    full_summary2.append(k.text)\n",
    "full_summary2"
   ]
  },
  {
   "cell_type": "code",
   "execution_count": 134,
   "id": "2d925731",
   "metadata": {},
   "outputs": [
    {
     "data": {
      "text/plain": [
       "<selenium.webdriver.remote.webelement.WebElement (session=\"0d77821a0a69d223f5ab2c0f9eb01e39\", element=\"27a0c798-ff22-494d-9fdb-57041f3bca06\")>"
      ]
     },
     "execution_count": 134,
     "metadata": {},
     "output_type": "execute_result"
    }
   ],
   "source": [
    "next_btn=driver.find_element(By.XPATH,'/html/body/div/div/div[3]/div[1]/div[2]/div[5]/div/div/div/a')\n",
    "next_btn"
   ]
  },
  {
   "cell_type": "code",
   "execution_count": 135,
   "id": "6877ea8c",
   "metadata": {},
   "outputs": [],
   "source": [
    "next_btn.click()"
   ]
  },
  {
   "cell_type": "code",
   "execution_count": 136,
   "id": "156b64fe",
   "metadata": {},
   "outputs": [
    {
     "data": {
      "text/plain": [
       "['5', '5', '5', '5', '5', '5', '4', '5']"
      ]
     },
     "execution_count": 136,
     "metadata": {},
     "output_type": "execute_result"
    }
   ],
   "source": [
    "rating_tags3=driver.find_elements(By.XPATH,'//div[@class=\"_3LWZlK _1BLPMq\"]')\n",
    "len(rating_tags3)\n",
    "\n",
    "ratings3=[]\n",
    "for i in rating_tags3:\n",
    "    ratings3.append(i.text)\n",
    "ratings3"
   ]
  },
  {
   "cell_type": "code",
   "execution_count": 137,
   "id": "1ea9f15d",
   "metadata": {},
   "outputs": [
    {
     "data": {
      "text/plain": [
       "['5',\n",
       " '5',\n",
       " '5',\n",
       " '5',\n",
       " '5',\n",
       " '5',\n",
       " '4',\n",
       " '5',\n",
       " ['5', '5', '5', '5', '5', '5', '4', '5']]"
      ]
     },
     "execution_count": 137,
     "metadata": {},
     "output_type": "execute_result"
    }
   ],
   "source": [
    "z=driver.find_elements(By.XPATH,'//div[@class=\"_3LWZlK _1BLPMq\"]')\n",
    "len(z)\n",
    "\n",
    "z3=[]\n",
    "for i in z:\n",
    "    z3.append(i.text)\n",
    "z3\n",
    "ratings3.insert(8,z3)\n",
    "ratings3"
   ]
  },
  {
   "cell_type": "code",
   "execution_count": 138,
   "id": "f49ef494",
   "metadata": {},
   "outputs": [
    {
     "data": {
      "text/plain": [
       "['Perfect product!',\n",
       " 'Terrific',\n",
       " 'Fabulous!',\n",
       " 'Great product',\n",
       " 'Simply awesome',\n",
       " 'Simply awesome',\n",
       " 'Good quality product',\n",
       " 'Perfect product!']"
      ]
     },
     "execution_count": 138,
     "metadata": {},
     "output_type": "execute_result"
    }
   ],
   "source": [
    "summary_tags3=driver.find_elements(By.XPATH,'//p[@class=\"_2-N8zT\"]')\n",
    "len(summary_tags3)\n",
    "\n",
    "review_summary3=[]\n",
    "for j in summary_tags3:\n",
    "    review_summary3.append(j.text)\n",
    "review_summary3\n"
   ]
  },
  {
   "cell_type": "code",
   "execution_count": 139,
   "id": "a68fb457",
   "metadata": {},
   "outputs": [
    {
     "data": {
      "text/plain": [
       "[\"After using 3 years mobile review. Excellent & Awesome Mobile fully I love it mobile don't wait take it perfectly suits everyone very stylish and operating a...\",\n",
       " 'I am using the phone for last 5 years and found no cons as such. The camera quality is bit low as compared to other iphone varient but it can be managable. B...',\n",
       " 'Fast performance to previous iPhone x\\nGood camera quality but the best part of night mode #killing\\n\\nI am already One-plus7\\nHuge difference between in night m...',\n",
       " 'Awesome product ❤️❤️\\nThank you Flipkart',\n",
       " 'Really satisfied with the Product I received... It’s totally genuine and the packaging was also really good so if ur planning to buy just go for it.',\n",
       " 'Loving it , but the price is bitter and costly.',\n",
       " \"impressively Nice......\\nOne of the greatest iPhone i ever used ....\\nAll was like Never before ...\\nit's just Amazing ...\\nBattery Life is too good ...2 Days wi...\",\n",
       " 'Nice products thanks flkat']"
      ]
     },
     "execution_count": 139,
     "metadata": {},
     "output_type": "execute_result"
    }
   ],
   "source": [
    "review3=driver.find_elements(By.XPATH,'//div[@class=\"\"]')\n",
    "len(review3)\n",
    "\n",
    "full_summary3=[]\n",
    "for k in review3:\n",
    "    full_summary3.append(k.text)\n",
    "full_summary3\n"
   ]
  },
  {
   "cell_type": "code",
   "execution_count": 140,
   "id": "225d2a01",
   "metadata": {},
   "outputs": [
    {
     "data": {
      "text/plain": [
       "<selenium.webdriver.remote.webelement.WebElement (session=\"0d77821a0a69d223f5ab2c0f9eb01e39\", element=\"bd59ad2c-d824-4d1a-8f40-28ea9e4e9065\")>"
      ]
     },
     "execution_count": 140,
     "metadata": {},
     "output_type": "execute_result"
    }
   ],
   "source": [
    "next_btn=driver.find_element(By.XPATH,'/html/body/div/div/div[3]/div[1]/div[2]/div[6]/div/div/div/a/div[2]/div[1]/div[1]')\n",
    "next_btn\n"
   ]
  },
  {
   "cell_type": "code",
   "execution_count": 141,
   "id": "bc8fdb30",
   "metadata": {},
   "outputs": [],
   "source": [
    "next_btn.click()"
   ]
  },
  {
   "cell_type": "code",
   "execution_count": 142,
   "id": "ac1790d7",
   "metadata": {},
   "outputs": [
    {
     "data": {
      "text/plain": [
       "['5', '5', '5', '5', '5', '5', '4', '5']"
      ]
     },
     "execution_count": 142,
     "metadata": {},
     "output_type": "execute_result"
    }
   ],
   "source": [
    "rating_tags4=driver.find_elements(By.XPATH,'//div[@class=\"_3LWZlK _1BLPMq\"]')\n",
    "len(rating_tags4)\n",
    "\n",
    "ratings4=[]\n",
    "for i in rating_tags4:\n",
    "    ratings4.append(i.text)\n",
    "ratings4"
   ]
  },
  {
   "cell_type": "code",
   "execution_count": 143,
   "id": "3a223768",
   "metadata": {},
   "outputs": [
    {
     "data": {
      "text/plain": [
       "['Perfect product!',\n",
       " 'Terrific',\n",
       " 'Fabulous!',\n",
       " 'Great product',\n",
       " 'Simply awesome',\n",
       " 'Simply awesome',\n",
       " 'Good quality product',\n",
       " 'Perfect product!']"
      ]
     },
     "execution_count": 143,
     "metadata": {},
     "output_type": "execute_result"
    }
   ],
   "source": [
    "summary_tags4=driver.find_elements(By.XPATH,'//p[@class=\"_2-N8zT\"]')\n",
    "len(summary_tags4)\n",
    "\n",
    "review_summary4=[]\n",
    "for j in summary_tags4:\n",
    "    review_summary4.append(j.text)\n",
    "review_summary4"
   ]
  },
  {
   "cell_type": "code",
   "execution_count": 144,
   "id": "00c50d6d",
   "metadata": {},
   "outputs": [
    {
     "data": {
      "text/plain": [
       "[\"After using 3 years mobile review. Excellent & Awesome Mobile fully I love it mobile don't wait take it perfectly suits everyone very stylish and operating a...\",\n",
       " 'I am using the phone for last 5 years and found no cons as such. The camera quality is bit low as compared to other iphone varient but it can be managable. B...',\n",
       " 'Fast performance to previous iPhone x\\nGood camera quality but the best part of night mode #killing\\n\\nI am already One-plus7\\nHuge difference between in night m...',\n",
       " 'Awesome product ❤️❤️\\nThank you Flipkart',\n",
       " 'Really satisfied with the Product I received... It’s totally genuine and the packaging was also really good so if ur planning to buy just go for it.',\n",
       " 'Loving it , but the price is bitter and costly.',\n",
       " \"impressively Nice......\\nOne of the greatest iPhone i ever used ....\\nAll was like Never before ...\\nit's just Amazing ...\\nBattery Life is too good ...2 Days wi...\",\n",
       " 'Nice products thanks flkat']"
      ]
     },
     "execution_count": 144,
     "metadata": {},
     "output_type": "execute_result"
    }
   ],
   "source": [
    "review4=driver.find_elements(By.XPATH,'//div[@class=\"\"]')\n",
    "len(review4)\n",
    "\n",
    "full_summary4=[]\n",
    "for k in review4:\n",
    "    full_summary4.append(k.text)\n",
    "full_summary4\n"
   ]
  },
  {
   "cell_type": "code",
   "execution_count": 145,
   "id": "62f81991",
   "metadata": {},
   "outputs": [
    {
     "data": {
      "text/plain": [
       "<selenium.webdriver.remote.webelement.WebElement (session=\"0d77821a0a69d223f5ab2c0f9eb01e39\", element=\"41875a77-0a83-4e05-8a14-3f85bb49651d\")>"
      ]
     },
     "execution_count": 145,
     "metadata": {},
     "output_type": "execute_result"
    }
   ],
   "source": [
    "next_btn=driver.find_element(By.XPATH,'/html/body/div/div/div[3]/div[1]/div[2]/div[7]/div/div/div/a')\n",
    "next_btn"
   ]
  },
  {
   "cell_type": "code",
   "execution_count": 146,
   "id": "54994ce4",
   "metadata": {},
   "outputs": [],
   "source": [
    "next_btn.click()"
   ]
  },
  {
   "cell_type": "code",
   "execution_count": 147,
   "id": "b6f3e5e3",
   "metadata": {},
   "outputs": [
    {
     "data": {
      "text/plain": [
       "['5', '5', '5', '5', '5', '5', '4', '5']"
      ]
     },
     "execution_count": 147,
     "metadata": {},
     "output_type": "execute_result"
    }
   ],
   "source": [
    "rating_tags5=driver.find_elements(By.XPATH,'//div[@class=\"_3LWZlK _1BLPMq\"]')\n",
    "len(rating_tags5)\n",
    "\n",
    "ratings5=[]\n",
    "for i in rating_tags5:\n",
    "    ratings5.append(i.text)\n",
    "ratings5"
   ]
  },
  {
   "cell_type": "code",
   "execution_count": 148,
   "id": "eaeb6915",
   "metadata": {},
   "outputs": [
    {
     "data": {
      "text/plain": [
       "['Perfect product!',\n",
       " 'Terrific',\n",
       " 'Fabulous!',\n",
       " 'Great product',\n",
       " 'Simply awesome',\n",
       " 'Simply awesome',\n",
       " 'Good quality product',\n",
       " 'Perfect product!']"
      ]
     },
     "execution_count": 148,
     "metadata": {},
     "output_type": "execute_result"
    }
   ],
   "source": [
    "summary_tags5=driver.find_elements(By.XPATH,'//p[@class=\"_2-N8zT\"]')\n",
    "len(summary_tags5)\n",
    "\n",
    "review_summary5=[]\n",
    "for j in summary_tags5:\n",
    "    review_summary5.append(j.text)\n",
    "review_summary5"
   ]
  },
  {
   "cell_type": "code",
   "execution_count": 149,
   "id": "3ccd81ee",
   "metadata": {},
   "outputs": [
    {
     "data": {
      "text/plain": [
       "[\"After using 3 years mobile review. Excellent & Awesome Mobile fully I love it mobile don't wait take it perfectly suits everyone very stylish and operating a...\",\n",
       " 'I am using the phone for last 5 years and found no cons as such. The camera quality is bit low as compared to other iphone varient but it can be managable. B...',\n",
       " 'Fast performance to previous iPhone x\\nGood camera quality but the best part of night mode #killing\\n\\nI am already One-plus7\\nHuge difference between in night m...',\n",
       " 'Awesome product ❤️❤️\\nThank you Flipkart',\n",
       " 'Really satisfied with the Product I received... It’s totally genuine and the packaging was also really good so if ur planning to buy just go for it.',\n",
       " 'Loving it , but the price is bitter and costly.',\n",
       " \"impressively Nice......\\nOne of the greatest iPhone i ever used ....\\nAll was like Never before ...\\nit's just Amazing ...\\nBattery Life is too good ...2 Days wi...\",\n",
       " 'Nice products thanks flkat']"
      ]
     },
     "execution_count": 149,
     "metadata": {},
     "output_type": "execute_result"
    }
   ],
   "source": [
    "review5=driver.find_elements(By.XPATH,'//div[@class=\"\"]')\n",
    "len(review5)\n",
    "\n",
    "full_summary5=[]\n",
    "for k in review5:\n",
    "    full_summary5.append(k.text)\n",
    "full_summary5"
   ]
  },
  {
   "cell_type": "code",
   "execution_count": 150,
   "id": "2c19d417",
   "metadata": {},
   "outputs": [
    {
     "data": {
      "text/plain": [
       "<selenium.webdriver.remote.webelement.WebElement (session=\"0d77821a0a69d223f5ab2c0f9eb01e39\", element=\"2d3aa735-218b-4faf-ac4f-02da2f477b4c\")>"
      ]
     },
     "execution_count": 150,
     "metadata": {},
     "output_type": "execute_result"
    }
   ],
   "source": [
    "next_btn=driver.find_element(By.XPATH,'/html/body/div/div/div[3]/div[1]/div[2]/div[8]/div/div/div/a')\n",
    "next_btn\n"
   ]
  },
  {
   "cell_type": "code",
   "execution_count": 151,
   "id": "fe162f2c",
   "metadata": {},
   "outputs": [],
   "source": [
    "next_btn.click()"
   ]
  },
  {
   "cell_type": "code",
   "execution_count": 152,
   "id": "33fc6634",
   "metadata": {},
   "outputs": [
    {
     "data": {
      "text/plain": [
       "['5', '5', '5', '5', '5', '5', '4', '5']"
      ]
     },
     "execution_count": 152,
     "metadata": {},
     "output_type": "execute_result"
    }
   ],
   "source": [
    "rating_tags6=driver.find_elements(By.XPATH,'//div[@class=\"_3LWZlK _1BLPMq\"]')\n",
    "len(rating_tags6)\n",
    "\n",
    "ratings6=[]\n",
    "for i in rating_tags6:\n",
    "    ratings6.append(i.text)\n",
    "ratings6\n"
   ]
  },
  {
   "cell_type": "code",
   "execution_count": 153,
   "id": "633c7da3",
   "metadata": {},
   "outputs": [
    {
     "data": {
      "text/plain": [
       "8"
      ]
     },
     "execution_count": 153,
     "metadata": {},
     "output_type": "execute_result"
    }
   ],
   "source": [
    "z1=driver.find_elements(By.XPATH,'//div[@class=\"_3LWZlK _1BLPMq\"]')\n",
    "len(z1)"
   ]
  },
  {
   "cell_type": "code",
   "execution_count": 154,
   "id": "3b89d766",
   "metadata": {},
   "outputs": [
    {
     "data": {
      "text/plain": [
       "['5',\n",
       " '5',\n",
       " '5',\n",
       " '5',\n",
       " '5',\n",
       " '5',\n",
       " '4',\n",
       " '5',\n",
       " ['5', '5', '5', '5', '5', '5', '4', '5']]"
      ]
     },
     "execution_count": 154,
     "metadata": {},
     "output_type": "execute_result"
    }
   ],
   "source": [
    "z6=[]\n",
    "for i in z1:\n",
    "    z6.append(i.text)\n",
    "z6\n",
    "ratings6.insert(8,z6)\n",
    "ratings6\n"
   ]
  },
  {
   "cell_type": "code",
   "execution_count": 155,
   "id": "14b9e2db",
   "metadata": {},
   "outputs": [
    {
     "data": {
      "text/plain": [
       "['Perfect product!',\n",
       " 'Terrific',\n",
       " 'Fabulous!',\n",
       " 'Great product',\n",
       " 'Simply awesome',\n",
       " 'Simply awesome',\n",
       " 'Good quality product',\n",
       " 'Perfect product!']"
      ]
     },
     "execution_count": 155,
     "metadata": {},
     "output_type": "execute_result"
    }
   ],
   "source": [
    "summary_tags6=driver.find_elements(By.XPATH,'//p[@class=\"_2-N8zT\"]')\n",
    "len(summary_tags6)\n",
    "\n",
    "review_summary6=[]\n",
    "for j in summary_tags6:\n",
    "    review_summary6.append(j.text)\n",
    "review_summary6"
   ]
  },
  {
   "cell_type": "code",
   "execution_count": 156,
   "id": "24cf3ebb",
   "metadata": {},
   "outputs": [
    {
     "data": {
      "text/plain": [
       "[\"After using 3 years mobile review. Excellent & Awesome Mobile fully I love it mobile don't wait take it perfectly suits everyone very stylish and operating a...\",\n",
       " 'I am using the phone for last 5 years and found no cons as such. The camera quality is bit low as compared to other iphone varient but it can be managable. B...',\n",
       " 'Fast performance to previous iPhone x\\nGood camera quality but the best part of night mode #killing\\n\\nI am already One-plus7\\nHuge difference between in night m...',\n",
       " 'Awesome product ❤️❤️\\nThank you Flipkart',\n",
       " 'Really satisfied with the Product I received... It’s totally genuine and the packaging was also really good so if ur planning to buy just go for it.',\n",
       " 'Loving it , but the price is bitter and costly.',\n",
       " \"impressively Nice......\\nOne of the greatest iPhone i ever used ....\\nAll was like Never before ...\\nit's just Amazing ...\\nBattery Life is too good ...2 Days wi...\",\n",
       " 'Nice products thanks flkat']"
      ]
     },
     "execution_count": 156,
     "metadata": {},
     "output_type": "execute_result"
    }
   ],
   "source": [
    "review6=driver.find_elements(By.XPATH,'//div[@class=\"\"]')\n",
    "len(review6)\n",
    "\n",
    "full_summary6=[]\n",
    "for k in review6:\n",
    "    full_summary6.append(k.text)\n",
    "full_summary6"
   ]
  },
  {
   "cell_type": "code",
   "execution_count": 157,
   "id": "1b68f7b6",
   "metadata": {},
   "outputs": [
    {
     "data": {
      "text/plain": [
       "<selenium.webdriver.remote.webelement.WebElement (session=\"0d77821a0a69d223f5ab2c0f9eb01e39\", element=\"a5b32d2c-8183-4c84-ad89-3e2b53e5d61d\")>"
      ]
     },
     "execution_count": 157,
     "metadata": {},
     "output_type": "execute_result"
    }
   ],
   "source": [
    "next_btn=driver.find_element(By.XPATH,'/html/body/div/div/div[3]/div[1]/div[2]/div[9]/div/div/div/a')\n",
    "next_btn\n"
   ]
  },
  {
   "cell_type": "code",
   "execution_count": 158,
   "id": "51f909f5",
   "metadata": {},
   "outputs": [],
   "source": [
    "next_btn.click()"
   ]
  },
  {
   "cell_type": "code",
   "execution_count": 159,
   "id": "c00d9a62",
   "metadata": {},
   "outputs": [
    {
     "data": {
      "text/plain": [
       "['5', '5', '5', '5', '5', '5', '4', '5']"
      ]
     },
     "execution_count": 159,
     "metadata": {},
     "output_type": "execute_result"
    }
   ],
   "source": [
    "rating_tags7=driver.find_elements(By.XPATH,'//div[@class=\"_3LWZlK _1BLPMq\"]')\n",
    "len(rating_tags7)\n",
    "\n",
    "ratings7=[]\n",
    "for i in rating_tags7:\n",
    "    ratings7.append(i.text)\n",
    "ratings7"
   ]
  },
  {
   "cell_type": "code",
   "execution_count": 160,
   "id": "8bb59eab",
   "metadata": {},
   "outputs": [
    {
     "data": {
      "text/plain": [
       "['5',\n",
       " '5',\n",
       " '5',\n",
       " '5',\n",
       " '5',\n",
       " '5',\n",
       " '4',\n",
       " ['5', '5', '5', '5', '5', '5', '4', '5'],\n",
       " '5']"
      ]
     },
     "execution_count": 160,
     "metadata": {},
     "output_type": "execute_result"
    }
   ],
   "source": [
    "z2=driver.find_elements(By.XPATH,'//div[@class=\"_3LWZlK _1BLPMq\"]')\n",
    "len(z2)\n",
    "\n",
    "z7=[]\n",
    "for i in z2:\n",
    "    z7.append(i.text)\n",
    "z7\n",
    "ratings7.insert(7,z6)\n",
    "ratings7\n"
   ]
  },
  {
   "cell_type": "code",
   "execution_count": 161,
   "id": "38412868",
   "metadata": {},
   "outputs": [
    {
     "data": {
      "text/plain": [
       "['Perfect product!',\n",
       " 'Terrific',\n",
       " 'Fabulous!',\n",
       " 'Great product',\n",
       " 'Simply awesome',\n",
       " 'Simply awesome',\n",
       " 'Good quality product',\n",
       " 'Perfect product!']"
      ]
     },
     "execution_count": 161,
     "metadata": {},
     "output_type": "execute_result"
    }
   ],
   "source": [
    "summary_tags7=driver.find_elements(By.XPATH,'//p[@class=\"_2-N8zT\"]')\n",
    "len(summary_tags7)\n",
    "\n",
    "review_summary7=[]\n",
    "for j in summary_tags7:\n",
    "    review_summary7.append(j.text)\n",
    "review_summary7"
   ]
  },
  {
   "cell_type": "code",
   "execution_count": 162,
   "id": "a96f6446",
   "metadata": {},
   "outputs": [
    {
     "data": {
      "text/plain": [
       "[\"After using 3 years mobile review. Excellent & Awesome Mobile fully I love it mobile don't wait take it perfectly suits everyone very stylish and operating a...\",\n",
       " 'I am using the phone for last 5 years and found no cons as such. The camera quality is bit low as compared to other iphone varient but it can be managable. B...',\n",
       " 'Fast performance to previous iPhone x\\nGood camera quality but the best part of night mode #killing\\n\\nI am already One-plus7\\nHuge difference between in night m...',\n",
       " 'Awesome product ❤️❤️\\nThank you Flipkart',\n",
       " 'Really satisfied with the Product I received... It’s totally genuine and the packaging was also really good so if ur planning to buy just go for it.',\n",
       " 'Loving it , but the price is bitter and costly.',\n",
       " \"impressively Nice......\\nOne of the greatest iPhone i ever used ....\\nAll was like Never before ...\\nit's just Amazing ...\\nBattery Life is too good ...2 Days wi...\",\n",
       " 'Nice products thanks flkat']"
      ]
     },
     "execution_count": 162,
     "metadata": {},
     "output_type": "execute_result"
    }
   ],
   "source": [
    "review7=driver.find_elements(By.XPATH,'//div[@class=\"\"]')\n",
    "len(review7)\n",
    "\n",
    "full_summary7=[]\n",
    "for k in review7:\n",
    "    full_summary7.append(k.text)\n",
    "full_summary7"
   ]
  },
  {
   "cell_type": "code",
   "execution_count": 163,
   "id": "2c61f5e4",
   "metadata": {},
   "outputs": [
    {
     "data": {
      "text/plain": [
       "<selenium.webdriver.remote.webelement.WebElement (session=\"0d77821a0a69d223f5ab2c0f9eb01e39\", element=\"a5b32d2c-8183-4c84-ad89-3e2b53e5d61d\")>"
      ]
     },
     "execution_count": 163,
     "metadata": {},
     "output_type": "execute_result"
    }
   ],
   "source": [
    "next_btn=driver.find_element(By.XPATH,'/html/body/div/div/div[3]/div[1]/div[2]/div[9]/div/div/div/a')\n",
    "next_btn"
   ]
  },
  {
   "cell_type": "code",
   "execution_count": 164,
   "id": "6399a292",
   "metadata": {},
   "outputs": [],
   "source": [
    "next_btn.click()"
   ]
  },
  {
   "cell_type": "code",
   "execution_count": 165,
   "id": "525a8b62",
   "metadata": {},
   "outputs": [
    {
     "data": {
      "text/plain": [
       "['5', '5', '5', '5', '5', '5', '4', '5']"
      ]
     },
     "execution_count": 165,
     "metadata": {},
     "output_type": "execute_result"
    }
   ],
   "source": [
    "rating_tags8=driver.find_elements(By.XPATH,'//div[@class=\"_3LWZlK _1BLPMq\"]')\n",
    "len(rating_tags8)\n",
    "\n",
    "ratings8=[]\n",
    "for i in rating_tags8:\n",
    "    ratings8.append(i.text)\n",
    "ratings8"
   ]
  },
  {
   "cell_type": "code",
   "execution_count": 166,
   "id": "98e2f2eb",
   "metadata": {},
   "outputs": [
    {
     "data": {
      "text/plain": [
       "['Perfect product!',\n",
       " 'Terrific',\n",
       " 'Fabulous!',\n",
       " 'Great product',\n",
       " 'Simply awesome',\n",
       " 'Simply awesome',\n",
       " 'Good quality product',\n",
       " 'Perfect product!']"
      ]
     },
     "execution_count": 166,
     "metadata": {},
     "output_type": "execute_result"
    }
   ],
   "source": [
    "summary_tags8=driver.find_elements(By.XPATH,'//p[@class=\"_2-N8zT\"]')\n",
    "len(summary_tags8)\n",
    "\n",
    "review_summary8=[]\n",
    "for j in summary_tags8:\n",
    "    review_summary8.append(j.text)\n",
    "review_summary8"
   ]
  },
  {
   "cell_type": "code",
   "execution_count": 167,
   "id": "9e090ab1",
   "metadata": {},
   "outputs": [
    {
     "data": {
      "text/plain": [
       "[\"After using 3 years mobile review. Excellent & Awesome Mobile fully I love it mobile don't wait take it perfectly suits everyone very stylish and operating a...\",\n",
       " 'I am using the phone for last 5 years and found no cons as such. The camera quality is bit low as compared to other iphone varient but it can be managable. B...',\n",
       " 'Fast performance to previous iPhone x\\nGood camera quality but the best part of night mode #killing\\n\\nI am already One-plus7\\nHuge difference between in night m...',\n",
       " 'Awesome product ❤️❤️\\nThank you Flipkart',\n",
       " 'Really satisfied with the Product I received... It’s totally genuine and the packaging was also really good so if ur planning to buy just go for it.',\n",
       " 'Loving it , but the price is bitter and costly.',\n",
       " \"impressively Nice......\\nOne of the greatest iPhone i ever used ....\\nAll was like Never before ...\\nit's just Amazing ...\\nBattery Life is too good ...2 Days wi...\",\n",
       " 'Nice products thanks flkat']"
      ]
     },
     "execution_count": 167,
     "metadata": {},
     "output_type": "execute_result"
    }
   ],
   "source": [
    "review8=driver.find_elements(By.XPATH,'//div[@class=\"\"]')\n",
    "len(review8)\n",
    "\n",
    "full_summary8=[]\n",
    "for k in review8:\n",
    "    full_summary8.append(k.text)\n",
    "full_summary8"
   ]
  },
  {
   "cell_type": "code",
   "execution_count": 168,
   "id": "47c0a824",
   "metadata": {},
   "outputs": [
    {
     "data": {
      "text/plain": [
       "<selenium.webdriver.remote.webelement.WebElement (session=\"0d77821a0a69d223f5ab2c0f9eb01e39\", element=\"8a6723ff-beed-4b2f-b437-902409e8e5bd\")>"
      ]
     },
     "execution_count": 168,
     "metadata": {},
     "output_type": "execute_result"
    }
   ],
   "source": [
    "next_btn=driver.find_element(By.XPATH,'/html/body/div/div/div[3]/div[1]/div[2]/div[10]/div/div/div/a')\n",
    "next_btn"
   ]
  },
  {
   "cell_type": "code",
   "execution_count": 169,
   "id": "14d229a9",
   "metadata": {},
   "outputs": [],
   "source": [
    "next_btn.click()"
   ]
  },
  {
   "cell_type": "code",
   "execution_count": 170,
   "id": "9821d43f",
   "metadata": {},
   "outputs": [
    {
     "data": {
      "text/plain": [
       "['5', '5', '5', '5', '5', '5', '4', '5']"
      ]
     },
     "execution_count": 170,
     "metadata": {},
     "output_type": "execute_result"
    }
   ],
   "source": [
    "rating_tags9=driver.find_elements(By.XPATH,'//div[@class=\"_3LWZlK _1BLPMq\"]')\n",
    "len(rating_tags9)\n",
    "\n",
    "ratings9=[]\n",
    "for i in rating_tags9:\n",
    "    ratings9.append(i.text)\n",
    "ratings9"
   ]
  },
  {
   "cell_type": "code",
   "execution_count": 171,
   "id": "78a0874a",
   "metadata": {},
   "outputs": [
    {
     "data": {
      "text/plain": [
       "['Perfect product!',\n",
       " 'Terrific',\n",
       " 'Fabulous!',\n",
       " 'Great product',\n",
       " 'Simply awesome',\n",
       " 'Simply awesome',\n",
       " 'Good quality product',\n",
       " 'Perfect product!']"
      ]
     },
     "execution_count": 171,
     "metadata": {},
     "output_type": "execute_result"
    }
   ],
   "source": [
    "summary_tags9=driver.find_elements(By.XPATH,'//p[@class=\"_2-N8zT\"]')\n",
    "len(summary_tags9)\n",
    "\n",
    "review_summary9=[]\n",
    "for j in summary_tags9:\n",
    "    review_summary9.append(j.text)\n",
    "review_summary9"
   ]
  },
  {
   "cell_type": "code",
   "execution_count": 172,
   "id": "42398af2",
   "metadata": {},
   "outputs": [
    {
     "data": {
      "text/plain": [
       "[\"After using 3 years mobile review. Excellent & Awesome Mobile fully I love it mobile don't wait take it perfectly suits everyone very stylish and operating a...\",\n",
       " 'I am using the phone for last 5 years and found no cons as such. The camera quality is bit low as compared to other iphone varient but it can be managable. B...',\n",
       " 'Fast performance to previous iPhone x\\nGood camera quality but the best part of night mode #killing\\n\\nI am already One-plus7\\nHuge difference between in night m...',\n",
       " 'Awesome product ❤️❤️\\nThank you Flipkart',\n",
       " 'Really satisfied with the Product I received... It’s totally genuine and the packaging was also really good so if ur planning to buy just go for it.',\n",
       " 'Loving it , but the price is bitter and costly.',\n",
       " \"impressively Nice......\\nOne of the greatest iPhone i ever used ....\\nAll was like Never before ...\\nit's just Amazing ...\\nBattery Life is too good ...2 Days wi...\",\n",
       " 'Nice products thanks flkat']"
      ]
     },
     "execution_count": 172,
     "metadata": {},
     "output_type": "execute_result"
    }
   ],
   "source": [
    "review9=driver.find_elements(By.XPATH,'//div[@class=\"\"]')\n",
    "len(review9)\n",
    "\n",
    "full_summary9=[]\n",
    "for k in review9:\n",
    "    full_summary9.append(k.text)\n",
    "full_summary9"
   ]
  },
  {
   "cell_type": "code",
   "execution_count": 173,
   "id": "d126df36",
   "metadata": {},
   "outputs": [],
   "source": [
    "iphone=pd.DataFrame()\n",
    "iphone['Rating']=pd.Series(ratings)\n",
    "iphone['Review Summary']=pd.Series(review_summary)\n",
    "iphone['Full Summary']=pd.Series(full_summary)\n",
    "\n",
    "iphone1=pd.DataFrame()\n",
    "iphone1['Rating']=pd.Series(ratings1)\n",
    "iphone1['Review Summary']=pd.Series(review_summary1)\n",
    "iphone1['Full Summary']=pd.Series(full_summary1)\n",
    "\n",
    "iphone2=pd.DataFrame()\n",
    "iphone2['Rating']=pd.Series(ratings2)\n",
    "iphone2['Review Summary']=pd.Series(review_summary2)\n",
    "iphone2['Full Summary']=pd.Series(full_summary2)\n",
    "\n",
    "iphone3=pd.DataFrame()\n",
    "iphone3['Rating']=pd.Series(ratings3)\n",
    "iphone3['Review Summary']=pd.Series(review_summary3)\n",
    "iphone3['Full Summary']=pd.Series(full_summary3)\n",
    "\n",
    "iphone4=pd.DataFrame()\n",
    "iphone4['Rating']=pd.Series(ratings4)\n",
    "iphone4['Review Summary']=pd.Series(review_summary4)\n",
    "iphone4['Full Summary']=pd.Series(full_summary4)\n",
    "\n",
    "iphone5=pd.DataFrame()\n",
    "iphone5['Rating']=pd.Series(ratings5)\n",
    "iphone5['Review Summary']=pd.Series(review_summary5)\n",
    "iphone5['Full Summary']=pd.Series(full_summary5)\n",
    "\n",
    "iphone6=pd.DataFrame()\n",
    "iphone6['Rating']=pd.Series(ratings6)\n",
    "iphone6['Review Summary']=pd.Series(review_summary6)\n",
    "iphone6['Full Summary']=pd.Series(full_summary6)\n",
    "\n",
    "iphone7=pd.DataFrame()\n",
    "iphone7['Rating']=pd.Series(ratings7)\n",
    "iphone7['Review Summary']=pd.Series(review_summary7)\n",
    "iphone7['Full Summary']=pd.Series(full_summary7)\n",
    "\n",
    "iphone8=pd.DataFrame()\n",
    "iphone8['Rating']=pd.Series(ratings8)\n",
    "iphone8['Review Summary']=pd.Series(review_summary8)\n",
    "iphone8['Full Summary']=pd.Series(full_summary8)\n",
    "\n",
    "iphone9=pd.DataFrame()\n",
    "iphone9['Rating']=pd.Series(ratings9)\n",
    "iphone9['Review Summary']=pd.Series(review_summary9)\n",
    "iphone9['Full Summary']=pd.Series(full_summary9)\n"
   ]
  },
  {
   "cell_type": "code",
   "execution_count": 174,
   "id": "5224f720",
   "metadata": {},
   "outputs": [
    {
     "data": {
      "text/html": [
       "<div>\n",
       "<style scoped>\n",
       "    .dataframe tbody tr th:only-of-type {\n",
       "        vertical-align: middle;\n",
       "    }\n",
       "\n",
       "    .dataframe tbody tr th {\n",
       "        vertical-align: top;\n",
       "    }\n",
       "\n",
       "    .dataframe thead th {\n",
       "        text-align: right;\n",
       "    }\n",
       "</style>\n",
       "<table border=\"1\" class=\"dataframe\">\n",
       "  <thead>\n",
       "    <tr style=\"text-align: right;\">\n",
       "      <th></th>\n",
       "      <th>Rating</th>\n",
       "      <th>Review Summary</th>\n",
       "      <th>Full Summary</th>\n",
       "    </tr>\n",
       "  </thead>\n",
       "  <tbody>\n",
       "    <tr>\n",
       "      <th>0</th>\n",
       "      <td>5</td>\n",
       "      <td>Perfect product!</td>\n",
       "      <td>After using 3 years mobile review. Excellent &amp;...</td>\n",
       "    </tr>\n",
       "    <tr>\n",
       "      <th>1</th>\n",
       "      <td>5</td>\n",
       "      <td>Terrific</td>\n",
       "      <td>I am using the phone for last 5 years and foun...</td>\n",
       "    </tr>\n",
       "    <tr>\n",
       "      <th>2</th>\n",
       "      <td>5</td>\n",
       "      <td>Fabulous!</td>\n",
       "      <td>Fast performance to previous iPhone x\\nGood ca...</td>\n",
       "    </tr>\n",
       "    <tr>\n",
       "      <th>3</th>\n",
       "      <td>5</td>\n",
       "      <td>Great product</td>\n",
       "      <td>Awesome product ❤️❤️\\nThank you Flipkart</td>\n",
       "    </tr>\n",
       "    <tr>\n",
       "      <th>4</th>\n",
       "      <td>5</td>\n",
       "      <td>Simply awesome</td>\n",
       "      <td>Really satisfied with the Product I received.....</td>\n",
       "    </tr>\n",
       "    <tr>\n",
       "      <th>...</th>\n",
       "      <td>...</td>\n",
       "      <td>...</td>\n",
       "      <td>...</td>\n",
       "    </tr>\n",
       "    <tr>\n",
       "      <th>3</th>\n",
       "      <td>5</td>\n",
       "      <td>Great product</td>\n",
       "      <td>Awesome product ❤️❤️\\nThank you Flipkart</td>\n",
       "    </tr>\n",
       "    <tr>\n",
       "      <th>4</th>\n",
       "      <td>5</td>\n",
       "      <td>Simply awesome</td>\n",
       "      <td>Really satisfied with the Product I received.....</td>\n",
       "    </tr>\n",
       "    <tr>\n",
       "      <th>5</th>\n",
       "      <td>5</td>\n",
       "      <td>Simply awesome</td>\n",
       "      <td>Loving it , but the price is bitter and costly.</td>\n",
       "    </tr>\n",
       "    <tr>\n",
       "      <th>6</th>\n",
       "      <td>4</td>\n",
       "      <td>Good quality product</td>\n",
       "      <td>impressively Nice......\\nOne of the greatest i...</td>\n",
       "    </tr>\n",
       "    <tr>\n",
       "      <th>7</th>\n",
       "      <td>5</td>\n",
       "      <td>Perfect product!</td>\n",
       "      <td>Nice products thanks flkat</td>\n",
       "    </tr>\n",
       "  </tbody>\n",
       "</table>\n",
       "<p>83 rows × 3 columns</p>\n",
       "</div>"
      ],
      "text/plain": [
       "   Rating        Review Summary  \\\n",
       "0       5      Perfect product!   \n",
       "1       5              Terrific   \n",
       "2       5             Fabulous!   \n",
       "3       5         Great product   \n",
       "4       5        Simply awesome   \n",
       "..    ...                   ...   \n",
       "3       5         Great product   \n",
       "4       5        Simply awesome   \n",
       "5       5        Simply awesome   \n",
       "6       4  Good quality product   \n",
       "7       5      Perfect product!   \n",
       "\n",
       "                                         Full Summary  \n",
       "0   After using 3 years mobile review. Excellent &...  \n",
       "1   I am using the phone for last 5 years and foun...  \n",
       "2   Fast performance to previous iPhone x\\nGood ca...  \n",
       "3            Awesome product ❤️❤️\\nThank you Flipkart  \n",
       "4   Really satisfied with the Product I received.....  \n",
       "..                                                ...  \n",
       "3            Awesome product ❤️❤️\\nThank you Flipkart  \n",
       "4   Really satisfied with the Product I received.....  \n",
       "5     Loving it , but the price is bitter and costly.  \n",
       "6   impressively Nice......\\nOne of the greatest i...  \n",
       "7                          Nice products thanks flkat  \n",
       "\n",
       "[83 rows x 3 columns]"
      ]
     },
     "execution_count": 174,
     "metadata": {},
     "output_type": "execute_result"
    }
   ],
   "source": [
    "iphone11=pd.concat([iphone,iphone1,iphone2,iphone3,iphone4,iphone5,iphone6,iphone7,iphone8,iphone9])\n",
    "iphone11"
   ]
  },
  {
   "cell_type": "markdown",
   "id": "485ea73a",
   "metadata": {},
   "source": [
    "Q6.Scrape data for first 100 sneakers you find when you visit flipkart.com\n",
    "Brand\n",
    "Product Description\n",
    "Price"
   ]
  },
  {
   "cell_type": "code",
   "execution_count": 175,
   "id": "bc3e49e1",
   "metadata": {},
   "outputs": [],
   "source": [
    "url=\"https://www.flipkart.com/\"\n",
    "driver.get(url)"
   ]
  },
  {
   "cell_type": "code",
   "execution_count": 176,
   "id": "ba322720",
   "metadata": {},
   "outputs": [
    {
     "data": {
      "text/plain": [
       "<selenium.webdriver.remote.webelement.WebElement (session=\"0d77821a0a69d223f5ab2c0f9eb01e39\", element=\"6746e259-b92c-4c4c-90c2-3e53f2c1a638\")>"
      ]
     },
     "execution_count": 176,
     "metadata": {},
     "output_type": "execute_result"
    }
   ],
   "source": [
    "search_g= driver.find_element(By.XPATH,\"//input[@type='text']\")\n",
    "search_g"
   ]
  },
  {
   "cell_type": "code",
   "execution_count": 177,
   "id": "5469ffc2",
   "metadata": {},
   "outputs": [],
   "source": [
    "search_g.send_keys('sneakers')"
   ]
  },
  {
   "cell_type": "code",
   "execution_count": 178,
   "id": "e81944dd",
   "metadata": {},
   "outputs": [
    {
     "data": {
      "text/plain": [
       "<selenium.webdriver.remote.webelement.WebElement (session=\"0d77821a0a69d223f5ab2c0f9eb01e39\", element=\"2b362b4f-3d05-485f-9bcc-f7b05ab9472c\")>"
      ]
     },
     "execution_count": 178,
     "metadata": {},
     "output_type": "execute_result"
    }
   ],
   "source": [
    "search_btn=driver.find_element(By.XPATH,\"//button[@class='L0Z3Pu']\")\n",
    "search_btn"
   ]
  },
  {
   "cell_type": "code",
   "execution_count": 179,
   "id": "371544a1",
   "metadata": {},
   "outputs": [],
   "source": [
    "search_btn=driver.find_element(By.XPATH,\"//button[@class='L0Z3Pu']\")\n",
    "search_btn.click()"
   ]
  },
  {
   "cell_type": "code",
   "execution_count": 180,
   "id": "5e9b4cb6",
   "metadata": {},
   "outputs": [],
   "source": [
    "B_name=[]\n",
    "Price=[]\n",
    "P_desc=[]\n",
    "Discount=[]"
   ]
  },
  {
   "cell_type": "code",
   "execution_count": 181,
   "id": "8a4930b5",
   "metadata": {},
   "outputs": [],
   "source": [
    "for i in range(3):\n",
    "    b_name=driver.find_elements(By.XPATH,\"//div[@class='_2WkVRV']\")\n",
    "    p_desc=driver.find_elements(By.XPATH,\"//a[@class='IRpwTa']\")\n",
    "    price =driver.find_elements(By.XPATH,\"//div[@class='_25b18c']\")\n",
    "    discount=driver.find_elements(By.XPATH,\"//div[@class='_3Ay6Sb']\")\n",
    "    \n",
    "    for j  in b_name:\n",
    "        B_name.append(j.text)\n",
    "    B_name[:100]    \n",
    "    \n",
    "    \n",
    "    for k in p_desc:\n",
    "        P_desc.append(k.text)\n",
    "    P_desc[:100] \n",
    "    \n",
    "    \n",
    "    for l in price:\n",
    "        Price.append(l.text)\n",
    "    Price[:100] \n",
    "    \n",
    "    \n",
    "    for t in discount:\n",
    "        Discount.append(t.text)\n",
    "    Discount[:100]"
   ]
  },
  {
   "cell_type": "code",
   "execution_count": 182,
   "id": "a32303d7",
   "metadata": {},
   "outputs": [
    {
     "name": "stdout",
     "output_type": "stream",
     "text": [
      "100\n",
      "100\n",
      "100\n",
      "100\n"
     ]
    }
   ],
   "source": [
    "print(len(B_name[:100])),\n",
    "print(len(Price[:100])),\n",
    "print(len(P_desc[:100])),\n",
    "print(len(Discount[:100]))"
   ]
  },
  {
   "cell_type": "code",
   "execution_count": 183,
   "id": "14c2436a",
   "metadata": {},
   "outputs": [],
   "source": [
    "sun_gl=pd.DataFrame({})\n",
    "\n",
    "sun_gl['Brand_name']=B_name[:100]\n",
    "sun_gl['P_price']=Price[:100]\n",
    "sun_gl['Pr_desc']=P_desc[:100]\n",
    "sun_gl['P_discount']=Discount[:100]\n"
   ]
  },
  {
   "cell_type": "code",
   "execution_count": 184,
   "id": "eb4cd50d",
   "metadata": {},
   "outputs": [
    {
     "data": {
      "text/html": [
       "<div>\n",
       "<style scoped>\n",
       "    .dataframe tbody tr th:only-of-type {\n",
       "        vertical-align: middle;\n",
       "    }\n",
       "\n",
       "    .dataframe tbody tr th {\n",
       "        vertical-align: top;\n",
       "    }\n",
       "\n",
       "    .dataframe thead th {\n",
       "        text-align: right;\n",
       "    }\n",
       "</style>\n",
       "<table border=\"1\" class=\"dataframe\">\n",
       "  <thead>\n",
       "    <tr style=\"text-align: right;\">\n",
       "      <th></th>\n",
       "      <th>Brand_name</th>\n",
       "      <th>P_price</th>\n",
       "      <th>Pr_desc</th>\n",
       "      <th>P_discount</th>\n",
       "    </tr>\n",
       "  </thead>\n",
       "  <tbody>\n",
       "    <tr>\n",
       "      <th>0</th>\n",
       "      <td>ANTA</td>\n",
       "      <td>₹4,509₹8,19945% off</td>\n",
       "      <td>A-Shock Sneakers For Men</td>\n",
       "      <td>45% off</td>\n",
       "    </tr>\n",
       "    <tr>\n",
       "      <th>1</th>\n",
       "      <td>aadi</td>\n",
       "      <td>₹399₹1,99980% off</td>\n",
       "      <td>Sneakers For Men</td>\n",
       "      <td>80% off</td>\n",
       "    </tr>\n",
       "    <tr>\n",
       "      <th>2</th>\n",
       "      <td>Labbin</td>\n",
       "      <td>₹399₹99960% off</td>\n",
       "      <td>Sneakers For Men</td>\n",
       "      <td>60% off</td>\n",
       "    </tr>\n",
       "    <tr>\n",
       "      <th>3</th>\n",
       "      <td>Shozie</td>\n",
       "      <td>₹295₹99970% off</td>\n",
       "      <td>Sneakers For Men</td>\n",
       "      <td>70% off</td>\n",
       "    </tr>\n",
       "    <tr>\n",
       "      <th>4</th>\n",
       "      <td>aadi</td>\n",
       "      <td>₹359₹1,99982% off</td>\n",
       "      <td>Mesh | Ultralightweight | Comfortable | Breath...</td>\n",
       "      <td>82% off</td>\n",
       "    </tr>\n",
       "    <tr>\n",
       "      <th>...</th>\n",
       "      <td>...</td>\n",
       "      <td>...</td>\n",
       "      <td>...</td>\n",
       "      <td>...</td>\n",
       "    </tr>\n",
       "    <tr>\n",
       "      <th>95</th>\n",
       "      <td>ANTA</td>\n",
       "      <td>₹299₹99970% off</td>\n",
       "      <td>WALKER Sneakers For Men</td>\n",
       "      <td>45% off</td>\n",
       "    </tr>\n",
       "    <tr>\n",
       "      <th>96</th>\n",
       "      <td>Labbin</td>\n",
       "      <td>₹209₹59965% off</td>\n",
       "      <td>Sneakers For Men</td>\n",
       "      <td>60% off</td>\n",
       "    </tr>\n",
       "    <tr>\n",
       "      <th>97</th>\n",
       "      <td>Deals4you</td>\n",
       "      <td>₹599₹99940% off</td>\n",
       "      <td>Sneakers For Women</td>\n",
       "      <td>70% off</td>\n",
       "    </tr>\n",
       "    <tr>\n",
       "      <th>98</th>\n",
       "      <td>SFR</td>\n",
       "      <td>₹389₹1,49974% off</td>\n",
       "      <td>PLANCK Smart Blue Lace-Ups Casuals Sneakers Sn...</td>\n",
       "      <td>65% off</td>\n",
       "    </tr>\n",
       "    <tr>\n",
       "      <th>99</th>\n",
       "      <td>ANTA</td>\n",
       "      <td>₹229₹99977% off</td>\n",
       "      <td>A-FLASHFOAM Sneakers For Men</td>\n",
       "      <td>45% off</td>\n",
       "    </tr>\n",
       "  </tbody>\n",
       "</table>\n",
       "<p>100 rows × 4 columns</p>\n",
       "</div>"
      ],
      "text/plain": [
       "   Brand_name              P_price  \\\n",
       "0        ANTA  ₹4,509₹8,19945% off   \n",
       "1        aadi    ₹399₹1,99980% off   \n",
       "2      Labbin      ₹399₹99960% off   \n",
       "3      Shozie      ₹295₹99970% off   \n",
       "4        aadi    ₹359₹1,99982% off   \n",
       "..        ...                  ...   \n",
       "95       ANTA      ₹299₹99970% off   \n",
       "96     Labbin      ₹209₹59965% off   \n",
       "97  Deals4you      ₹599₹99940% off   \n",
       "98        SFR    ₹389₹1,49974% off   \n",
       "99       ANTA      ₹229₹99977% off   \n",
       "\n",
       "                                              Pr_desc P_discount  \n",
       "0                            A-Shock Sneakers For Men    45% off  \n",
       "1                                    Sneakers For Men    80% off  \n",
       "2                                    Sneakers For Men    60% off  \n",
       "3                                    Sneakers For Men    70% off  \n",
       "4   Mesh | Ultralightweight | Comfortable | Breath...    82% off  \n",
       "..                                                ...        ...  \n",
       "95                            WALKER Sneakers For Men    45% off  \n",
       "96                                   Sneakers For Men    60% off  \n",
       "97                                 Sneakers For Women    70% off  \n",
       "98  PLANCK Smart Blue Lace-Ups Casuals Sneakers Sn...    65% off  \n",
       "99                       A-FLASHFOAM Sneakers For Men    45% off  \n",
       "\n",
       "[100 rows x 4 columns]"
      ]
     },
     "execution_count": 184,
     "metadata": {},
     "output_type": "execute_result"
    }
   ],
   "source": [
    "sun_gl"
   ]
  },
  {
   "cell_type": "markdown",
   "id": "0b7d3ff4",
   "metadata": {},
   "source": [
    "Q7.Go to webpage https://www.amazon.in/\n",
    "Title\n",
    "Ratings\n",
    "Price"
   ]
  },
  {
   "cell_type": "code",
   "execution_count": 185,
   "id": "1ddc1849",
   "metadata": {},
   "outputs": [],
   "source": [
    "url='https://www.amazon.in/'\n",
    "driver.get(url)"
   ]
  },
  {
   "cell_type": "code",
   "execution_count": 207,
   "id": "01d79acc",
   "metadata": {},
   "outputs": [
    {
     "data": {
      "text/plain": [
       "<selenium.webdriver.remote.webelement.WebElement (session=\"0d77821a0a69d223f5ab2c0f9eb01e39\", element=\"b339b051-7464-4393-85e3-a41117f1641c\")>"
      ]
     },
     "execution_count": 207,
     "metadata": {},
     "output_type": "execute_result"
    }
   ],
   "source": [
    "Search=driver.find_element(By.XPATH,'/html/body/div[1]/header/div/div[1]/div[2]/div/form/div[2]/div[1]/input')\n",
    "Search\n"
   ]
  },
  {
   "cell_type": "code",
   "execution_count": 208,
   "id": "de896de8",
   "metadata": {},
   "outputs": [],
   "source": [
    "Search.send_keys('Laptop')"
   ]
  },
  {
   "cell_type": "code",
   "execution_count": 209,
   "id": "12564f18",
   "metadata": {},
   "outputs": [
    {
     "data": {
      "text/plain": [
       "<selenium.webdriver.remote.webelement.WebElement (session=\"0d77821a0a69d223f5ab2c0f9eb01e39\", element=\"cf9ed2e4-62d8-447d-81ae-066984b5fb77\")>"
      ]
     },
     "execution_count": 209,
     "metadata": {},
     "output_type": "execute_result"
    }
   ],
   "source": [
    "search_btn=driver.find_element(By.XPATH,'/html/body/div[1]/header/div/div[1]/div[2]/div/form/div[3]/div/span/input')\n",
    "search_btn"
   ]
  },
  {
   "cell_type": "code",
   "execution_count": 210,
   "id": "34e02a7c",
   "metadata": {},
   "outputs": [],
   "source": [
    "search_btn.click()"
   ]
  },
  {
   "cell_type": "code",
   "execution_count": 211,
   "id": "6acf0e4a",
   "metadata": {},
   "outputs": [],
   "source": [
    "see_more=driver.find_element(By.XPATH,'/html/body/div[1]/div[2]/div[1]/div[2]/div/div[3]/span/div[1]/div/div/div[5]/div[6]/span')\n",
    "\n"
   ]
  },
  {
   "cell_type": "code",
   "execution_count": 212,
   "id": "7c3a9159",
   "metadata": {},
   "outputs": [],
   "source": [
    "see_more.click()"
   ]
  },
  {
   "cell_type": "code",
   "execution_count": 213,
   "id": "5c868613",
   "metadata": {},
   "outputs": [],
   "source": [
    "cpu_type=driver.find_element(By.XPATH,'/html/body/div[1]/div[2]/div[1]/div[2]/div/div[3]/span/div[1]/div/div/div[5]/ul[6]/li[12]/span/a')"
   ]
  },
  {
   "cell_type": "code",
   "execution_count": 214,
   "id": "0f269ab7",
   "metadata": {},
   "outputs": [],
   "source": [
    "cpu_type.click()"
   ]
  },
  {
   "cell_type": "code",
   "execution_count": 236,
   "id": "9642f20b",
   "metadata": {},
   "outputs": [
    {
     "data": {
      "text/plain": [
       "30"
      ]
     },
     "execution_count": 236,
     "metadata": {},
     "output_type": "execute_result"
    }
   ],
   "source": [
    "titles_tags=driver.find_elements(By.XPATH,'//span[@class=\"a-size-medium a-color-base a-text-normal\"]')\n",
    "len(titles_tags)\n"
   ]
  },
  {
   "cell_type": "code",
   "execution_count": 239,
   "id": "c9701f07",
   "metadata": {},
   "outputs": [
    {
     "data": {
      "text/plain": [
       "['HP Pavilion x360 11th Gen Intel Core i7 14 inch(35.6 cm) FHD,IPS, Multitouch 2-in-1 Laptop(16GB RAM/512GB SSD/Backlit KB/Intel Iris Xe Graphics/Pen/Alexa Built-in/MSO/1.52Kg) 14-dy1050TU, Spruce Blue',\n",
       " 'Acer Swift 5 Intel Evo Premium 14 Inches Full Hd Ips Touch Display 11Th Gen Intel Core I7-1165G7 Processor Thin And Light Laptop 16Gb Lpddr4X 1Tb Ssd Backlit Keyboard Windows 11 Mso 2021, Green, Large',\n",
       " 'HP Pavilion Plus, 12th Gen Intel Core i7 16GB RAM/1TB SSD 14 inch(35.6 cm),OLED,400 nits,UWVA, Eye Safe Laptop/Intel Iris Xe Graphics/Backlit KB/B&O/FPR/Win 11/Alexa Built-in/MSO 2021, 14-eh0024TU',\n",
       " '(Renewed) HP ProBook 430 G3 6th Gen Intel Core i7 Thin & Light HD Laptop (8 GB DDR4 RAM/256 GB SSD/13.3\" (33.8 cm)/Windows 11/MS Office/Wifi/Bluetooth 4.0/Webcam/Integrated Graphics)',\n",
       " 'Acer Nitro 5 Gaming Laptop Intel core i7 11th Gen (16 GB/ 512 GB SSD/ NVIDIA® GeForce RTX 3050 Ti/ Windows 11 Home/144hz) AN515-57 with 39.6 cm (15.6 inches) IPS Display / 2.2 Kgs',\n",
       " '(Renewed) HP ProBook 430 G3 6th Gen Intel Core i7 Thin & Light HD Laptop (8 GB DDR4 RAM/500 GB HDD/13.3\" (33.8 cm)/Windows 11/MS Office/Wifi/Bluetooth 4.0/Webcam/Integrated Graphics)',\n",
       " 'ASUS Vivobook 15, 15.6-inch (39.62 cms) FHD, Intel Core i7-1065G7 10th Gen, Thin and Light Laptop (16GB/512GB SSD/Iris Plus Graphics/Windows 11/Office 2021/Silver/1.8 kg), X515JA-EJ701WS',\n",
       " 'HP Pavilion 14 12th Gen Intel Core i7 16GB SDRAM/1TB SSD 14 inch(35.6cm) FHD,IPS,Micro-Edge Display/Intel UHD Graphics/B&O/Win 11/Alexa Built-in/Backlit KB/FPR/MSO 2021/Natural Silver, 14-dv2015TU',\n",
       " 'Lenovo IdeaPad Slim 5 12th Gen Intel Core i7 15.6\"(39.62cm) FHD IPS Laptop (16GB/512GB SSD/Win 11/Office 2021/Backlit KB/Fingerprint/FHD Camera/Alexa/3 Month Game Pass/Storm Grey/1.85Kg), 82SF004XIN',\n",
       " 'Mi Notebook Horizon Edition 14 Intel Core i7-10510U 10th Gen Thin and Light Laptop(8GB/512GB SSD/Windows 10/Nvidia MX350 2GB Graphics/Grey/1.35Kg)(Without Webcam) XMA1904-AF']"
      ]
     },
     "execution_count": 239,
     "metadata": {},
     "output_type": "execute_result"
    }
   ],
   "source": [
    "brand_titles=[]\n",
    "for i in titles_tags:\n",
    "    brand_titles.append(i.text)\n",
    "brand_titles[0:10]\n"
   ]
  },
  {
   "cell_type": "code",
   "execution_count": 242,
   "id": "d6a2bebc",
   "metadata": {},
   "outputs": [
    {
     "data": {
      "text/plain": [
       "35"
      ]
     },
     "execution_count": 242,
     "metadata": {},
     "output_type": "execute_result"
    }
   ],
   "source": [
    "rating_tags=driver.find_elements(By.XPATH,'//div[@class=\"a-row a-size-small\"]/span[2]')\n",
    "len(rating_tags)"
   ]
  },
  {
   "cell_type": "code",
   "execution_count": 243,
   "id": "9768d3b6",
   "metadata": {},
   "outputs": [
    {
     "data": {
      "text/plain": [
       "['19',\n",
       " '4',\n",
       " '88',\n",
       " '41',\n",
       " '8',\n",
       " '',\n",
       " '',\n",
       " '',\n",
       " '',\n",
       " '',\n",
       " '',\n",
       " '',\n",
       " '',\n",
       " '16',\n",
       " '167',\n",
       " '42',\n",
       " '54',\n",
       " '1,174',\n",
       " '306',\n",
       " '90',\n",
       " '10',\n",
       " '664',\n",
       " '167',\n",
       " '2',\n",
       " '19',\n",
       " '24',\n",
       " '2',\n",
       " '27',\n",
       " '1',\n",
       " '18',\n",
       " '3',\n",
       " '42',\n",
       " '42',\n",
       " '32',\n",
       " '1']"
      ]
     },
     "execution_count": 243,
     "metadata": {},
     "output_type": "execute_result"
    }
   ],
   "source": [
    "ratings=[]\n",
    "for j in rating_tags:\n",
    "    ratings.append(j.text)\n",
    "ratings"
   ]
  },
  {
   "cell_type": "code",
   "execution_count": 244,
   "id": "dc5a3ef1",
   "metadata": {},
   "outputs": [
    {
     "data": {
      "text/plain": [
       "38"
      ]
     },
     "execution_count": 244,
     "metadata": {},
     "output_type": "execute_result"
    }
   ],
   "source": [
    "price_tags=driver.find_elements(By.XPATH,'//span[@class=\"a-price-whole\"]')\n",
    "len(price_tags)"
   ]
  },
  {
   "cell_type": "code",
   "execution_count": 245,
   "id": "8dcfd228",
   "metadata": {},
   "outputs": [
    {
     "data": {
      "text/plain": [
       "['82,490',\n",
       " '1,05,385',\n",
       " '95,546',\n",
       " '24,939',\n",
       " '79,990',\n",
       " '',\n",
       " '',\n",
       " '',\n",
       " '',\n",
       " '',\n",
       " '',\n",
       " '',\n",
       " '',\n",
       " '22,999',\n",
       " '57,990',\n",
       " '89,000',\n",
       " '82,990',\n",
       " '53,500',\n",
       " '65,990',\n",
       " '82,490',\n",
       " '1,49,900',\n",
       " '91,200',\n",
       " '57,990',\n",
       " '21,990',\n",
       " '87,860',\n",
       " '82,490',\n",
       " '41,499',\n",
       " '4,82,990',\n",
       " '1,06,874',\n",
       " '1,37,000',\n",
       " '1,03,490',\n",
       " '99,990',\n",
       " '1,09,990',\n",
       " '94,391',\n",
       " '84,900',\n",
       " '1,18,190',\n",
       " '1,49,990',\n",
       " '2,10,490']"
      ]
     },
     "execution_count": 245,
     "metadata": {},
     "output_type": "execute_result"
    }
   ],
   "source": [
    "price=[]\n",
    "for j in price_tags:\n",
    "    price.append(j.text)\n",
    "price\n"
   ]
  },
  {
   "cell_type": "markdown",
   "id": "e09d1a6f",
   "metadata": {},
   "source": [
    "Q8.Write a python program to scrape data for Top 1000 Quotes of All Time\n",
    "1. First get the webpage https://www.azquotes.com/\n",
    "2. Click on Top Quotes\n"
   ]
  },
  {
   "cell_type": "code",
   "execution_count": 250,
   "id": "86689d9b",
   "metadata": {},
   "outputs": [],
   "source": [
    "url=\"https://www.azquotes.com/\"\n",
    "driver.get(url)"
   ]
  },
  {
   "cell_type": "code",
   "execution_count": 251,
   "id": "dcd39d21",
   "metadata": {},
   "outputs": [
    {
     "data": {
      "text/plain": [
       "<selenium.webdriver.remote.webelement.WebElement (session=\"0d77821a0a69d223f5ab2c0f9eb01e39\", element=\"29096853-551e-4a17-aa12-2a29f86404c8\")>"
      ]
     },
     "execution_count": 251,
     "metadata": {},
     "output_type": "execute_result"
    }
   ],
   "source": [
    "search_field=driver.find_element(By.XPATH,'/html/body/div[1]/div[1]/div[1]/div/div[3]/ul/li[5]/a')\n",
    "search_field"
   ]
  },
  {
   "cell_type": "code",
   "execution_count": 252,
   "id": "0d6f2e89",
   "metadata": {},
   "outputs": [],
   "source": [
    "search_field.send_keys('top quotes')"
   ]
  },
  {
   "cell_type": "code",
   "execution_count": 253,
   "id": "e70758e8",
   "metadata": {},
   "outputs": [
    {
     "data": {
      "text/plain": [
       "<selenium.webdriver.remote.webelement.WebElement (session=\"0d77821a0a69d223f5ab2c0f9eb01e39\", element=\"29096853-551e-4a17-aa12-2a29f86404c8\")>"
      ]
     },
     "execution_count": 253,
     "metadata": {},
     "output_type": "execute_result"
    }
   ],
   "source": [
    "search_btn=driver.find_element(By.XPATH,'/html/body/div[1]/div[1]/div[1]/div/div[3]/ul/li[5]/a')\n",
    "search_btn"
   ]
  },
  {
   "cell_type": "code",
   "execution_count": 254,
   "id": "b7e52612",
   "metadata": {},
   "outputs": [],
   "source": [
    "search_btn.click()"
   ]
  },
  {
   "cell_type": "code",
   "execution_count": 255,
   "id": "08563c31",
   "metadata": {},
   "outputs": [
    {
     "data": {
      "text/plain": [
       "100"
      ]
     },
     "execution_count": 255,
     "metadata": {},
     "output_type": "execute_result"
    }
   ],
   "source": [
    "quotes_tags=driver.find_elements(By.XPATH,'//a[@class=\"title\"]')\n",
    "len(quotes_tags)\n"
   ]
  },
  {
   "cell_type": "code",
   "execution_count": 256,
   "id": "b7582276",
   "metadata": {},
   "outputs": [
    {
     "data": {
      "text/plain": [
       "['The essence of strategy is choosing what not to do.',\n",
       " 'One cannot and must not try to erase the past merely because it does not fit the present.',\n",
       " 'Patriotism means to stand by the country. It does not mean to stand by the president.',\n",
       " 'Death is something inevitable. When a man has done what he considers to be his duty to his people and his country, he can rest in peace. I believe I have made that effort and that is, therefore, why I will sleep for the eternity.',\n",
       " 'You have to love a nation that celebrates its independence every July 4, not with a parade of guns, tanks, and soldiers who file by the White House in a show of strength and muscle, but with family picnics where kids throw Frisbees, the potato salad gets iffy, and the flies die from happiness. You may think you have overeaten, but it is patriotism.',\n",
       " 'Be more concerned with your character than your reputation, because your character is what you really are, while your reputation is merely what others think you are.',\n",
       " 'Weak people revenge. Strong people forgive. Intelligent People Ignore.',\n",
       " \"A mind is like a parachute. It doesn't work if it is not open.\",\n",
       " 'Never be afraid to raise your voice for honesty and truth and compassion against injustice and lying and greed. If people all over the world...would do this, it would change the earth.',\n",
       " 'There are three kinds of men. The one that learns by reading. The few who learn by observation. The rest of them have to pee on the electric fence for themselves.',\n",
       " \"A strong nation, like a strong person, can afford to be gentle, firm, thoughtful, and restrained. It can afford to extend a helping hand to others. It's a weak nation, like a weak person, that must behave with bluster and boasting and rashness and other signs of insecurity.\",\n",
       " 'The difference between stupidity and genius is that genius has its limits.',\n",
       " 'We the people are the rightful masters of both Congress and the courts, not to overthrow the Constitution but to overthrow the men who pervert the Constitution.',\n",
       " 'With or without religion, you would have good people doing good things and evil people doing evil things. But for good people to do evil things, that takes religion.',\n",
       " 'Human kindness has never weakened the stamina or softened the fiber of a free people. A nation does not have to be cruel to be tough.',\n",
       " 'A person who never made a mistake never tried anything new.',\n",
       " 'My mission in life is not merely to survive, but to thrive; and to do so with some passion, some compassion, some humor, and some style',\n",
       " 'Life is short, Break the Rules. Forgive quickly, Kiss slowly. Love truly. Laugh uncontrollably And never regret ANYTHING That makes you smile.',\n",
       " 'This country will not be a good place for any of us to live in unless we make it a good place for all of us to live in.',\n",
       " 'In a world filled with hate, we must still dare to hope. In a world filled with anger, we must still dare to comfort. In a world filled with despair, we must still dare to dream. And in a world filled with distrust, we must still dare to believe.',\n",
       " 'Darkness cannot drive out darkness; only light can do that. Hate cannot drive out hate; only love can do that.',\n",
       " 'To be a Christian means to forgive the inexcusable because God has forgiven the inexcusable in you.',\n",
       " 'A man who is good enough to shed his blood for the country is good enough to be given a square deal afterwards.',\n",
       " 'Kindness is the language which the deaf can hear and the blind can see.',\n",
       " 'Most folks are as happy as they make up their minds to be.',\n",
       " 'A happy marriage is the union of two good forgivers.',\n",
       " 'I believe in Christianity as I believe that the sun has risen: not only because I see it, but because by it I see everything else.',\n",
       " 'Politics is the art of looking for trouble, finding it everywhere, diagnosing it incorrectly and applying the wrong remedies.',\n",
       " \"I believe in everything until it's disproved. So I believe in fairies, the myths, dragons. It all exists, even if it's in your mind. Who's to say that dreams and nightmares aren't as real as the here and now?\",\n",
       " 'At the end of your life, you will never regret not having passed one more test, not winning one more verdict or not closing one more deal. You will regret time not spent with a husband, a friend, a child, or a parent.',\n",
       " 'I never think of the future - it comes soon enough.',\n",
       " \"Our greatest fear should not be of failure but of succeeding at things in life that don't really matter.\",\n",
       " 'Failure is simply the opportunity to begin again, this time more intelligently.',\n",
       " 'Music expresses that which cannot be put into words.',\n",
       " 'Good actions are a guard against the blows of adversity.',\n",
       " 'Positive thinking will let you do everything better than negative thinking will.',\n",
       " \"You have enemies? Good. That means you've stood up for something, sometime in your life.\",\n",
       " \"You don't have to be great to start, but you have to start to be great\",\n",
       " 'Let every nation know, whether it wishes us well or ill, that we shall pay any price, bear any burden, meet any hardship, support any friend, oppose any foe to assure the survival and the success of liberty.',\n",
       " \"If you want total security, go to prison. There you're fed, clothed, given medical care and so on. The only thing lacking... is freedom.\"]"
      ]
     },
     "execution_count": 256,
     "metadata": {},
     "output_type": "execute_result"
    }
   ],
   "source": [
    "quote_titles=[]\n",
    "for i in quotes_tags:\n",
    "    quote_titles.append(i.text)\n",
    "quote_titles[0:40]"
   ]
  },
  {
   "cell_type": "code",
   "execution_count": 257,
   "id": "050b242b",
   "metadata": {},
   "outputs": [
    {
     "data": {
      "text/plain": [
       "100"
      ]
     },
     "execution_count": 257,
     "metadata": {},
     "output_type": "execute_result"
    }
   ],
   "source": [
    "authors_tags=driver.find_elements(By.XPATH,'//div[@class=\"author\"]')\n",
    "len(authors_tags)"
   ]
  },
  {
   "cell_type": "code",
   "execution_count": 258,
   "id": "eae98fe5",
   "metadata": {},
   "outputs": [
    {
     "data": {
      "text/plain": [
       "['Michael Porter',\n",
       " 'Golda Meir',\n",
       " 'Theodore Roosevelt',\n",
       " 'Nelson Mandela',\n",
       " 'Erma Bombeck',\n",
       " 'John Wooden',\n",
       " 'Albert Einstein',\n",
       " 'Frank Zappa',\n",
       " 'William Faulkner',\n",
       " 'Will Rogers',\n",
       " 'Jimmy Carter',\n",
       " 'Albert Einstein',\n",
       " 'Abraham Lincoln',\n",
       " 'Steven Weinberg',\n",
       " 'Franklin D. Roosevelt',\n",
       " 'Albert Einstein',\n",
       " 'Maya Angelou',\n",
       " 'Mark Twain',\n",
       " 'Theodore Roosevelt',\n",
       " 'Michael Jackson',\n",
       " 'Martin Luther King, Jr.',\n",
       " 'C. S. Lewis',\n",
       " 'Theodore Roosevelt',\n",
       " 'Mark Twain',\n",
       " 'Abraham Lincoln',\n",
       " 'Ruth Graham',\n",
       " 'C. S. Lewis',\n",
       " 'Groucho Marx',\n",
       " 'John Lennon',\n",
       " 'Barbara Bush',\n",
       " 'Albert Einstein',\n",
       " 'Francis Chan',\n",
       " 'Henry Ford',\n",
       " 'Victor Hugo',\n",
       " 'Abu Bakr',\n",
       " 'Zig Ziglar',\n",
       " 'Winston Churchill',\n",
       " 'Zig Ziglar',\n",
       " 'John F. Kennedy',\n",
       " 'Dwight D. Eisenhower',\n",
       " 'Winston Churchill',\n",
       " 'Albert Einstein',\n",
       " 'Willie Nelson',\n",
       " 'Johnny Cash',\n",
       " 'Marie Curie',\n",
       " 'Maya Angelou',\n",
       " 'Amy Bloom',\n",
       " 'Zig Ziglar',\n",
       " 'John Lennon',\n",
       " 'Thomas Sowell',\n",
       " 'Max Lucado',\n",
       " 'Martin Luther King, Jr.',\n",
       " 'Salma Hayek',\n",
       " 'Thomas Sowell',\n",
       " 'Martin Luther King, Jr.',\n",
       " 'Douglas MacArthur',\n",
       " 'Douglas MacArthur',\n",
       " 'George S. Patton',\n",
       " 'Corrie Ten Boom',\n",
       " 'Jim Courier',\n",
       " 'Zig Ziglar',\n",
       " 'Edgar Allan Poe',\n",
       " 'Zig Ziglar',\n",
       " 'Stephen Covey',\n",
       " 'Pablo Neruda',\n",
       " 'Joe Frazier',\n",
       " 'Bill Cosby',\n",
       " 'Lewis Grizzard',\n",
       " 'Les Brown',\n",
       " 'Meister Eckhart',\n",
       " 'Muhammad Ali',\n",
       " 'John C. Maxwell',\n",
       " 'Thomas A. Edison',\n",
       " 'Neil Armstrong',\n",
       " 'Rose Kennedy',\n",
       " 'Martin Luther',\n",
       " 'Ronald Reagan',\n",
       " 'Andrew Murray',\n",
       " 'Arianna Huffington',\n",
       " 'Anne Frank',\n",
       " 'Corrie Ten Boom',\n",
       " 'Robin Williams',\n",
       " 'Nelson Mandela',\n",
       " 'Walt Disney',\n",
       " 'John F. Kennedy',\n",
       " 'Mark Twain',\n",
       " 'John Stott',\n",
       " 'Wayne Dyer',\n",
       " 'Steve Jobs',\n",
       " 'Maya Angelou',\n",
       " 'Satchel Paige',\n",
       " 'Mwai Kibaki',\n",
       " 'Roald Dahl',\n",
       " 'Robert H. Schuller',\n",
       " 'Bill Vaughan',\n",
       " 'Hunter S. Thompson',\n",
       " 'Corrie Ten Boom',\n",
       " 'Dalai Lama',\n",
       " 'Mother Teresa',\n",
       " 'Norman Vincent Peale']"
      ]
     },
     "execution_count": 258,
     "metadata": {},
     "output_type": "execute_result"
    }
   ],
   "source": [
    "author_names=[]\n",
    "for j in authors_tags:\n",
    "    author_names.append(j.text)\n",
    "author_names"
   ]
  },
  {
   "cell_type": "code",
   "execution_count": 259,
   "id": "0a9c444b",
   "metadata": {},
   "outputs": [
    {
     "data": {
      "text/plain": [
       "100"
      ]
     },
     "execution_count": 259,
     "metadata": {},
     "output_type": "execute_result"
    }
   ],
   "source": [
    "type_qutoes_tags=driver.find_elements(By.XPATH,'//div[@class=\"tags\"]')\n",
    "len(type_qutoes_tags)"
   ]
  },
  {
   "cell_type": "code",
   "execution_count": 260,
   "id": "6c30ac9a",
   "metadata": {},
   "outputs": [
    {
     "data": {
      "text/plain": [
       "['Essence, Deep Thought, Transcendentalism',\n",
       " 'Inspiration, Past, Trying',\n",
       " 'Country, Peace, War',\n",
       " 'Inspirational, Motivational, Death',\n",
       " '4th Of July, Food, Patriotic',\n",
       " 'Inspirational, Success, Basketball',\n",
       " 'Strong, Revenge, Intelligent',\n",
       " 'Inspirational, Teacher, Religious',\n",
       " 'Truth, Honesty, Lying',\n",
       " 'Funny, Reading, Learning',\n",
       " 'Strong, Thoughtful, Compassion',\n",
       " 'Love, Funny, Life',\n",
       " 'Freedom, Men, Democracies Have',\n",
       " 'God, Religious, Atheist',\n",
       " 'Respect, Kindness, Character',\n",
       " 'Inspirational, Motivational, Change',\n",
       " 'Inspirational, Life, Inspiring',\n",
       " 'Love, Inspirational, Life',\n",
       " 'Inspiring, Country, 4th Of July',\n",
       " 'Inspirational, Dream, Hate',\n",
       " 'Love, Inspirational, Life',\n",
       " 'Forgiveness, God, Christian',\n",
       " 'Country, Men, Squares',\n",
       " 'Inspirational, Relationship, Positive',\n",
       " 'Inspirational, Motivational, Positive',\n",
       " 'Love, Friendship, Relationship',\n",
       " 'Faith, God, Christian',\n",
       " 'Art, Freedom, Political Will',\n",
       " 'Inspirational, Life, Faith',\n",
       " 'Inspirational, Life, Meaningful',\n",
       " 'Happiness, Time, Clever',\n",
       " 'Inspirational, Inspiring, Success',\n",
       " 'Love, Inspirational, Life',\n",
       " 'Music, Sound And Music, Musical Life',\n",
       " 'Adversity, Blow, Action',\n",
       " 'Positive, Thinking Of You, Attitude',\n",
       " 'Inspirational, Funny, Life',\n",
       " 'Inspirational, Life, Motivational',\n",
       " 'Inspirational, Memorial Day, Freedom',\n",
       " 'Freedom, Patriotic, Vaccines',\n",
       " 'Philosophy, Ignorance, Democratic Socialism',\n",
       " 'Inspirational, Dance, Education',\n",
       " 'Life, Change, Positive',\n",
       " 'Life, Bullying, Mistake',\n",
       " 'Life, Nature, Children',\n",
       " 'Inspirational, Life, Motivational',\n",
       " 'Marriage, Love You, Long',\n",
       " 'Inspirational, Motivational, Success',\n",
       " 'Love, Inspirational, Life',\n",
       " 'Diversity, Important, Liberty',\n",
       " 'Inspirational, God, Faith',\n",
       " 'Inspirational, Motivational, Inspiring',\n",
       " 'Beauty, Love Yourself, Your Beautiful',\n",
       " 'Business, Stupid, Government',\n",
       " 'Inspirational, Life, Motivational',\n",
       " 'Peace, Military, War',\n",
       " 'Inspirational, Leadership, Confidence',\n",
       " 'Motivational, Military, War',\n",
       " 'Christian, Jesus, Confusing',\n",
       " 'Inspirational, Success, Sports',\n",
       " 'Inspirational, Motivational, Success',\n",
       " 'Inspirational, Life, Clever',\n",
       " 'Inspirational, Death, Failure',\n",
       " 'Inspirational, Life, Motivational',\n",
       " 'Inspiring, Hope, Spring',\n",
       " 'Motivational, Running, People',\n",
       " 'Inspirational, Motivational, Positive',\n",
       " 'Summer, Food, Garden',\n",
       " 'Inspirational, Life, Motivational',\n",
       " 'Inspirational, Life, Thank You',\n",
       " 'Funny, Sports, Jobs',\n",
       " 'Being Strong, Wisdom, Stay Strong',\n",
       " 'Inspirational, Motivational, Positive',\n",
       " 'Motivational, Positive, Moon',\n",
       " 'Time, Pain, Get Well',\n",
       " 'Life, God, Christian',\n",
       " 'President, Needs, Purpose',\n",
       " 'God, Faith, Christian',\n",
       " 'Women, Failure, Successful',\n",
       " 'Inspirational, Morning, Kindness',\n",
       " 'Hiding Place, Ability, Baby Boom',\n",
       " 'Inspirational, Change, Philosophy',\n",
       " 'Love, Inspirational, Life',\n",
       " 'Inspirational, Family, Inspiring',\n",
       " 'Inspirational, Success, Courage',\n",
       " 'Inspirational, Life, Motivational',\n",
       " 'Christian, Vision, Missionary',\n",
       " 'Inspirational, Positive, Regret',\n",
       " 'Love, Inspirational, Life',\n",
       " 'Inspirational, Life, Encouragement',\n",
       " 'Happy Birthday, Baseball, Fun',\n",
       " 'Leadership, Power, Opportunity',\n",
       " 'Inspirational, Life, Positive',\n",
       " 'Inspirational, Encouraging, Patience',\n",
       " 'New Year, Fun, New Beginnings',\n",
       " 'Music, Sports, Hunting',\n",
       " 'Trust, Encouraging, Uplifting',\n",
       " 'Inspirational, Funny, Change',\n",
       " 'Success, God, Mother',\n",
       " 'Inspirational, Motivational, Change']"
      ]
     },
     "execution_count": 260,
     "metadata": {},
     "output_type": "execute_result"
    }
   ],
   "source": [
    "type_quote=[]\n",
    "for k in type_qutoes_tags:\n",
    "    type_quote.append(k.text)\n",
    "type_quote"
   ]
  },
  {
   "cell_type": "code",
   "execution_count": 261,
   "id": "b0db478b",
   "metadata": {},
   "outputs": [
    {
     "data": {
      "text/html": [
       "<div>\n",
       "<style scoped>\n",
       "    .dataframe tbody tr th:only-of-type {\n",
       "        vertical-align: middle;\n",
       "    }\n",
       "\n",
       "    .dataframe tbody tr th {\n",
       "        vertical-align: top;\n",
       "    }\n",
       "\n",
       "    .dataframe thead th {\n",
       "        text-align: right;\n",
       "    }\n",
       "</style>\n",
       "<table border=\"1\" class=\"dataframe\">\n",
       "  <thead>\n",
       "    <tr style=\"text-align: right;\">\n",
       "      <th></th>\n",
       "      <th>quote_titles</th>\n",
       "      <th>author_names</th>\n",
       "      <th>type_quote</th>\n",
       "    </tr>\n",
       "  </thead>\n",
       "  <tbody>\n",
       "    <tr>\n",
       "      <th>0</th>\n",
       "      <td>The essence of strategy is choosing what not t...</td>\n",
       "      <td>Michael Porter</td>\n",
       "      <td>Essence, Deep Thought, Transcendentalism</td>\n",
       "    </tr>\n",
       "    <tr>\n",
       "      <th>1</th>\n",
       "      <td>One cannot and must not try to erase the past ...</td>\n",
       "      <td>Golda Meir</td>\n",
       "      <td>Inspiration, Past, Trying</td>\n",
       "    </tr>\n",
       "    <tr>\n",
       "      <th>2</th>\n",
       "      <td>Patriotism means to stand by the country. It d...</td>\n",
       "      <td>Theodore Roosevelt</td>\n",
       "      <td>Country, Peace, War</td>\n",
       "    </tr>\n",
       "    <tr>\n",
       "      <th>3</th>\n",
       "      <td>Death is something inevitable. When a man has ...</td>\n",
       "      <td>Nelson Mandela</td>\n",
       "      <td>Inspirational, Motivational, Death</td>\n",
       "    </tr>\n",
       "    <tr>\n",
       "      <th>4</th>\n",
       "      <td>You have to love a nation that celebrates its ...</td>\n",
       "      <td>Erma Bombeck</td>\n",
       "      <td>4th Of July, Food, Patriotic</td>\n",
       "    </tr>\n",
       "    <tr>\n",
       "      <th>...</th>\n",
       "      <td>...</td>\n",
       "      <td>...</td>\n",
       "      <td>...</td>\n",
       "    </tr>\n",
       "    <tr>\n",
       "      <th>95</th>\n",
       "      <td>When the going gets weird, the weird turn pro.</td>\n",
       "      <td>Hunter S. Thompson</td>\n",
       "      <td>Music, Sports, Hunting</td>\n",
       "    </tr>\n",
       "    <tr>\n",
       "      <th>96</th>\n",
       "      <td>When a train goes through a tunnel and it gets...</td>\n",
       "      <td>Corrie Ten Boom</td>\n",
       "      <td>Trust, Encouraging, Uplifting</td>\n",
       "    </tr>\n",
       "    <tr>\n",
       "      <th>97</th>\n",
       "      <td>If you think you are too small to make a diffe...</td>\n",
       "      <td>Dalai Lama</td>\n",
       "      <td>Inspirational, Funny, Change</td>\n",
       "    </tr>\n",
       "    <tr>\n",
       "      <th>98</th>\n",
       "      <td>God doesn't require us to succeed, he only req...</td>\n",
       "      <td>Mother Teresa</td>\n",
       "      <td>Success, God, Mother</td>\n",
       "    </tr>\n",
       "    <tr>\n",
       "      <th>99</th>\n",
       "      <td>Change your thoughts and you change your world.</td>\n",
       "      <td>Norman Vincent Peale</td>\n",
       "      <td>Inspirational, Motivational, Change</td>\n",
       "    </tr>\n",
       "  </tbody>\n",
       "</table>\n",
       "<p>100 rows × 3 columns</p>\n",
       "</div>"
      ],
      "text/plain": [
       "                                         quote_titles          author_names  \\\n",
       "0   The essence of strategy is choosing what not t...        Michael Porter   \n",
       "1   One cannot and must not try to erase the past ...            Golda Meir   \n",
       "2   Patriotism means to stand by the country. It d...    Theodore Roosevelt   \n",
       "3   Death is something inevitable. When a man has ...        Nelson Mandela   \n",
       "4   You have to love a nation that celebrates its ...          Erma Bombeck   \n",
       "..                                                ...                   ...   \n",
       "95     When the going gets weird, the weird turn pro.    Hunter S. Thompson   \n",
       "96  When a train goes through a tunnel and it gets...       Corrie Ten Boom   \n",
       "97  If you think you are too small to make a diffe...            Dalai Lama   \n",
       "98  God doesn't require us to succeed, he only req...         Mother Teresa   \n",
       "99    Change your thoughts and you change your world.  Norman Vincent Peale   \n",
       "\n",
       "                                  type_quote  \n",
       "0   Essence, Deep Thought, Transcendentalism  \n",
       "1                  Inspiration, Past, Trying  \n",
       "2                        Country, Peace, War  \n",
       "3         Inspirational, Motivational, Death  \n",
       "4               4th Of July, Food, Patriotic  \n",
       "..                                       ...  \n",
       "95                    Music, Sports, Hunting  \n",
       "96             Trust, Encouraging, Uplifting  \n",
       "97              Inspirational, Funny, Change  \n",
       "98                      Success, God, Mother  \n",
       "99       Inspirational, Motivational, Change  \n",
       "\n",
       "[100 rows x 3 columns]"
      ]
     },
     "execution_count": 261,
     "metadata": {},
     "output_type": "execute_result"
    }
   ],
   "source": [
    "quote_titles=[]\n",
    "for i in quotes_tags:\n",
    "    quote_titles.append(i.text)\n",
    "quote_titles[0:40]\n",
    "\n",
    "author_names=[]\n",
    "for j in authors_tags:\n",
    "    author_names.append(j.text)\n",
    "author_names\n",
    "\n",
    "type_quote=[]\n",
    "for k in type_qutoes_tags:\n",
    "    type_quote.append(k.text)\n",
    "type_quote\n",
    "\n",
    "df=pd.DataFrame({'quote_titles':quote_titles,'author_names':author_names,'type_quote':type_quote})\n",
    "df\n"
   ]
  },
  {
   "cell_type": "markdown",
   "id": "01aa3a53",
   "metadata": {},
   "source": [
    "Q9.Write a python program to display list of respected former Prime Ministers of India from https://www.jagranjosh.com"
   ]
  },
  {
   "cell_type": "code",
   "execution_count": 296,
   "id": "223d30c1",
   "metadata": {},
   "outputs": [],
   "source": [
    "url=\"https://www.jagranjosh.com/\"\n",
    "driver.get(url)"
   ]
  },
  {
   "cell_type": "code",
   "execution_count": 297,
   "id": "936ca8cd",
   "metadata": {},
   "outputs": [
    {
     "data": {
      "text/plain": [
       "<selenium.webdriver.remote.webelement.WebElement (session=\"0ad078d5b9ec545466eee436fdc044c9\", element=\"9e6d00e0-128e-4417-88df-9837fd49e0c9\")>"
      ]
     },
     "execution_count": 297,
     "metadata": {},
     "output_type": "execute_result"
    }
   ],
   "source": [
    "search_btn=driver.find_element(By.XPATH,'/html/body/div/div[1]/div/div[1]/div/div[6]/div/div[1]/header/div[3]/ul/li[9]/a')\n",
    "search_btn"
   ]
  },
  {
   "cell_type": "code",
   "execution_count": 298,
   "id": "21684e92",
   "metadata": {},
   "outputs": [],
   "source": [
    "search_btn.click()"
   ]
  },
  {
   "cell_type": "code",
   "execution_count": 299,
   "id": "3c69d5a0",
   "metadata": {},
   "outputs": [
    {
     "data": {
      "text/plain": [
       "<selenium.webdriver.remote.webelement.WebElement (session=\"0ad078d5b9ec545466eee436fdc044c9\", element=\"c5be60db-8bf5-41e9-8ab2-1b88185c1c94\")>"
      ]
     },
     "execution_count": 299,
     "metadata": {},
     "output_type": "execute_result"
    }
   ],
   "source": [
    "search_btn=driver.find_element(By.XPATH,'/html/body/div[1]/div/div/div[2]/div/div[10]/div/div/ul/li[2]/a')\n",
    "search_btn"
   ]
  },
  {
   "cell_type": "code",
   "execution_count": 300,
   "id": "df20692e",
   "metadata": {},
   "outputs": [],
   "source": [
    "search_btn.click()"
   ]
  },
  {
   "cell_type": "code",
   "execution_count": 301,
   "id": "eba6b818",
   "metadata": {},
   "outputs": [
    {
     "data": {
      "text/plain": [
       "39"
      ]
     },
     "execution_count": 301,
     "metadata": {},
     "output_type": "execute_result"
    }
   ],
   "source": [
    "name_tags=driver.find_elements(By.XPATH,'//a[@target=\"_blank\"]')\n",
    "len(name_tags)"
   ]
  },
  {
   "cell_type": "code",
   "execution_count": 302,
   "id": "0b72b729",
   "metadata": {},
   "outputs": [
    {
     "data": {
      "text/plain": [
       "['',\n",
       " '',\n",
       " '',\n",
       " 'SRM University',\n",
       " 'NEW\\nMock Test',\n",
       " '',\n",
       " '',\n",
       " '',\n",
       " 'Narendra Modi',\n",
       " 'List of Movies to Learn English: Watch These English Movies To Learn The Language Quickly!',\n",
       " 'Yogi Adityanath Cabinet 2.0: Check List of Ministers, Ministers of State (Independent Charge), and Ministers of State',\n",
       " 'Jawahar Lal Nehru',\n",
       " 'Indira Gandhi',\n",
       " 'Indira Gandhi',\n",
       " 'Rajiv Gandhi',\n",
       " 'Chandra Shekhar',\n",
       " 'Atal Bihari Vajpayee',\n",
       " 'Atal Bihari Vajpayee',\n",
       " 'Manmohan Singh',\n",
       " 'Narendra Modi',\n",
       " 'Can You Spot 5 Differences Between These Pictures Within A Minute?',\n",
       " 'What You See in First 6 Seconds Reveals If You Can Stay In Long-Distance Relationships',\n",
       " 'Prime Minister',\n",
       " 'President',\n",
       " 'List of all Presidents of India',\n",
       " 'List of Current Chief Ministers in India',\n",
       " 'List of International Awards received by Narendra Modi',\n",
       " 'List of Chief Ministers of Karnataka (1947-2021)',\n",
       " 'अभी खेलें',\n",
       " '',\n",
       " '',\n",
       " '',\n",
       " '',\n",
       " '',\n",
       " '',\n",
       " '',\n",
       " '',\n",
       " '',\n",
       " '']"
      ]
     },
     "execution_count": 302,
     "metadata": {},
     "output_type": "execute_result"
    }
   ],
   "source": [
    "name_titles=[]\n",
    "for i in name_tags:\n",
    "    name_titles.append(i.text)\n",
    "name_titles[0:40]"
   ]
  },
  {
   "cell_type": "code",
   "execution_count": 303,
   "id": "50618e3f",
   "metadata": {},
   "outputs": [
    {
     "data": {
      "text/plain": [
       "124"
      ]
     },
     "execution_count": 303,
     "metadata": {},
     "output_type": "execute_result"
    }
   ],
   "source": [
    "born_dead_tags=driver.find_elements(By.XPATH,'//p')\n",
    "len(born_dead_tags)"
   ]
  },
  {
   "cell_type": "code",
   "execution_count": 304,
   "id": "d3e1b18a",
   "metadata": {},
   "outputs": [
    {
     "data": {
      "text/plain": [
       "['List of all Prime Ministers of India: Narendra Modi is the current and 14th Prime Minister of India. He would become the fourth Indian Prime Minister to serve two consecutive terms on the post and would be the first non-Congress Prime Minister of India who would complete two consecutive terms. The Prime Minister of India is the head of the government of the Republic of India. Executive authority is vested in the Prime Minister and their chosen Council of Ministers, though the President of India is the Constitutional, nominal and ceremonial head of the State. ',\n",
       " 'In this article, we have mentioned the list of all the Prime Ministers of India along with their term starting from 1947 to 2022. ',\n",
       " 'READ |',\n",
       " 'List of Movies to Learn English: Watch These English Movies To Learn The Language Quickly!',\n",
       " 'Yogi Adityanath Cabinet 2.0: Check List of Ministers, Ministers of State (Independent Charge), and Ministers of State',\n",
       " 'List of all the Prime Ministers of India from 1947-2021',\n",
       " 'S.N.',\n",
       " 'Name',\n",
       " 'Born-Dead',\n",
       " 'Term of office',\n",
       " 'Remark',\n",
       " '1.',\n",
       " 'Jawahar Lal Nehru',\n",
       " '(1889–1964)',\n",
       " '15 August 1947 to 27 May 1964',\n",
       " '16 years, 286 days',\n",
       " 'The first prime minister of India and the longest-serving PM of India, the first to die in office.',\n",
       " '2.',\n",
       " 'Gulzarilal Nanda (Acting)',\n",
       " '(1898-1998)',\n",
       " '27 May 1964 to 9 June 1964,',\n",
       " '13 days',\n",
       " 'First acting PM of India',\n",
       " '3.',\n",
       " 'Lal Bahadur Shastri',\n",
       " '(1904–1966)',\n",
       " '9 June 1964 to 11 January 1966',\n",
       " '1 year, 216 days',\n",
       " \"He has given the slogan of 'Jai Jawan Jai Kisan' during the Indo-Pak war of 1965\",\n",
       " '4. ',\n",
       " 'Gulzari Lal Nanda  (Acting)',\n",
       " '(1898-1998)',\n",
       " '11 January 1966 to 24 January 1966',\n",
       " '13 days',\n",
       " '-',\n",
       " '5.',\n",
       " 'Indira Gandhi',\n",
       " '(1917–1984)',\n",
       " '24 January 1966 to 24 March 1977',\n",
       " '11 years, 59 days']"
      ]
     },
     "execution_count": 304,
     "metadata": {},
     "output_type": "execute_result"
    }
   ],
   "source": [
    "born_dead_titles=[]\n",
    "for i in born_dead_tags:\n",
    "    born_dead_titles.append(i.text)\n",
    "born_dead_titles[0:40]\n"
   ]
  },
  {
   "cell_type": "markdown",
   "id": "a121d0cf",
   "metadata": {},
   "source": [
    "Q10: Write a python program to display list of 50 Most expensive cars in the world https://www.motor1.com/"
   ]
  },
  {
   "cell_type": "code",
   "execution_count": 280,
   "id": "43c9e8fd",
   "metadata": {},
   "outputs": [],
   "source": [
    "url=\"https://www.motor1.com/\"\n",
    "driver.get(url)"
   ]
  },
  {
   "cell_type": "code",
   "execution_count": 281,
   "id": "65f8142a",
   "metadata": {},
   "outputs": [
    {
     "data": {
      "text/plain": [
       "<selenium.webdriver.remote.webelement.WebElement (session=\"0d77821a0a69d223f5ab2c0f9eb01e39\", element=\"62b8cc75-54c0-4054-952b-2ee1d3a9b257\")>"
      ]
     },
     "execution_count": 281,
     "metadata": {},
     "output_type": "execute_result"
    }
   ],
   "source": [
    "search_btn=driver.find_element(By.XPATH,'/html/body/div[3]/div[2]/div/div/div[1]/div')\n",
    "search_btn"
   ]
  },
  {
   "cell_type": "code",
   "execution_count": 282,
   "id": "6d44e9e9",
   "metadata": {},
   "outputs": [],
   "source": [
    "search_btn.click()"
   ]
  },
  {
   "cell_type": "code",
   "execution_count": 283,
   "id": "be77254f",
   "metadata": {},
   "outputs": [
    {
     "data": {
      "text/plain": [
       "<selenium.webdriver.remote.webelement.WebElement (session=\"0d77821a0a69d223f5ab2c0f9eb01e39\", element=\"17462a48-bfea-43e3-8033-43dc555a25e3\")>"
      ]
     },
     "execution_count": 283,
     "metadata": {},
     "output_type": "execute_result"
    }
   ],
   "source": [
    "search_btn=driver.find_element(By.XPATH,'/html/body/div[4]/div[1]/div[3]/ul/li[5]/button')\n",
    "search_btn"
   ]
  },
  {
   "cell_type": "code",
   "execution_count": 284,
   "id": "295c60c6",
   "metadata": {},
   "outputs": [],
   "source": [
    "search_btn.click()"
   ]
  },
  {
   "cell_type": "code",
   "execution_count": 285,
   "id": "2b55c5d6",
   "metadata": {},
   "outputs": [
    {
     "data": {
      "text/plain": [
       "<selenium.webdriver.remote.webelement.WebElement (session=\"0d77821a0a69d223f5ab2c0f9eb01e39\", element=\"a67e5c85-94a9-4142-878c-d24cb0288c2f\")>"
      ]
     },
     "execution_count": 285,
     "metadata": {},
     "output_type": "execute_result"
    }
   ],
   "source": [
    "search_btn=driver.find_element(By.XPATH,'/html/body/div[4]/div[1]/div[3]/ul/li[6]/ul/li[1]/a')\n",
    "search_btn"
   ]
  },
  {
   "cell_type": "code",
   "execution_count": 286,
   "id": "d7f8de26",
   "metadata": {},
   "outputs": [],
   "source": [
    "search_btn.click()"
   ]
  },
  {
   "cell_type": "code",
   "execution_count": 287,
   "id": "566f3d90",
   "metadata": {},
   "outputs": [
    {
     "data": {
      "text/plain": [
       "<selenium.webdriver.remote.webelement.WebElement (session=\"0d77821a0a69d223f5ab2c0f9eb01e39\", element=\"65d5f678-4f3d-4273-9dd1-6f1645d9f1f9\")>"
      ]
     },
     "execution_count": 287,
     "metadata": {},
     "output_type": "execute_result"
    }
   ],
   "source": [
    "search_btn=driver.find_element(By.XPATH,'/html/body/div[3]/div[9]/div[1]/div[1]/div/div/div[2]/div/div[1]/h3/a')\n",
    "search_btn"
   ]
  },
  {
   "cell_type": "code",
   "execution_count": 288,
   "id": "e2ffe21e",
   "metadata": {},
   "outputs": [],
   "source": [
    "search_btn.click()"
   ]
  },
  {
   "cell_type": "code",
   "execution_count": 289,
   "id": "77c5897f",
   "metadata": {},
   "outputs": [
    {
     "data": {
      "text/plain": [
       "52"
      ]
     },
     "execution_count": 289,
     "metadata": {},
     "output_type": "execute_result"
    }
   ],
   "source": [
    "car_name_tags=driver.find_elements(By.XPATH,'//a[@data-inline-widget=\"internal-links\"]')\n",
    "len(car_name_tags)"
   ]
  },
  {
   "cell_type": "code",
   "execution_count": 290,
   "id": "a0ee4a12",
   "metadata": {},
   "outputs": [
    {
     "data": {
      "text/plain": [
       "['Ferrari',\n",
       " 'American speed king',\n",
       " 'electric Hypercars',\n",
       " 'Rolls-Royce',\n",
       " 'Drako GTE',\n",
       " 'De Tomaso P72',\n",
       " 'Ferrari LaFerrari',\n",
       " 'Pagani Huayra',\n",
       " 'McLaren Elva',\n",
       " 'Czinger 21C',\n",
       " 'Ferrari Monza SP1',\n",
       " 'T.33',\n",
       " 'Koenigsegg Gemera',\n",
       " 'Koenigsegg',\n",
       " 'Hennessey Venom F5',\n",
       " 'F5',\n",
       " 'Bentley Bacalar',\n",
       " 'Tuatara',\n",
       " 'Emira',\n",
       " 'Eletre',\n",
       " 'Evija',\n",
       " 'Aston Martin Vulcan',\n",
       " 'Delage',\n",
       " 'McLaren Speedtail',\n",
       " 'McLaren',\n",
       " 'Rimac Nevera',\n",
       " 'Pininfarina Battista',\n",
       " 'Pininfarina Battista',\n",
       " 'T.50',\n",
       " 'Lamborghini Countach',\n",
       " 'Mercedes-AMG Project One',\n",
       " 'Mercedes',\n",
       " 'Project One',\n",
       " 'Aston Martin',\n",
       " 'Victor',\n",
       " 'Hennessey',\n",
       " 'Koenigsegg Jesko',\n",
       " 'Absolut',\n",
       " 'Aston Martin Valkyrie',\n",
       " 'Aston Martin']"
      ]
     },
     "execution_count": 290,
     "metadata": {},
     "output_type": "execute_result"
    }
   ],
   "source": [
    "car_name_titles=[]\n",
    "for i in car_name_tags:\n",
    "    car_name_titles.append(i.text)\n",
    "car_name_titles[0:40]"
   ]
  },
  {
   "cell_type": "code",
   "execution_count": 291,
   "id": "fef7b393",
   "metadata": {},
   "outputs": [
    {
     "data": {
      "text/plain": [
       "110"
      ]
     },
     "execution_count": 291,
     "metadata": {},
     "output_type": "execute_result"
    }
   ],
   "source": [
    "description_tags=driver.find_elements(By.XPATH,'//p')\n",
    "len(description_tags)"
   ]
  },
  {
   "cell_type": "code",
   "execution_count": 292,
   "id": "9c54b031",
   "metadata": {},
   "outputs": [
    {
     "data": {
      "text/plain": [
       "['When it comes to high-end hypercars and super-fast supercars, a few companies should come to mind first: Bugatti, Ferrari, Koenigsegg, Rimac, and Pagani, among others. These manufacturers have cemented themselves as the top dogs in the supercar and hypercar space, extending to their wealthiest clientele the fastest, rarest, prettiest – and in this case – most expensive cars on the planet.',\n",
       " \"But in order to find out which of these unattainable-to-most vehicles is the priciest, we've scoured the invoice sheets and uncovered 40 cars all worth $1 million or more. The group includes hybrid Ferrari convertibles, an American speed king, a few electric Hypercars, and two a one-of-a-kind Rolls-Royce cars built for royalty.\",\n",
       " 'We should note, though: The prices listed here are the price of the vehicles when new. So we’re not counting auction cars like the Ferrari 250 GTO, or overpriced secondhand sales. But don’t worry, there’s still hundreds of millions worth of cars here to whet your appetite.',\n",
       " 'Top Videos:',\n",
       " 'Price: $1.2 Million',\n",
       " 'The Drako GTE is a super sedan in every sense of the word. Packing 1,200 horsepower and a whopping 6,491 pound-feet of torque from a fully electric powertrain, the GTE can hit 60 in just about 2.0 seconds and tops out at 206 miles per hour. The cost for this family-friendly rocket is a cool $1.2 million.',\n",
       " 'Price: $1.3 Million',\n",
       " 'The De Tomaso P72 is basically the definition of beautiful. The shapely supercar debuted at the 2019 Goodwood Festival Of Speed with a supercharged Ford V8 boasting 700 horsepower. The P72 marked the return of the DeTomaso brand after nearly 30 years on hiatus, and if you want one, it will cost you at least $1.3 million.',\n",
       " 'Price: $1.4 Million',\n",
       " 'At $1.4 million new, the Ferrari LaFerrari is actually one of the most affordable supercars on this list. It’s a bargain compared to the most expensive vehicle here. Debuting in 2013 with 950 hybrid horses (708 kilowatts) and a top speed of around 220 miles per hour (354 kilometers per hour), this is still Ferrari’s fastest and most powerful production model to date. The company built just 499 examples of the coupe between 2013 and 2016.',\n",
       " 'Price: $1.4 Million',\n",
       " 'Inarguably one of the prettiest cars on this list, the Pagani Huayra cost a cool $1.4 million when new. Like the LaFerrari, Pagani built the Huayra in extremely limited numbers. The company hand-constructed just 100 units of the coupe between 2012 and 2018, with another 20 versions of the BC model (which makes our list further down) between 2017 and 2019. Powering each and every example was a Mercedes-AMG V12 capable of 720 horsepower (537 kilowatts).',\n",
       " 'Price: $1.7 Million',\n",
       " 'The McLaren Elva is one of the latest additions to the British supercar maker’s storied legacy. Even without a proper windshield (though, no option) or roof to rely on, the Elva produces 804 horsepower and 590 pound-feet of torque from its twin-turbocharged 4.0-liter V8. Originally McLaren announced just 399 units, but later the company dropped that to an even more scarce 249 examples. Either way, most of you will never get your hands on one – the Elva costs $1.7 million.',\n",
       " 'Price: $1.7 Million',\n",
       " 'You might not know the name Czinger yet, but this California-based boutique automaker is responsible for the $1.7 million 21C supercar. With 1,250 horsepower on tap thanks to a 2.9-liter twin-turbocharged V8, the 21C can rocket to 60 miles per hour in 1.9 seconds and a top speed of around 281 miles per hour.',\n",
       " 'Price: $1.7 Million',\n",
       " 'Much like the roof-less McLaren Elva, the Ferrari Monza SP1 and SP2 are all about al fresco motoring. As the name implies, the SP1 is the single-seater option while the SP2 has just enough room for you to bring along a friend. Both cars come powered by the same naturally aspirated 6.5-liter V12 engine capable of 809 horsepower and 530 pound-feet. Unfortunately for US buyers, neither of these models are street legal in the States. But f you have the funds to afford the car’s $1.75 million price tag, getting onto a track probably won’t be an issue anyway.',\n",
       " 'Price: $1.7 Million',\n",
       " \"The second and slightly more affordable supercar in the new Gordon Murray lineup is the T.33. With 607 horsepower courtesy of a naturally aspirated 3.9-liter V12, the T.33 revs to a ridiculous 10,500 RPM. With a price tag of around $1.7 million at current conversion rates, Gordon Murray automotive promises to sell this car globally, in both right- and left-hand-drive configurations. Too bad it's already sold out.\",\n",
       " 'Price: $1.7 Million',\n",
       " 'One of two Koenigsegg models on this list, the Gemera is actually the Swedish supercar maker’s first four-seater. But that doesn’t mean it’s some family car. With a twin-turbocharged 2.0-liter engine under the hood and three electric motors, the Gemera has 1,700 horsepower and will hit 60 in just 1.9 seconds. The company only plans to build 300 of them, each one costing at least $1.7 million.',\n",
       " 'Price: $1.7 Million',\n",
       " 'Hailing from Denmark, the Zenvo TSR-S debuted in 2018 at the Geneva Motor Show as the most extreme option in the supercar startup’s repertoire. Boasting a twin-charged 5.8-liter V8 engine, the TSR-S produces 1,177 horsepower and will hit 62 miles per hour in just 2.8 seconds. Expect to pay at least $1.7 million to get your hands on this powerful and limited supercar.',\n",
       " 'Price: $1.8 Million',\n",
       " 'The Hennessey Venom GT was a record-breaker, topping out at 265.7 miles per hour in a world record run. But the new F5 plans to beat its predecessor with an estimated top speed of 311 mph, and with that comes a higher price, too. The Venom F5 starts at $1.8 million, according to the company, which makes it just a bit pricier than its $1.2-million predecessor.',\n",
       " 'Price: $1.9 Million',\n",
       " 'With just 12 total units produced, the Bentley Bacalar makes some of the \"limited\" cars on this list look plentiful by comparison. Although the car’s opulent design may be the first thing to grab your attention, the Bacalar is no slouch in terms of performance either. With Bentley’s signature turbocharged 6.0-liter W12 turbocharged engine, this car delivers 650 horsepower and 664 pound-feet. If you have a spare $1.9 million lying around and are considering buying one, you’re already too late – Bentley says that every example is now in customer hands.',\n",
       " 'Price: $1.9 Million',\n",
       " \"To call the Hispano Suiza Carmen Boulogne beautiful would be... a stretch. But this interesting-looking supercar made its US debut at this year's Amelia Island Concours d'Elegance boasting a 1,114-horsepower electric powertrain and a 0-60 time of 2.6 seconds. The Boulogne version pictured here – the lighter and more powerful of the two – costs close to $1.9 million.\",\n",
       " 'Price: $2.0 Million',\n",
       " \"The electric onslaught is coming. Bentley says it will be a fully electric automaker by 2030. But before the luxury brand transitions to battery power fully, the Mulliner Batur helps send the iconic W12 engine off in style. With 710 horsepower from that twin-turbocharged engine, the Batur is the most powerful Bentley ever. And since it's limited to just 18 examples globally, the Batur costs a whopping $2.0 million.\",\n",
       " 'Price: $2.0 Million',\n",
       " 'The Deus Vayanne may not be a household name (yet), but the all-electric hypercar debuted earlier this year with 2,200 horsepower, a 0-60 time of just under 2.0 seconds, and an estimated top speed of 248 miles per hour. Deus plans to build 99 examples of the Vayanne, with the first few examples scheduled to go on sale in 2025.',\n",
       " 'Price: $2.0 Million*',\n",
       " 'Although initially cloaked in controversy, SSC did manage to hit 282.9 miles per hour with its Tuatara hypercar, breaking a world record. But not only is the Tuatara one of the fastest vehicles on the planet, it’s also one of the priciest. The cost for all that speed is estimated to be around $2.0 million for the base Tuatara, limited to just 100 units worldwide.',\n",
       " 'Price: $2.1 Million',\n",
       " 'With a new Emira sports car and an Eletre electric SUV, Lotus is on the brink of a comeback. The automaker plans to roll out a number of new products within the next few years, with part of that strategy including the range-topping Evija. This supercar comes in at a cool $2.1 million and produces nearly 2,000 horsepower via four electric motors. Lotus plans to build just 130 road-going examples of the Evija.',\n",
       " 'Price: $2.3 Million',\n",
       " 'As with a few other cars on this list, the Aston Martin Vulcan was a track-only special. The British supercar made its world debut in 2015, powered by a naturally aspirated 7.0-liter V12 that produced 820 horsepower, and limited to just 24 examples worldwide. An even more track-focused AMR Pro model followed, but even the base Vulcan was a pricey commodity, costing about $2.4-million from the factory.']"
      ]
     },
     "execution_count": 292,
     "metadata": {},
     "output_type": "execute_result"
    }
   ],
   "source": [
    "description_titles=[]\n",
    "for i in description_tags:\n",
    "    description_titles.append(i.text)\n",
    "description_titles[0:40]"
   ]
  },
  {
   "cell_type": "code",
   "execution_count": 293,
   "id": "7dee2f85",
   "metadata": {},
   "outputs": [
    {
     "data": {
      "text/plain": [
       "110"
      ]
     },
     "execution_count": 293,
     "metadata": {},
     "output_type": "execute_result"
    }
   ],
   "source": [
    "price_tags=driver.find_elements(By.XPATH,'//p')\n",
    "len(price_tags)"
   ]
  },
  {
   "cell_type": "code",
   "execution_count": 294,
   "id": "6b20435e",
   "metadata": {},
   "outputs": [
    {
     "data": {
      "text/plain": [
       "['When it comes to high-end hypercars and super-fast supercars, a few companies should come to mind first: Bugatti, Ferrari, Koenigsegg, Rimac, and Pagani, among others. These manufacturers have cemented themselves as the top dogs in the supercar and hypercar space, extending to their wealthiest clientele the fastest, rarest, prettiest – and in this case – most expensive cars on the planet.',\n",
       " \"But in order to find out which of these unattainable-to-most vehicles is the priciest, we've scoured the invoice sheets and uncovered 40 cars all worth $1 million or more. The group includes hybrid Ferrari convertibles, an American speed king, a few electric Hypercars, and two a one-of-a-kind Rolls-Royce cars built for royalty.\",\n",
       " 'We should note, though: The prices listed here are the price of the vehicles when new. So we’re not counting auction cars like the Ferrari 250 GTO, or overpriced secondhand sales. But don’t worry, there’s still hundreds of millions worth of cars here to whet your appetite.',\n",
       " 'Top Videos:',\n",
       " 'Price: $1.2 Million',\n",
       " 'The Drako GTE is a super sedan in every sense of the word. Packing 1,200 horsepower and a whopping 6,491 pound-feet of torque from a fully electric powertrain, the GTE can hit 60 in just about 2.0 seconds and tops out at 206 miles per hour. The cost for this family-friendly rocket is a cool $1.2 million.',\n",
       " 'Price: $1.3 Million',\n",
       " 'The De Tomaso P72 is basically the definition of beautiful. The shapely supercar debuted at the 2019 Goodwood Festival Of Speed with a supercharged Ford V8 boasting 700 horsepower. The P72 marked the return of the DeTomaso brand after nearly 30 years on hiatus, and if you want one, it will cost you at least $1.3 million.',\n",
       " 'Price: $1.4 Million',\n",
       " 'At $1.4 million new, the Ferrari LaFerrari is actually one of the most affordable supercars on this list. It’s a bargain compared to the most expensive vehicle here. Debuting in 2013 with 950 hybrid horses (708 kilowatts) and a top speed of around 220 miles per hour (354 kilometers per hour), this is still Ferrari’s fastest and most powerful production model to date. The company built just 499 examples of the coupe between 2013 and 2016.',\n",
       " 'Price: $1.4 Million',\n",
       " 'Inarguably one of the prettiest cars on this list, the Pagani Huayra cost a cool $1.4 million when new. Like the LaFerrari, Pagani built the Huayra in extremely limited numbers. The company hand-constructed just 100 units of the coupe between 2012 and 2018, with another 20 versions of the BC model (which makes our list further down) between 2017 and 2019. Powering each and every example was a Mercedes-AMG V12 capable of 720 horsepower (537 kilowatts).',\n",
       " 'Price: $1.7 Million',\n",
       " 'The McLaren Elva is one of the latest additions to the British supercar maker’s storied legacy. Even without a proper windshield (though, no option) or roof to rely on, the Elva produces 804 horsepower and 590 pound-feet of torque from its twin-turbocharged 4.0-liter V8. Originally McLaren announced just 399 units, but later the company dropped that to an even more scarce 249 examples. Either way, most of you will never get your hands on one – the Elva costs $1.7 million.',\n",
       " 'Price: $1.7 Million',\n",
       " 'You might not know the name Czinger yet, but this California-based boutique automaker is responsible for the $1.7 million 21C supercar. With 1,250 horsepower on tap thanks to a 2.9-liter twin-turbocharged V8, the 21C can rocket to 60 miles per hour in 1.9 seconds and a top speed of around 281 miles per hour.',\n",
       " 'Price: $1.7 Million',\n",
       " 'Much like the roof-less McLaren Elva, the Ferrari Monza SP1 and SP2 are all about al fresco motoring. As the name implies, the SP1 is the single-seater option while the SP2 has just enough room for you to bring along a friend. Both cars come powered by the same naturally aspirated 6.5-liter V12 engine capable of 809 horsepower and 530 pound-feet. Unfortunately for US buyers, neither of these models are street legal in the States. But f you have the funds to afford the car’s $1.75 million price tag, getting onto a track probably won’t be an issue anyway.',\n",
       " 'Price: $1.7 Million',\n",
       " \"The second and slightly more affordable supercar in the new Gordon Murray lineup is the T.33. With 607 horsepower courtesy of a naturally aspirated 3.9-liter V12, the T.33 revs to a ridiculous 10,500 RPM. With a price tag of around $1.7 million at current conversion rates, Gordon Murray automotive promises to sell this car globally, in both right- and left-hand-drive configurations. Too bad it's already sold out.\",\n",
       " 'Price: $1.7 Million',\n",
       " 'One of two Koenigsegg models on this list, the Gemera is actually the Swedish supercar maker’s first four-seater. But that doesn’t mean it’s some family car. With a twin-turbocharged 2.0-liter engine under the hood and three electric motors, the Gemera has 1,700 horsepower and will hit 60 in just 1.9 seconds. The company only plans to build 300 of them, each one costing at least $1.7 million.',\n",
       " 'Price: $1.7 Million',\n",
       " 'Hailing from Denmark, the Zenvo TSR-S debuted in 2018 at the Geneva Motor Show as the most extreme option in the supercar startup’s repertoire. Boasting a twin-charged 5.8-liter V8 engine, the TSR-S produces 1,177 horsepower and will hit 62 miles per hour in just 2.8 seconds. Expect to pay at least $1.7 million to get your hands on this powerful and limited supercar.',\n",
       " 'Price: $1.8 Million',\n",
       " 'The Hennessey Venom GT was a record-breaker, topping out at 265.7 miles per hour in a world record run. But the new F5 plans to beat its predecessor with an estimated top speed of 311 mph, and with that comes a higher price, too. The Venom F5 starts at $1.8 million, according to the company, which makes it just a bit pricier than its $1.2-million predecessor.',\n",
       " 'Price: $1.9 Million',\n",
       " 'With just 12 total units produced, the Bentley Bacalar makes some of the \"limited\" cars on this list look plentiful by comparison. Although the car’s opulent design may be the first thing to grab your attention, the Bacalar is no slouch in terms of performance either. With Bentley’s signature turbocharged 6.0-liter W12 turbocharged engine, this car delivers 650 horsepower and 664 pound-feet. If you have a spare $1.9 million lying around and are considering buying one, you’re already too late – Bentley says that every example is now in customer hands.',\n",
       " 'Price: $1.9 Million',\n",
       " \"To call the Hispano Suiza Carmen Boulogne beautiful would be... a stretch. But this interesting-looking supercar made its US debut at this year's Amelia Island Concours d'Elegance boasting a 1,114-horsepower electric powertrain and a 0-60 time of 2.6 seconds. The Boulogne version pictured here – the lighter and more powerful of the two – costs close to $1.9 million.\",\n",
       " 'Price: $2.0 Million',\n",
       " \"The electric onslaught is coming. Bentley says it will be a fully electric automaker by 2030. But before the luxury brand transitions to battery power fully, the Mulliner Batur helps send the iconic W12 engine off in style. With 710 horsepower from that twin-turbocharged engine, the Batur is the most powerful Bentley ever. And since it's limited to just 18 examples globally, the Batur costs a whopping $2.0 million.\",\n",
       " 'Price: $2.0 Million',\n",
       " 'The Deus Vayanne may not be a household name (yet), but the all-electric hypercar debuted earlier this year with 2,200 horsepower, a 0-60 time of just under 2.0 seconds, and an estimated top speed of 248 miles per hour. Deus plans to build 99 examples of the Vayanne, with the first few examples scheduled to go on sale in 2025.',\n",
       " 'Price: $2.0 Million*',\n",
       " 'Although initially cloaked in controversy, SSC did manage to hit 282.9 miles per hour with its Tuatara hypercar, breaking a world record. But not only is the Tuatara one of the fastest vehicles on the planet, it’s also one of the priciest. The cost for all that speed is estimated to be around $2.0 million for the base Tuatara, limited to just 100 units worldwide.',\n",
       " 'Price: $2.1 Million',\n",
       " 'With a new Emira sports car and an Eletre electric SUV, Lotus is on the brink of a comeback. The automaker plans to roll out a number of new products within the next few years, with part of that strategy including the range-topping Evija. This supercar comes in at a cool $2.1 million and produces nearly 2,000 horsepower via four electric motors. Lotus plans to build just 130 road-going examples of the Evija.',\n",
       " 'Price: $2.3 Million',\n",
       " 'As with a few other cars on this list, the Aston Martin Vulcan was a track-only special. The British supercar made its world debut in 2015, powered by a naturally aspirated 7.0-liter V12 that produced 820 horsepower, and limited to just 24 examples worldwide. An even more track-focused AMR Pro model followed, but even the base Vulcan was a pricey commodity, costing about $2.4-million from the factory.']"
      ]
     },
     "execution_count": 294,
     "metadata": {},
     "output_type": "execute_result"
    }
   ],
   "source": [
    "price_titles=[]\n",
    "for i in price_tags:\n",
    "    price_titles.append(i.text)\n",
    "price_titles[0:40]"
   ]
  },
  {
   "cell_type": "code",
   "execution_count": null,
   "id": "adfd63cb",
   "metadata": {},
   "outputs": [],
   "source": []
  }
 ],
 "metadata": {
  "kernelspec": {
   "display_name": "Python 3 (ipykernel)",
   "language": "python",
   "name": "python3"
  },
  "language_info": {
   "codemirror_mode": {
    "name": "ipython",
    "version": 3
   },
   "file_extension": ".py",
   "mimetype": "text/x-python",
   "name": "python",
   "nbconvert_exporter": "python",
   "pygments_lexer": "ipython3",
   "version": "3.9.13"
  }
 },
 "nbformat": 4,
 "nbformat_minor": 5
}
